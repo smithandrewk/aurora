{
 "cells": [
  {
   "cell_type": "markdown",
   "metadata": {},
   "source": [
    "# sleep\n",
    "The following is a diagram of the tree structure of the repository.\n",
    "```\n",
    ".\n",
    "├── data\n",
    "│   ├── README.md\n",
    "├── logs\n",
    "│   ├── 1617040190.9484377\n",
    "│   ├── 1617040246.9613357\n",
    "│   ├── 1617040355.7140718\n",
    "│   ├── 1617040428.4261482\n",
    "│   └── 1617040538.6125515\n",
    "├── makefile\n",
    "├── model\n",
    "│   ├── best_model.h5\n",
    "│   ├── best_transformer.h5\n",
    "│   ├── saved_model.pb\n",
    "│   └── variables\n",
    "├── notebooks\n",
    "│   ├── data.ipynb\n",
    "│   ├── main.ipynb\n",
    "│   ├── mlp_from_split.ipynb\n",
    "│   ├── presentation.ipynb\n",
    "│   ├── timeseries.ipynb\n",
    "│   ├── train.ipynb\n",
    "│   └── transformer.ipynb\n",
    "├── README.md\n",
    "├── requirements.txt\n",
    "├── scripts\n",
    "│   ├── train_backup.py\n",
    "│   ├── train.py\n",
    "│   ├── transformer.py\n",
    "│   └── unzipAndRenameData.py\n",
    "└── utils\n",
    "    ├── style.txt\n",
    "    └── utils.py\n",
    "```\n",
    "# Obtain and Preprocess Data\n",
    "## Obtain Data\n",
    "We have a tarred and gzipped data file on Google Drive which can be navigated to and downloaded by hand with the following command in the top level of the tree structure:\n",
    "```\n",
    "make downloaddata\n",
    "```\n",
    "Make sure to place the file \"RawSleepData.tar.gz\" in ./data. The data files contained in the tarred and gzipped package are 24 files named as the following:\n",
    "```\n",
    " 10secScoredDataPowerControl.xls\n",
    " 10secScoredDataPowerSleepDeprivation.xls\n",
    "'2020 Feb A Control 10 sec Scored Data Power Activity and EMG.xls'\n",
    "'2020 Feb B Control 1 10 sec Scored Data Power Activity and EMG.xls'\n",
    "'2020 Feb B Control 2 10 sec Scored Data Power Activity and EMG.xls'\n",
    "'2020 Feb B Sleep Dep 10 sec Scored Data Power Activity and EMG.xls'\n",
    "'2020 Feb C Control 10 sec Scored Data Power Activity and EMG.xls'\n",
    "'2020 Feb C Sleep Dep 10 sec Scored Data Power Activity and EMG.xls'\n",
    "'2020 Feb D Control 10 sec Scored Data Power Activity and EMG.xls'\n",
    "'2020 Feb D Sleep Dep 10 sec Scored Data Power Activity and EMG.xls'\n",
    "'2020 Feb F Control 10 sec Scored Data Power Activity and EMG.xls'\n",
    "'2020 Feb F Sleep Dep 10 sec Scored Data Power Activity and EMG.xls'\n",
    "'2020 Jun A Control 10 sec Scored Data Power Activity and EMG.xls'\n",
    "'2020 Jun A Sleep Dep 10 sec Scored Data Power Activity and EMG.xls'\n",
    "'2020 Jun B Control 10 sec Scored Data Power Activity and EMG.xls'\n",
    "'2020 Jun B Sleep Dep 10 sec Scored Data Power Activity and EMG.xls'\n",
    "'2020 Jun C Control 10 sec Scored Data Power Activity and EMG.xls'\n",
    "'2020 Jun C Sleep Dep 10 sec Scored Data Power Activity and EMG.xls'\n",
    "'2020 Jun D Control Not Scored 10 sec Scored Data Power Activity and EMG.xls'\n",
    "'2020 Jun D Sleep Dep Not Scored 10 sec Scored Data Power Activity and EMG.xls'\n",
    "'2020 Jun E Control Not Scored 10 sec Scored Data Power Activity and EMG No score.xls'\n",
    "'2020 Jun E Sleep Dep Not Scored 10 sec Scored Data Power Activity and EMG No score.xls'\n",
    "'2020 Jun F Control Not Scored 10 sec Scored Data Power Activity and EMG No score.xls'\n",
    "'2020 Jun F Sleep Dep Not Scored 10 sec Scored Data Power Activity and EMG No score.xls'\n",
    "```\n",
    "We want to unzip, extract the tar archive, and rename these raw data files. To do this, execute the following command\n",
    "```\n",
    "make renameZIP\n",
    "```\n",
    "This command will give the following directory structure in ./data:\n",
    "```\n",
    ".\n",
    "├── mapping\n",
    "├── raw\n",
    "├── RawSleepData.tar\n",
    "├── README.md\n",
    "└── renamed\n",
    "```\n",
    "./data/raw contains the raw files (not renamed). ./data/renamed contains the raw files, renamed to the following naming structure:\n",
    "```\n",
    "0.xls\n",
    "1.xls\n",
    ".\n",
    ".\n",
    ".\n",
    "23.xls\n",
    "```\n",
    "where the mapping between names is given in the file ./data/mapping.\n",
    "To convert from .xls to .csv\n",
    "``` ssconvert input.xls output.csv ```\n"
   ]
  },
  {
   "cell_type": "markdown",
   "metadata": {},
   "source": [
    "# Download Models\n",
    "We want to download the trained machine learning models stored in Google Drive. Run the following command:\n",
    "```\n",
    "make downloadmodels\n",
    "```\n",
    "Make sure to save \"best_model.h5\", \"best_transformer.h5\", \"saved_model.pb\", and \"rf_model\" in the new \"model\" directory. "
   ]
  },
  {
   "cell_type": "markdown",
   "metadata": {},
   "source": [
    "# Download And Rename NeuroScore ZDB files\n",
    "Download ZDB files that corrospond to the xls files from Dropbox\n",
    "\n",
    "NOTE: The ZDB files must have each been scored at least once in Neuroscore.\n",
    "\n",
    "Run the following command to unzip and rename the ZDB files:\n",
    "```\n",
    "make renameZDB\n",
    "```\n",
    "\n",
    "This will create data/rawZDB, which has the raw ZDB files, and data/renamedZDB, which has the ZDB files renamed following the mapping as the xls data files.\n"
   ]
  },
  {
   "cell_type": "markdown",
   "metadata": {},
   "source": [
    "# Initial Preprocessing\n",
    "We want to preprocess each file in ./data/renamed"
   ]
  },
  {
   "cell_type": "code",
   "execution_count": null,
   "metadata": {},
   "outputs": [],
   "source": [
    "import os\n",
    "from utils.utils import preprocess\n",
    "\n",
    "## Preprocess\n",
    "i = 0\n",
    "for file in os.listdir(\"data/renamed\"):\n",
    "    print(\"Iteration \" + str(i))\n",
    "    preprocess(file)\n",
    "    i += 1"
   ]
  },
  {
   "cell_type": "markdown",
   "metadata": {},
   "source": [
    "# Anomalys\n",
    "For some reason anomalies in certain files (21)"
   ]
  },
  {
   "cell_type": "code",
   "execution_count": null,
   "metadata": {},
   "outputs": [],
   "source": [
    "import pandas as pd\n",
    "unscored_list = []\n",
    "for file in os.listdir(\"data/preprocessed\"):\n",
    "    df = pd.read_csv(\"data/preprocessed/\"+file)\n",
    "    print(\"======================================\"+file)\n",
    "    if(df.columns[0]!=\"Class\"):\n",
    "        print(\"NOT SCORED\")\n",
    "        unscored_list.append(\"data/preprocessed/\"+file)\n",
    "        continue\n",
    "    if(df.columns[1]!=\"0-0.5\"):\n",
    "        print(\"ANOMALY\")\n",
    "        df.rename(columns={\"EEG 1 (0-0.5 Hz, 0-0.5Hz , 10s) (Mean, 10s)\":\"0-0.5\"},inplace=True)\n",
    "    EEG_2 = df[\"EEG 2\"]\n",
    "    Activity = df[\"Activity\"]\n",
    "    X = df.iloc[:,:-2]\n",
    "    X.insert(X.shape[1],\"EEG 2\",EEG_2)\n",
    "    X.insert(X.shape[1],\"Activity\",Activity)\n",
    "    X.to_csv(\"data/preprocessed/\"+file,index=False)\n"
   ]
  },
  {
   "cell_type": "code",
   "execution_count": null,
   "metadata": {},
   "outputs": [],
   "source": [
    "l = unscored_list[0]\n",
    "l[18:]"
   ]
  },
  {
   "cell_type": "markdown",
   "metadata": {},
   "source": [
    "# Window"
   ]
  },
  {
   "cell_type": "code",
   "execution_count": null,
   "metadata": {},
   "outputs": [],
   "source": [
    "from tqdm import tqdm\n",
    "def window_data(target_filename):\n",
    "    df = pd.read_csv(target_filename)\n",
    "    if ( not os.path.isdir('data/windowed')):\n",
    "        os.system('mkdir data/windowed')\n",
    "    new_target_filename = target_filename.replace(\".csv\",'')\n",
    "    new_target_filename = \"data/windowed/\"+new_target_filename[18:]+\"_windowed.csv\"\n",
    "    os.system('touch '+new_target_filename)\n",
    "\n",
    "    for i in tqdm(range(len(df)-4)):\n",
    "        win = df.iloc[i:i+5]\n",
    "        x = win.values.flatten()\n",
    "        X = pd.DataFrame(x).T\n",
    "        if i==0:\n",
    "            X.to_csv(new_target_filename, mode='a', index=False)\n",
    "        else:\n",
    "            X.to_csv(new_target_filename, mode='a', index=False, header=False)"
   ]
  },
  {
   "cell_type": "code",
   "execution_count": null,
   "metadata": {},
   "outputs": [],
   "source": [
    "from pandas import read_csv\n",
    "i = 0\n",
    "for file in unscored_list:\n",
    "    print(\"Iteration: \" + str(i))\n",
    "    print(file)\n",
    "    # X = read_csv(i)\n",
    "    window_data(file)\n",
    "    i += 1"
   ]
  },
  {
   "cell_type": "markdown",
   "metadata": {},
   "source": [
    "# Scale"
   ]
  },
  {
   "cell_type": "code",
   "execution_count": null,
   "metadata": {},
   "outputs": [],
   "source": [
    "i = 0\n",
    "for file in os.listdir(\"data/windowed\"):\n",
    "    filename = \"data/windowed/\"+file\n",
    "    X = read_csv(filename)\n",
    "    from sklearn.preprocessing import MinMaxScaler\n",
    "\n",
    "    scaler = MinMaxScaler()\n",
    "    print(\"Iteration: \" + str(i))\n",
    "    X = scaler.fit_transform(X)\n",
    "    if ( not os.path.isdir('data/windowed_scaled')):\n",
    "        os.system('mkdir data/windowed_scaled')\n",
    "    file = file.replace(\"_preprocessed_windowed.csv\", \"\")\n",
    "    filename = \"data/windowed_scaled/\"+file+\"_windowed_scaled.csv\"\n",
    "    pd.DataFrame(X).to_csv(filename, index=False)\n",
    "    print(filename)\n",
    "    i += 1\n"
   ]
  },
  {
   "cell_type": "markdown",
   "metadata": {},
   "source": [
    "# Score ANN"
   ]
  },
  {
   "cell_type": "code",
   "execution_count": null,
   "metadata": {},
   "outputs": [],
   "source": [
    "def score_data_ann(target_filename):\n",
    "    import numpy as np\n",
    "    X = read_csv(\"data/windowed_scaled/\"+target_filename)\n",
    "    X = np.array(X)\n",
    "\n",
    "    from keras.models import load_model\n",
    "    model = load_model('model/best_model.h5')\n",
    "    import numpy as np\n",
    "    x = np.array(X)\n",
    "    y = model.predict(x)\n",
    "    y = np.array(y)\n",
    "    y = np.argmax(y,axis=1)\n",
    "    if ( not os.path.isdir('data/predictions_ann')):\n",
    "        os.system('mkdir data/predictions_ann')\n",
    "    target_filename = target_filename.replace(\"_windowed_scaled.csv\", \"\")\n",
    "    # filename = \"data/predictions/\"+target_filename+\"_scored_ann.csv\"\n",
    "    filename = \"data/predictions_ann/\"+target_filename+\".csv\"\n",
    "    pd.DataFrame(y).to_csv(filename, index=False)\n",
    "    print(filename)"
   ]
  },
  {
   "cell_type": "code",
   "execution_count": null,
   "metadata": {},
   "outputs": [],
   "source": [
    "for file in os.listdir(\"data/windowed_scaled\"):\n",
    "    score_data_ann(file)"
   ]
  },
  {
   "cell_type": "markdown",
   "metadata": {},
   "source": [
    "# Score RF"
   ]
  },
  {
   "cell_type": "code",
   "execution_count": null,
   "metadata": {},
   "outputs": [],
   "source": [
    "from pandas import read_csv\n",
    "import warnings\n",
    "warnings.filterwarnings(\"ignore\")\n",
    "import pandas as pd\n",
    "def score_data_rf(target_filename):\n",
    "    import joblib\n",
    "    rf_model = joblib.load(\"model/rf_model\")\n",
    "    X = read_csv(\"data/windowed/\"+target_filename)\n",
    "    y = rf_model.predict(X)\n",
    "    dct = {0: 0, 1: 0, 2: 0}\n",
    "    for i in y:\n",
    "        dct[i] += 1\n",
    "    print(dct)\n",
    "    if ( not os.path.isdir('data/predictions_rf')):\n",
    "        os.system('mkdir data/predictions_rf')\n",
    "    target_filename = target_filename.replace(\"_preprocessed_windowed.csv\", \"\")\n",
    "    # filename = \"data/predictions/\"+target_filename+\"_scored_rf.csv\"\n",
    "    filename = \"data/predictions_rf/\"+target_filename+\".csv\"\n",
    "    pd.DataFrame(y).to_csv(filename, index=False)\n",
    "    print(filename)\n",
    "    \n",
    "    # This might be used later, for now use other chunk of code on unscaled data\n",
    "    # Downloaded manually\n",
    "    # X = read_csv(\"data/windowed_scaled/\"+target_filename)\n",
    "    # y = rf_model.predict(X)\n",
    "    # dct = {0: 0, 1: 0, 2: 0}\n",
    "    # for i in y:\n",
    "    #     dct[i] += 1\n",
    "    # print(dct)\n",
    "    # if ( not os.path.isdir('data/predictions')):\n",
    "    #     os.system('mkdir data/predictions')\n",
    "    # target_filename = target_filename.replace(\"_windowed_scaled.csv\", \"\")\n",
    "    # filename = \"data/predictions/\"+target_filename+\"_scored_rf.csv\"\n",
    "    # pd.DataFrame(y).to_csv(filename, index=False)\n",
    "    # print(filename)"
   ]
  },
  {
   "cell_type": "code",
   "execution_count": null,
   "metadata": {},
   "outputs": [],
   "source": [
    "for file in os.listdir(\"data/windowed\"):\n",
    "    score_data_rf(file)"
   ]
  },
  {
   "cell_type": "markdown",
   "metadata": {},
   "source": [
    "# Expand Predictions"
   ]
  },
  {
   "cell_type": "code",
   "execution_count": null,
   "metadata": {},
   "outputs": [],
   "source": [
    "from tqdm import tqdm\n",
    "import pandas as pd\n",
    "import numpy as np\n",
    "def expand_predictions_ann(file):\n",
    "    df = pd.read_csv(\"data/predictions_ann/\"+file)\n",
    "    Y = np.array(df)\n",
    "    Y = Y.reshape(Y.shape[0],)\n",
    "    # print(len(Y))\n",
    "    lo_limit = len(Y)-1\n",
    "    hi_limit = len(Y)+3\n",
    "    Y_new = []\n",
    "    for i,x in tqdm(enumerate(range(len(Y)+4))):\n",
    "        if(i==0):\n",
    "            # print(\"i:\",i)\n",
    "            # print(Y[0])\n",
    "            # print(\"Bincount:\",Y[0])\n",
    "            Y_new.append(Y[0])\n",
    "        elif(i<5):\n",
    "            # print(\"i:\",i)\n",
    "            # print(Y[0:i])\n",
    "            # print(\"Bincount:\",np.bincount(Y[0:i]))\n",
    "            # print(\"Class:\",np.argmax(np.bincount(Y[0:i])))\n",
    "            Y_new.append(np.argmax(np.bincount(Y[0:i])))\n",
    "        # elif(i>8635 and i!=8639):\n",
    "        elif(i>lo_limit and i!=hi_limit):\n",
    "            # print(\"i:\",i)\n",
    "            # print(Y[8635-(4-(i-8635)):8635])\n",
    "            # print(\"Bincount:\",np.bincount(Y[8635-(4-(i-8635)):8635]))\n",
    "            # print(\"Class:\",np.argmax(np.bincount(Y[8635-(4-(i-8635)):8635])))\n",
    "\n",
    "            # Y_new.append(np.argmax(np.bincount(Y[8635-(4-(i-8635)):8635])))\n",
    "            Y_new.append(np.argmax(np.bincount(Y[lo_limit-(4-(i-lo_limit)):lo_limit])))\n",
    "        # elif(i==8639):\n",
    "        elif(i==hi_limit): \n",
    "            # print(\"i:\",i)\n",
    "            # print(Y[8635])\n",
    "            # print(\"Bincount:\",Y[8365])\n",
    "            # Y_new.append(Y[8365])\n",
    "            Y_new.append(Y[lo_limit])\n",
    "        else:\n",
    "            # print(\"i:\",i)\n",
    "            # print(Y[i-4:i])\n",
    "            # print(\"Bincount:\",np.bincount(Y[i-4:i]))\n",
    "            # print(\"Class:\",np.argmax(np.bincount(Y[i-4:i])))\n",
    "            Y_new.append(np.argmax(np.bincount(Y[i-4:i])))\n",
    "\n",
    "    if ( not os.path.isdir('data/expanded_predictions_ann')):\n",
    "        os.system('mkdir data/expanded_predictions_ann')\n",
    "    \n",
    "        print(Y.shape[0], len(Y_new))\n",
    "    pd.DataFrame(Y_new).to_csv(\"data/expanded_predictions_ann/\"+file,index=False)\n",
    "\n",
    "    # if file[-6:] == \"rf.csv\":\n",
    "    #     if ( not os.path.isdir('data/expanded_predictions_rf')):\n",
    "    #             os.system('mkdir data/expanded_predictions_rf')\n",
    "    #     pd.DataFrame(Y_new).to_csv(\"data/expanded_predictions_rf/\"+file,index=False)\n"
   ]
  },
  {
   "cell_type": "code",
   "execution_count": null,
   "metadata": {},
   "outputs": [],
   "source": [
    "for file in os.listdir(\"data/predictions_ann\"):\n",
    "    expand_predictions_ann(file)"
   ]
  },
  {
   "cell_type": "code",
   "execution_count": null,
   "metadata": {},
   "outputs": [],
   "source": [
    "def expand_predictions_rf(file):\n",
    "    df = pd.read_csv(\"data/predictions_rf/\"+file)\n",
    "    Y = np.array(df)\n",
    "    Y = Y.reshape(Y.shape[0],)\n",
    "    # print(len(Y))\n",
    "    lo_limit = len(Y)-1\n",
    "    hi_limit = len(Y)+3\n",
    "    Y_new = []\n",
    "    for i,x in tqdm(enumerate(range(len(Y)+4))):\n",
    "        if(i==0):\n",
    "            # print(\"i:\",i)\n",
    "            # print(Y[0])\n",
    "            # print(\"Bincount:\",Y[0])\n",
    "            Y_new.append(Y[0])\n",
    "        elif(i<5):\n",
    "            # print(\"i:\",i)\n",
    "            # print(Y[0:i])\n",
    "            # print(\"Bincount:\",np.bincount(Y[0:i]))\n",
    "            # print(\"Class:\",np.argmax(np.bincount(Y[0:i])))\n",
    "            Y_new.append(np.argmax(np.bincount(Y[0:i])))\n",
    "        # elif(i>8635 and i!=8639):\n",
    "        elif(i>lo_limit and i!=hi_limit):\n",
    "            # print(\"i:\",i)\n",
    "            # print(Y[8635-(4-(i-8635)):8635])\n",
    "            # print(\"Bincount:\",np.bincount(Y[8635-(4-(i-8635)):8635]))\n",
    "            # print(\"Class:\",np.argmax(np.bincount(Y[8635-(4-(i-8635)):8635])))\n",
    "            \n",
    "            # Y_new.append(np.argmax(np.bincount(Y[8635-(4-(i-8635)):8635])))\n",
    "            Y_new.append(np.argmax(np.bincount(Y[lo_limit-(4-(i-lo_limit)):lo_limit])))\n",
    "        elif(i==hi_limit):\n",
    "            # print(\"i:\",i)\n",
    "            # print(Y[8635])\n",
    "            # print(\"Bincount:\",Y[8365])\n",
    "            Y_new.append(Y[lo_limit])\n",
    "        else:\n",
    "            # print(\"i:\",i)\n",
    "            # print(Y[i-4:i])\n",
    "            # print(\"Bincount:\",np.bincount(Y[i-4:i]))\n",
    "            # print(\"Class:\",np.argmax(np.bincount(Y[i-4:i])))\n",
    "            Y_new.append(np.argmax(np.bincount(Y[i-4:i])))\n",
    "\n",
    "    if ( not os.path.isdir('data/expanded_predictions_rf')):\n",
    "        os.system('mkdir data/expanded_predictions_rf')\n",
    "    pd.DataFrame(Y_new).to_csv(\"data/expanded_predictions_rf/\"+file,index=False)\n"
   ]
  },
  {
   "cell_type": "code",
   "execution_count": null,
   "metadata": {},
   "outputs": [],
   "source": [
    "for file in os.listdir(\"data/predictions_rf\"):\n",
    "    expand_predictions_rf(file)"
   ]
  },
  {
   "cell_type": "code",
   "execution_count": null,
   "metadata": {},
   "outputs": [],
   "source": [
    "if ( not os.path.isdir('data/expanded_combined_rf')):\n",
    "        os.system('mkdir data/expanded_combined_rf')\n",
    "\n",
    "if ( not os.path.isdir('data/expanded_combined_ann')):\n",
    "        os.system('mkdir data/expanded_combined_ann')"
   ]
  },
  {
   "cell_type": "code",
   "execution_count": null,
   "metadata": {},
   "outputs": [],
   "source": [
    "for i in os.listdir(\"data/expanded_predictions_rf\"):\n",
    "    df = pd.read_csv(\"data/expanded_predictions_rf/\" + i)\n",
    "    i = i.replace(\"data/expanded_combined_rf/\", \"\")\n",
    "    for j in os.listdir(\"data/expanded_predictions_rf\"):\n",
    "        df1 = pd.read_csv(\"data/expanded_predictions_rf/\" + j)\n",
    "        j = j.replace(\"data/expanded_combined_rf/\", \"\")\n",
    "        if i[7:11] == j[7:11]:\n",
    "            if i[12:] != j[12:]:\n",
    "                frames = [df, df1]\n",
    "                df2 = pd.concat(frames)\n",
    "                df2.to_csv(\"data/expanded_combined_rf/\" + i[0:11] + \"_combined.csv\")\n",
    "\n",
    "for i in os.listdir(\"data/expanded_predictions_ann\"):\n",
    "    df = pd.read_csv(\"data/expanded_predictions_ann/\" + i)\n",
    "    i = i.replace(\"data/expanded_combined_ann/\", \"\")\n",
    "    for j in os.listdir(\"data/expanded_predictions_ann\"):\n",
    "        df1 = pd.read_csv(\"data/expanded_predictions_ann/\" + j)\n",
    "        j = j.replace(\"data/expanded_combined_ann/\", \"\")\n",
    "        if i[7:11] == j[7:11]:\n",
    "            if i[12:] != j[12:]:\n",
    "                frames = [df, df1]\n",
    "                df2 = pd.concat(frames)\n",
    "                df2.to_csv(\"data/expanded_combined_ann/\" + i[0:11] + \"_combined.csv\")\n",
    "\n"
   ]
  },
  {
   "cell_type": "code",
   "execution_count": null,
   "metadata": {},
   "outputs": [],
   "source": [
    "# i = 0\n",
    "# import pandas as pd\n",
    "# if ( not os.path.isdir('data/expanded_predictions_rf_renamed')):\n",
    "#                 os.system('mkdir data/expanded_predictions_rf_renamed')\n",
    "\n",
    "# if ( not os.path.isdir('data/expanded_predictions_ann_renamed')):\n",
    "#                 os.system('mkdir data/expanded_predictions_ann_renamed')\n",
    "\n",
    "# with open(\"data/mapping\") as f:\n",
    "#     df = pd.read_csv(\"expanded_predictions_ann/\"+str(i)+\"_scored_ann.csv\")\n",
    "#     for line in f:\n",
    "#         print(len(line))\n",
    "#         df.to_csv(\"data/expanded_predictions_ann_renamed/\"+line.replace(\".xls\",\".csv\"),index=False)\n",
    "\n",
    "#     df1 = pd.read_csv(\"expanded_predictions_rf/\"+str(i)+\"_scored_rf.csv\")\n",
    "#     for line in f:\n",
    "#         print(len(line))\n",
    "#         df.to_csv(\"data/expanded_predictions_rf_renamed/\"+line.replace(\".xls\",\".csv\"),index=False)\n",
    "#     i += 1\n"
   ]
  },
  {
   "cell_type": "code",
   "execution_count": null,
   "metadata": {},
   "outputs": [],
   "source": [
    "if ( not os.path.isdir('data/expanded_renamed_rf')):\n",
    "        os.system('mkdir data/expanded_renamed_rf')\n",
    "\n",
    "if ( not os.path.isdir('data/expanded_renamed_ann')):\n",
    "        os.system('mkdir data/expanded_renamed_ann')\n",
    "\n",
    "if ( not os.path.isdir('data/expanded_combined_renamed_rf')):\n",
    "        os.system('mkdir data/expanded_combined_renamed_rf')\n",
    "\n",
    "if ( not os.path.isdir('data/expanded_combined_renamed_ann')):\n",
    "        os.system('mkdir data/expanded_combined_renamed_ann')"
   ]
  },
  {
   "cell_type": "code",
   "execution_count": null,
   "metadata": {},
   "outputs": [],
   "source": [
    "#rename_dict = {0: 'P', 1: 'S', 2: 'W'}\n",
    "rename_dict = {0: 'Sleep-Paradoxical', 1: 'Sleep-SWS', 2: 'Sleep-Wake'}\n",
    "rename_dict"
   ]
  },
  {
   "cell_type": "code",
   "execution_count": null,
   "metadata": {},
   "outputs": [],
   "source": [
    "from pandas import read_csv\n",
    "import pandas as pd"
   ]
  },
  {
   "cell_type": "code",
   "execution_count": null,
   "metadata": {},
   "outputs": [],
   "source": [
    "for file in os.listdir('data/expanded_predictions_ann'):\n",
    "    df = read_csv('data/expanded_predictions_ann/' + file)\n",
    "    y = df['0']\n",
    "    new_y = []\n",
    "    for i in y:\n",
    "        new_y.append(rename_dict[i])\n",
    "    pd.DataFrame(new_y).to_csv(\"data/expanded_renamed_ann/\"+file,index=False)"
   ]
  },
  {
   "cell_type": "code",
   "execution_count": null,
   "metadata": {},
   "outputs": [],
   "source": [
    "for file in os.listdir('data/expanded_predictions_rf'):\n",
    "    df = read_csv('data/expanded_predictions_rf/' + file)\n",
    "    y = df['0']\n",
    "    new_y = []\n",
    "    for i in y:\n",
    "        new_y.append(rename_dict[i])\n",
    "    pd.DataFrame(new_y).to_csv(\"data/expanded_renamed_rf/\"+file,index=False)"
   ]
  },
  {
   "cell_type": "code",
   "execution_count": null,
   "metadata": {},
   "outputs": [],
   "source": [
    "for file in os.listdir('data/expanded_combined_rf'):\n",
    "    df = read_csv('data/expanded_combined_rf/' + file)\n",
    "    y = df['0']\n",
    "    new_y = []\n",
    "    for i in y:\n",
    "        new_y.append(rename_dict[i])\n",
    "    pd.DataFrame(new_y).to_csv(\"data/expanded_combined_renamed_rf/\"+file,index=False)"
   ]
  },
  {
   "cell_type": "code",
   "execution_count": null,
   "metadata": {},
   "outputs": [],
   "source": [
    "for file in os.listdir('data/expanded_combined_ann'):\n",
    "    df = read_csv('data/expanded_combined_ann/' + file)\n",
    "    y = df['0']\n",
    "    new_y = []\n",
    "    for i in y:\n",
    "        new_y.append(rename_dict[i])\n",
    "    pd.DataFrame(new_y).to_csv(\"data/expanded_combined_renamed_ann/\"+file,index=False)"
   ]
  },
  {
   "cell_type": "markdown",
   "metadata": {},
   "source": [
    "# Remap names"
   ]
  },
  {
   "cell_type": "code",
   "execution_count": null,
   "metadata": {},
   "outputs": [],
   "source": [
    "import os\n",
    "mapping = open('data/mapping').read().splitlines()\n",
    "i=0\n",
    "os.system('mkdir data/final_ann')\n",
    "for file in os.listdir('data/expanded_renamed_ann'):\n",
    "    index_str = file.replace('.csv', '')\n",
    "    newName = mapping[int(index_str)].replace('.xls', '-ann.csv')\n",
    "    os.system('cp data/expanded_renamed_ann/' +file+\" data/final_ann/'\"+newName+\"'\")\n",
    "    i+=1"
   ]
  },
  {
   "cell_type": "code",
   "execution_count": null,
   "metadata": {},
   "outputs": [],
   "source": [
    "mapping = open('data/mapping').read().splitlines()\n",
    "i=0\n",
    "os.system('mkdir data/final_rf')\n",
    "for file in os.listdir('data/expanded_renamed_rf'):\n",
    "    index_str = file.replace('.csv', '')\n",
    "    newName = mapping[int(index_str)].replace('.xls', '-rf.csv')\n",
    "    os.system('cp data/expanded_renamed_rf/' +file+\" data/final_rf/'\"+newName+\"'\")\n",
    "    i+=1"
   ]
  },
  {
   "cell_type": "markdown",
   "metadata": {},
   "source": [
    "# Import CSV Predictions into Neuroscore ZDB file\n"
   ]
  },
  {
   "cell_type": "code",
   "execution_count": null,
   "metadata": {},
   "outputs": [],
   "source": [
    "import os\n",
    "import pandas as pd\n",
    "import sqlite3\n",
    "from sqlite3 import Error\n",
    "\n",
    "def ZDBConversion(csv, zdb):\n",
    "    offset = 10e7       #epoch time period\n",
    "\n",
    "    df = pd.read_csv(csv)\n",
    "    try:\n",
    "        conn = sqlite3.connect(zdb)\n",
    "    except Error as e:\n",
    "        print(e)\n",
    "\n",
    "    #create sqlite table from csv    \n",
    "    df.to_sql('raw_csv', conn, if_exists='replace', index=False)\n",
    "\n",
    "    #copy csv data into formatted table    \n",
    "    cur = conn.cursor()\n",
    "    query = \"\"\"\n",
    "            CREATE TABLE IF NOT EXISTS temp_csv (\n",
    "                id INTEGER PRIMARY KEY AUTOINCREMENT,\n",
    "                status TEXT\n",
    "            );\n",
    "            \"\"\"\n",
    "    cur.execute(query)\n",
    "\n",
    "    query = \"\"\"\n",
    "            INSERT INTO temp_csv (status)\n",
    "            SELECT * FROM raw_csv;\n",
    "            \"\"\"\n",
    "    cur.execute(query)\n",
    "\n",
    "    #drop this table - creates issues\n",
    "    query = \"DROP TABLE IF EXISTS temporary_scoring_marker;\"\n",
    "    cur.execute(query)\n",
    "\n",
    "    #get starting point for scoring\n",
    "    query = \"SELECT id FROM scoring_marker WHERE type LIKE 'Sleep%';\"\n",
    "    cur.execute(query)\n",
    "    startid = cur.fetchall()[0][0]\n",
    "\n",
    "    #get keyid of scoring\n",
    "    query = \"SELECT MAX(id) FROM scoring_revision WHERE name='Machine Data'\"\n",
    "    cur.execute(query)\n",
    "    keyid = cur.fetchall()[0][0]\n",
    "\n",
    "    #get start time to crreate epochs\n",
    "    query = 'SELECT starts_at FROM scoring_marker WHERE id = '+str(startid)+';'\n",
    "    cur.execute(query)\n",
    "    start_time = cur.fetchall()[0][0]\n",
    "    stop_time = 0\n",
    "\n",
    "    #delete first score before adding machine data\n",
    "    query = \"DELETE FROM scoring_marker WHERE id = \" + str(startid)+\";\"\n",
    "    cur.execute(query)\n",
    "\n",
    "\n",
    "    #insert new epochs with scoring into the table\n",
    "    for i in range(len(df)):\n",
    "        #calculate epoch\n",
    "        if i != 0:\n",
    "            start_time = stop_time\n",
    "        stop_time = start_time+offset\n",
    "\n",
    "        #insert epoch\n",
    "        query = f\"\"\"\n",
    "                INSERT INTO scoring_marker \n",
    "                (starts_at, ends_at, notes, type, location, is_deleted, key_id)\n",
    "                VALUES \n",
    "                ({start_time}, {stop_time}, '', '', '', 0, {keyid});\n",
    "                \"\"\" \n",
    "        cur.execute(query)\n",
    "        \n",
    "        #get current id by selecting max id\n",
    "        query = \"SELECT MAX(id) from scoring_marker\"\n",
    "        cur.execute(query)\n",
    "        currentid = cur.fetchall()[0][0]\n",
    "\n",
    "        #set score\n",
    "        query = f\"\"\"\n",
    "                UPDATE scoring_marker\n",
    "                SET type = (Select status\n",
    "                            FROM temp_csv\n",
    "                            WHERE id = {i+1})\n",
    "                WHERE id = {currentid};\n",
    "                \"\"\"\n",
    "        cur.execute(query)\n",
    "    \n",
    "    cur.execute(\"DROP TABLE temp_csv;\")\n",
    "    cur.execute(\"DROP TABLE raw_csv;\")\n",
    "\n",
    "    conn.commit()\n",
    "    conn.close()\n",
    "    return\n"
   ]
  },
  {
   "cell_type": "code",
   "execution_count": null,
   "metadata": {},
   "outputs": [],
   "source": [
    "import os\n",
    "\n",
    "os.system('mkdir data/ZDB_ann')\n",
    "i=0\n",
    "for csv in os.listdir('data/expanded_renamed_ann'):\n",
    "    zdb = 'data/renamedZDB/'+str(i)+'.zdb'\n",
    "    new_zdb = 'data/ZDB_ann/'+str(i)+'.zdb'\n",
    "    os.system(\"cp \"+zdb+\" \"+new_zdb)\n",
    "    csv_path = \"data/expanded_renamed_ann/\"+csv\n",
    "    ZDBConversion(csv_path, new_zdb)\n",
    "    i += 1"
   ]
  },
  {
   "cell_type": "code",
   "execution_count": null,
   "metadata": {},
   "outputs": [],
   "source": [
    "import os\n",
    "\n",
    "os.system('mkdir data/ZDB_rf')\n",
    "i=0\n",
    "for csv in os.listdir('data/expanded_renamed_rf'):\n",
    "    zdb = 'data/renamedZDB/'+str(i)+'.zdb'\n",
    "    new_zdb = 'data/ZDB_rf/'+str(i)+'.zdb'\n",
    "    os.system(\"cp \"+zdb+\" \"+new_zdb)\n",
    "    csv_path = \"data/expanded_renamed_rf/\"+csv\n",
    "    ZDBConversion(csv_path, new_zdb)\n",
    "    i += 1"
   ]
  },
  {
   "cell_type": "markdown",
   "metadata": {},
   "source": [
    "Rename ZDBs to original names"
   ]
  },
  {
   "cell_type": "code",
   "execution_count": null,
   "metadata": {},
   "outputs": [],
   "source": [
    "os.system('mkdir data/ZDB_final_ann')\n",
    "mapping = open('data/ZDBmapping').read().splitlines()\n",
    "\n",
    "for zdb in os.listdir('data/ZDB_ann'):\n",
    "    index = int(zdb.replace('.zdb', ''))\n",
    "    os.system(f'cp data/ZDB_ann/\"{zdb}\" data/ZDB_final_ann/\"{mapping[index]}\"')"
   ]
  },
  {
   "cell_type": "code",
   "execution_count": null,
   "metadata": {},
   "outputs": [],
   "source": [
    "os.system('mkdir data/ZDB_final_rf')\n",
    "mapping = open('data/ZDBmapping').read().splitlines()\n",
    "\n",
    "for zdb in os.listdir('data/ZDB_rf'):\n",
    "    index = int(zdb.replace('.zdb', ''))\n",
    "    os.system(f'cp data/ZDB_rf/\"{zdb}\" data/ZDB_final_rf/\"{mapping[index]}\"')"
   ]
  }
 ],
 "metadata": {
  "interpreter": {
   "hash": "916dbcbb3f70747c44a77c7bcd40155683ae19c65e1c03b4aa3499c5328201f1"
  },
  "kernelspec": {
   "display_name": "Python 3.8.10 64-bit",
   "name": "python3"
  },
  "language_info": {
   "codemirror_mode": {
    "name": "ipython",
    "version": 3
   },
   "file_extension": ".py",
   "mimetype": "text/x-python",
   "name": "python",
   "nbconvert_exporter": "python",
   "pygments_lexer": "ipython3",
   "version": "3.8.10"
  },
  "orig_nbformat": 4
 },
 "nbformat": 4,
 "nbformat_minor": 2
}
