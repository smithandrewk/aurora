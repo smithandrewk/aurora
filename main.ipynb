{
 "cells": [
  {
   "cell_type": "markdown",
   "metadata": {},
   "source": [
    "# sleep\n",
    "The following is a diagram of the tree structure of the repository.\n",
    "```\n",
    ".\n",
    "├── data\n",
    "│   ├── README.md\n",
    "├── logs\n",
    "│   ├── 1617040190.9484377\n",
    "│   ├── 1617040246.9613357\n",
    "│   ├── 1617040355.7140718\n",
    "│   ├── 1617040428.4261482\n",
    "│   └── 1617040538.6125515\n",
    "├── makefile\n",
    "├── model\n",
    "│   ├── best_model.h5\n",
    "│   ├── best_transformer.h5\n",
    "│   ├── saved_model.pb\n",
    "│   └── variables\n",
    "├── notebooks\n",
    "│   ├── data.ipynb\n",
    "│   ├── main.ipynb\n",
    "│   ├── mlp_from_split.ipynb\n",
    "│   ├── presentation.ipynb\n",
    "│   ├── timeseries.ipynb\n",
    "│   ├── train.ipynb\n",
    "│   └── transformer.ipynb\n",
    "├── README.md\n",
    "├── requirements.txt\n",
    "├── scripts\n",
    "│   ├── train_backup.py\n",
    "│   ├── train.py\n",
    "│   ├── transformer.py\n",
    "│   └── unzipAndRenameData.py\n",
    "└── utils\n",
    "    ├── style.txt\n",
    "    └── utils.py\n",
    "```\n",
    "# Obtain and Preprocess Data\n",
    "## Obtain Data\n",
    "We have a tarred and gzipped data file on Google Drive which can be navigated to and downloaded by hand with the following command in the top level of the tree structure:\n",
    "```\n",
    "make downloaddata\n",
    "```\n",
    "Make sure to place the file \"RawSleepData.tar.gz\" in ./data. The data files contained in the tarred and gzipped package are 24 files named as the following:\n",
    "```\n",
    " 10secScoredDataPowerControl.xls\n",
    " 10secScoredDataPowerSleepDeprivation.xls\n",
    "'2020 Feb A Control 10 sec Scored Data Power Activity and EMG.xls'\n",
    "'2020 Feb B Control 1 10 sec Scored Data Power Activity and EMG.xls'\n",
    "'2020 Feb B Control 2 10 sec Scored Data Power Activity and EMG.xls'\n",
    "'2020 Feb B Sleep Dep 10 sec Scored Data Power Activity and EMG.xls'\n",
    "'2020 Feb C Control 10 sec Scored Data Power Activity and EMG.xls'\n",
    "'2020 Feb C Sleep Dep 10 sec Scored Data Power Activity and EMG.xls'\n",
    "'2020 Feb D Control 10 sec Scored Data Power Activity and EMG.xls'\n",
    "'2020 Feb D Sleep Dep 10 sec Scored Data Power Activity and EMG.xls'\n",
    "'2020 Feb F Control 10 sec Scored Data Power Activity and EMG.xls'\n",
    "'2020 Feb F Sleep Dep 10 sec Scored Data Power Activity and EMG.xls'\n",
    "'2020 Jun A Control 10 sec Scored Data Power Activity and EMG.xls'\n",
    "'2020 Jun A Sleep Dep 10 sec Scored Data Power Activity and EMG.xls'\n",
    "'2020 Jun B Control 10 sec Scored Data Power Activity and EMG.xls'\n",
    "'2020 Jun B Sleep Dep 10 sec Scored Data Power Activity and EMG.xls'\n",
    "'2020 Jun C Control 10 sec Scored Data Power Activity and EMG.xls'\n",
    "'2020 Jun C Sleep Dep 10 sec Scored Data Power Activity and EMG.xls'\n",
    "'2020 Jun D Control Not Scored 10 sec Scored Data Power Activity and EMG.xls'\n",
    "'2020 Jun D Sleep Dep Not Scored 10 sec Scored Data Power Activity and EMG.xls'\n",
    "'2020 Jun E Control Not Scored 10 sec Scored Data Power Activity and EMG No score.xls'\n",
    "'2020 Jun E Sleep Dep Not Scored 10 sec Scored Data Power Activity and EMG No score.xls'\n",
    "'2020 Jun F Control Not Scored 10 sec Scored Data Power Activity and EMG No score.xls'\n",
    "'2020 Jun F Sleep Dep Not Scored 10 sec Scored Data Power Activity and EMG No score.xls'\n",
    "```\n",
    "We want to unzip, extract the tar archive, and rename these raw data files. To do this, execute the following command\n",
    "```\n",
    "make preprocessdata\n",
    "```\n",
    "This command will give the following directory structure in ./data:\n",
    "```\n",
    ".\n",
    "├── mapping\n",
    "├── raw\n",
    "├── RawSleepData.tar\n",
    "├── README.md\n",
    "└── renamed\n",
    "```\n",
    "./data/raw contains the raw files (not renamed). ./data/renamed contains the raw files, renamed to the following naming structure:\n",
    "```\n",
    "0.xls\n",
    "1.xls\n",
    ".\n",
    ".\n",
    ".\n",
    "23.xls\n",
    "```\n",
    "where the mapping between names is given in the file ./data/mapping.\n",
    "To convert from .xls to .csv\n",
    "``` ssconvert input.xls output.csv ```\n"
   ]
  },
  {
   "cell_type": "markdown",
   "metadata": {},
   "source": [
    "# Download Models\n",
    "We want to download the trained machine learning models stored in Google Drive. Run the following command:\n",
    "```\n",
    "make downloadmodels\n",
    "```\n",
    "Make sure to save \"best_model.h5\", \"best_transformer.h5\", \"saved_model.pb\", and \"rf_model\" in the new \"model\" directory. "
   ]
  },
  {
   "cell_type": "markdown",
   "metadata": {},
   "source": [
    "# Download And Rename NeuroScore ZDB files\n",
    "Download ZDB files that corrospond to the xls files from Dropbox\n",
    "Run the following command to unzip and rename the ZDB files:\n",
    "```\n",
    "make renameZDB\n",
    "```\n",
    "\n",
    "This will create data/rawZDB, which has the raw ZDB files, and data/renamedZDB, which has the ZDB files renamed following the mapping as the xls data files.\n"
   ]
  },
  {
   "cell_type": "markdown",
   "metadata": {},
   "source": [
    "# Initial Preprocessing\n",
    "We want to preprocess each file in ./data/renamed"
   ]
  },
  {
   "cell_type": "code",
   "execution_count": 1,
   "metadata": {},
   "outputs": [
    {
     "name": "stderr",
     "output_type": "stream",
     "text": [
      "2022-02-14 13:11:46.655536: W tensorflow/stream_executor/platform/default/dso_loader.cc:64] Could not load dynamic library 'libcudart.so.11.0'; dlerror: libcudart.so.11.0: cannot open shared object file: No such file or directory\n",
      "2022-02-14 13:11:46.655634: I tensorflow/stream_executor/cuda/cudart_stub.cc:29] Ignore above cudart dlerror if you do not have a GPU set up on your machine.\n"
     ]
    },
    {
     "name": "stdout",
     "output_type": "stream",
     "text": [
      "Iteration 0\n"
     ]
    },
    {
     "name": "stderr",
     "output_type": "stream",
     "text": [
      "/home/mmazeem/Desktop/ScoringWS/aurora/utils/utils.py:88: DtypeWarning: Columns (0,1,2,3,4,5,6,7,8,9,10,11,12,13,14,15,16,17,18,19,20,21,22,23,24,25,26,27,28,29,30,31,32,33,34,35,36,37,38,39,40,41) have mixed types. Specify dtype option on import or set low_memory=False.\n",
      "  df = pd.read_csv(file) # load csv file into pandas dataframe\n"
     ]
    },
    {
     "name": "stdout",
     "output_type": "stream",
     "text": [
      "Iteration 1\n"
     ]
    },
    {
     "name": "stderr",
     "output_type": "stream",
     "text": [
      "/home/mmazeem/Desktop/ScoringWS/aurora/utils/utils.py:88: DtypeWarning: Columns (0,1,2,3,4,5,6,7,8,9,10,11,12,13,14,15,16,17,18,19,20,21,22,23,24,25,26,27,28,29,30,31,32,33,34,35,36,37,38,39,40,41) have mixed types. Specify dtype option on import or set low_memory=False.\n",
      "  df = pd.read_csv(file) # load csv file into pandas dataframe\n",
      "mkdir: cannot create directory ‘data/preprocessed’: File exists\n"
     ]
    }
   ],
   "source": [
    "import os\n",
    "from utils.utils import preprocess\n",
    "\n",
    "## Preprocess\n",
    "i = 0\n",
    "for file in os.listdir(\"data/renamed\"):\n",
    "    print(\"Iteration \" + str(i))\n",
    "    preprocess(file)\n",
    "    i += 1"
   ]
  },
  {
   "cell_type": "markdown",
   "metadata": {},
   "source": [
    "# Anomalys\n",
    "For some reason anomalies in certain files (21)"
   ]
  },
  {
   "cell_type": "code",
   "execution_count": 2,
   "metadata": {},
   "outputs": [
    {
     "name": "stdout",
     "output_type": "stream",
     "text": [
      "======================================1_preprocessed.csv\n",
      "NOT SCORED\n",
      "======================================0_preprocessed.csv\n",
      "NOT SCORED\n"
     ]
    }
   ],
   "source": [
    "import pandas as pd\n",
    "unscored_list = []\n",
    "for file in os.listdir(\"data/preprocessed\"):\n",
    "    df = pd.read_csv(\"data/preprocessed/\"+file)\n",
    "    print(\"======================================\"+file)\n",
    "    if(df.columns[0]!=\"Class\"):\n",
    "        print(\"NOT SCORED\")\n",
    "        unscored_list.append(\"data/preprocessed/\"+file)\n",
    "        continue\n",
    "    if(df.columns[1]!=\"0-0.5\"):\n",
    "        print(\"ANOMALY\")\n",
    "        df.rename(columns={\"EEG 1 (0-0.5 Hz, 0-0.5Hz , 10s) (Mean, 10s)\":\"0-0.5\"},inplace=True)\n",
    "    EEG_2 = df[\"EEG 2\"]\n",
    "    Activity = df[\"Activity\"]\n",
    "    X = df.iloc[:,:-2]\n",
    "    X.insert(X.shape[1],\"EEG 2\",EEG_2)\n",
    "    X.insert(X.shape[1],\"Activity\",Activity)\n",
    "    X.to_csv(\"data/preprocessed/\"+file,index=False)\n"
   ]
  },
  {
   "cell_type": "code",
   "execution_count": 3,
   "metadata": {},
   "outputs": [
    {
     "data": {
      "text/plain": [
       "'1_preprocessed.csv'"
      ]
     },
     "execution_count": 3,
     "metadata": {},
     "output_type": "execute_result"
    }
   ],
   "source": [
    "l = unscored_list[0]\n",
    "l[18:]"
   ]
  },
  {
   "cell_type": "markdown",
   "metadata": {},
   "source": [
    "# Window"
   ]
  },
  {
   "cell_type": "code",
   "execution_count": 4,
   "metadata": {},
   "outputs": [],
   "source": [
    "from tqdm import tqdm\n",
    "def window_data(target_filename):\n",
    "    df = pd.read_csv(target_filename)\n",
    "    Y = pd.DataFrame()\n",
    "    for i in tqdm(range(len(df)-4)):\n",
    "        win = df.iloc[i:i+5]\n",
    "        x = win.values.flatten()\n",
    "        X = pd.DataFrame(x).T\n",
    "        Y = pd.concat([Y,X])\n",
    "    df_win = Y\n",
    "    df_win = df_win.reset_index()\n",
    "    del df_win['index']\n",
    "    df = df_win\n",
    "    if ( not os.path.isdir('data/windowed')):\n",
    "        os.system('mkdir data/windowed')\n",
    "    target_filename = target_filename.replace(\".csv\",\"\")\n",
    "    df.to_csv(\"data/windowed/\"+target_filename[18:]+\"_windowed.csv\",index=False)"
   ]
  },
  {
   "cell_type": "code",
   "execution_count": 5,
   "metadata": {},
   "outputs": [
    {
     "name": "stdout",
     "output_type": "stream",
     "text": [
      "Iteration: 0\n",
      "data/preprocessed/1_preprocessed.csv\n"
     ]
    },
    {
     "name": "stderr",
     "output_type": "stream",
     "text": [
      "100%|██████████| 22436/22436 [05:12<00:00, 71.84it/s] \n"
     ]
    },
    {
     "name": "stdout",
     "output_type": "stream",
     "text": [
      "Iteration: 1\n",
      "data/preprocessed/0_preprocessed.csv\n"
     ]
    },
    {
     "name": "stderr",
     "output_type": "stream",
     "text": [
      "100%|██████████| 22436/22436 [04:50<00:00, 77.12it/s] \n"
     ]
    }
   ],
   "source": [
    "from pandas import read_csv\n",
    "i = 0\n",
    "for file in unscored_list:\n",
    "    print(\"Iteration: \" + str(i))\n",
    "    print(file)\n",
    "    # X = read_csv(i)\n",
    "    window_data(file)\n",
    "    i += 1"
   ]
  },
  {
   "cell_type": "markdown",
   "metadata": {},
   "source": [
    "# Scale"
   ]
  },
  {
   "cell_type": "code",
   "execution_count": 6,
   "metadata": {},
   "outputs": [
    {
     "name": "stdout",
     "output_type": "stream",
     "text": [
      "Iteration: 0\n",
      "data/windowed_scaled/0_windowed_scaled.csv\n",
      "Iteration: 1\n",
      "data/windowed_scaled/1_windowed_scaled.csv\n"
     ]
    }
   ],
   "source": [
    "i = 0\n",
    "for file in os.listdir(\"data/windowed\"):\n",
    "    filename = \"data/windowed/\"+file\n",
    "    X = read_csv(filename)\n",
    "    from sklearn.preprocessing import MinMaxScaler\n",
    "\n",
    "    scaler = MinMaxScaler()\n",
    "    print(\"Iteration: \" + str(i))\n",
    "    X = scaler.fit_transform(X)\n",
    "    if ( not os.path.isdir('data/windowed_scaled')):\n",
    "        os.system('mkdir data/windowed_scaled')\n",
    "    file = file.replace(\"_preprocessed_windowed.csv\", \"\")\n",
    "    filename = \"data/windowed_scaled/\"+file+\"_windowed_scaled.csv\"\n",
    "    pd.DataFrame(X).to_csv(filename, index=False)\n",
    "    print(filename)\n",
    "    i += 1\n"
   ]
  },
  {
   "cell_type": "markdown",
   "metadata": {},
   "source": [
    "# Score ANN"
   ]
  },
  {
   "cell_type": "code",
   "execution_count": 7,
   "metadata": {},
   "outputs": [],
   "source": [
    "def score_data_ann(target_filename):\n",
    "    import numpy as np\n",
    "    X = read_csv(\"data/windowed_scaled/\"+target_filename)\n",
    "    X = np.array(X)\n",
    "\n",
    "    from keras.models import load_model\n",
    "    model = load_model('model/best_model.h5')\n",
    "    import numpy as np\n",
    "    x = np.array(X)\n",
    "    y = model.predict(x)\n",
    "    y = np.array(y)\n",
    "    y = np.argmax(y,axis=1)\n",
    "    if ( not os.path.isdir('data/predictions_ann')):\n",
    "        os.system('mkdir data/predictions_ann')\n",
    "    target_filename = target_filename.replace(\"_windowed_scaled.csv\", \"\")\n",
    "    # filename = \"data/predictions/\"+target_filename+\"_scored_ann.csv\"\n",
    "    filename = \"data/predictions_ann/\"+target_filename+\".csv\"\n",
    "    pd.DataFrame(y).to_csv(filename, index=False)\n",
    "    print(filename)"
   ]
  },
  {
   "cell_type": "code",
   "execution_count": 8,
   "metadata": {},
   "outputs": [
    {
     "name": "stderr",
     "output_type": "stream",
     "text": [
      "2022-02-14 13:25:20.787484: I tensorflow/stream_executor/cuda/cuda_gpu_executor.cc:936] successful NUMA node read from SysFS had negative value (-1), but there must be at least one NUMA node, so returning NUMA node zero\n",
      "2022-02-14 13:25:20.819416: W tensorflow/stream_executor/platform/default/dso_loader.cc:64] Could not load dynamic library 'libcudart.so.11.0'; dlerror: libcudart.so.11.0: cannot open shared object file: No such file or directory\n",
      "2022-02-14 13:25:20.819887: W tensorflow/stream_executor/platform/default/dso_loader.cc:64] Could not load dynamic library 'libcublas.so.11'; dlerror: libcublas.so.11: cannot open shared object file: No such file or directory\n",
      "2022-02-14 13:25:20.820275: W tensorflow/stream_executor/platform/default/dso_loader.cc:64] Could not load dynamic library 'libcublasLt.so.11'; dlerror: libcublasLt.so.11: cannot open shared object file: No such file or directory\n",
      "2022-02-14 13:25:20.820651: W tensorflow/stream_executor/platform/default/dso_loader.cc:64] Could not load dynamic library 'libcufft.so.10'; dlerror: libcufft.so.10: cannot open shared object file: No such file or directory\n",
      "2022-02-14 13:25:20.821076: W tensorflow/stream_executor/platform/default/dso_loader.cc:64] Could not load dynamic library 'libcurand.so.10'; dlerror: libcurand.so.10: cannot open shared object file: No such file or directory\n",
      "2022-02-14 13:25:20.821457: W tensorflow/stream_executor/platform/default/dso_loader.cc:64] Could not load dynamic library 'libcusolver.so.11'; dlerror: libcusolver.so.11: cannot open shared object file: No such file or directory\n",
      "2022-02-14 13:25:20.821820: W tensorflow/stream_executor/platform/default/dso_loader.cc:64] Could not load dynamic library 'libcusparse.so.11'; dlerror: libcusparse.so.11: cannot open shared object file: No such file or directory\n",
      "2022-02-14 13:25:20.822240: W tensorflow/stream_executor/platform/default/dso_loader.cc:64] Could not load dynamic library 'libcudnn.so.8'; dlerror: libcudnn.so.8: cannot open shared object file: No such file or directory\n",
      "2022-02-14 13:25:20.822294: W tensorflow/core/common_runtime/gpu/gpu_device.cc:1850] Cannot dlopen some GPU libraries. Please make sure the missing libraries mentioned above are installed properly if you would like to use GPU. Follow the guide at https://www.tensorflow.org/install/gpu for how to download and setup the required libraries for your platform.\n",
      "Skipping registering GPU devices...\n",
      "2022-02-14 13:25:20.824776: I tensorflow/core/platform/cpu_feature_guard.cc:151] This TensorFlow binary is optimized with oneAPI Deep Neural Network Library (oneDNN) to use the following CPU instructions in performance-critical operations:  AVX2 FMA\n",
      "To enable them in other operations, rebuild TensorFlow with the appropriate compiler flags.\n"
     ]
    },
    {
     "name": "stdout",
     "output_type": "stream",
     "text": [
      "data/predictions_ann/0.csv\n",
      "data/predictions_ann/1.csv\n"
     ]
    }
   ],
   "source": [
    "for file in os.listdir(\"data/windowed_scaled\"):\n",
    "    score_data_ann(file)"
   ]
  },
  {
   "cell_type": "markdown",
   "metadata": {},
   "source": [
    "# Score RF"
   ]
  },
  {
   "cell_type": "code",
   "execution_count": 9,
   "metadata": {},
   "outputs": [],
   "source": [
    "from pandas import read_csv\n",
    "import warnings\n",
    "warnings.filterwarnings(\"ignore\")\n",
    "import pandas as pd\n",
    "def score_data_rf(target_filename):\n",
    "    import joblib\n",
    "    rf_model = joblib.load(\"model/rf_model\")\n",
    "    X = read_csv(\"data/windowed/\"+target_filename)\n",
    "    y = rf_model.predict(X)\n",
    "    dct = {0: 0, 1: 0, 2: 0}\n",
    "    for i in y:\n",
    "        dct[i] += 1\n",
    "    print(dct)\n",
    "    if ( not os.path.isdir('data/predictions_rf')):\n",
    "        os.system('mkdir data/predictions_rf')\n",
    "    target_filename = target_filename.replace(\"_preprocessed_windowed.csv\", \"\")\n",
    "    # filename = \"data/predictions/\"+target_filename+\"_scored_rf.csv\"\n",
    "    filename = \"data/predictions_rf/\"+target_filename+\".csv\"\n",
    "    pd.DataFrame(y).to_csv(filename, index=False)\n",
    "    print(filename)\n",
    "    \n",
    "    # This might be used later, for now use other chunk of code on unscaled data\n",
    "    # Downloaded manually\n",
    "    # X = read_csv(\"data/windowed_scaled/\"+target_filename)\n",
    "    # y = rf_model.predict(X)\n",
    "    # dct = {0: 0, 1: 0, 2: 0}\n",
    "    # for i in y:\n",
    "    #     dct[i] += 1\n",
    "    # print(dct)\n",
    "    # if ( not os.path.isdir('data/predictions')):\n",
    "    #     os.system('mkdir data/predictions')\n",
    "    # target_filename = target_filename.replace(\"_windowed_scaled.csv\", \"\")\n",
    "    # filename = \"data/predictions/\"+target_filename+\"_scored_rf.csv\"\n",
    "    # pd.DataFrame(y).to_csv(filename, index=False)\n",
    "    # print(filename)"
   ]
  },
  {
   "cell_type": "code",
   "execution_count": 10,
   "metadata": {},
   "outputs": [
    {
     "name": "stdout",
     "output_type": "stream",
     "text": [
      "{0: 621, 1: 17740, 2: 4075}\n",
      "data/predictions_rf/0.csv\n",
      "{0: 31, 1: 22010, 2: 395}\n",
      "data/predictions_rf/1.csv\n"
     ]
    }
   ],
   "source": [
    "for file in os.listdir(\"data/windowed\"):\n",
    "    score_data_rf(file)"
   ]
  },
  {
   "cell_type": "markdown",
   "metadata": {},
   "source": [
    "# Expand Predictions"
   ]
  },
  {
   "cell_type": "code",
   "execution_count": 11,
   "metadata": {},
   "outputs": [],
   "source": [
    "from tqdm import tqdm\n",
    "import pandas as pd\n",
    "import numpy as np\n",
    "def expand_predictions_ann(file):\n",
    "    df = pd.read_csv(\"data/predictions_ann/\"+file)\n",
    "    Y = np.array(df)\n",
    "    Y = Y.reshape(Y.shape[0],)\n",
    "    # print(len(Y))\n",
    "    lo_limit = len(Y)-1\n",
    "    hi_limit = len(Y)+3\n",
    "    Y_new = []\n",
    "    for i,x in tqdm(enumerate(range(len(Y)+4))):\n",
    "        if(i==0):\n",
    "            # print(\"i:\",i)\n",
    "            # print(Y[0])\n",
    "            # print(\"Bincount:\",Y[0])\n",
    "            Y_new.append(Y[0])\n",
    "        elif(i<5):\n",
    "            # print(\"i:\",i)\n",
    "            # print(Y[0:i])\n",
    "            # print(\"Bincount:\",np.bincount(Y[0:i]))\n",
    "            # print(\"Class:\",np.argmax(np.bincount(Y[0:i])))\n",
    "            Y_new.append(np.argmax(np.bincount(Y[0:i])))\n",
    "        # elif(i>8635 and i!=8639):\n",
    "        elif(i>lo_limit and i!=hi_limit):\n",
    "            # print(\"i:\",i)\n",
    "            # print(Y[8635-(4-(i-8635)):8635])\n",
    "            # print(\"Bincount:\",np.bincount(Y[8635-(4-(i-8635)):8635]))\n",
    "            # print(\"Class:\",np.argmax(np.bincount(Y[8635-(4-(i-8635)):8635])))\n",
    "\n",
    "            # Y_new.append(np.argmax(np.bincount(Y[8635-(4-(i-8635)):8635])))\n",
    "            Y_new.append(np.argmax(np.bincount(Y[lo_limit-(4-(i-lo_limit)):lo_limit])))\n",
    "        # elif(i==8639):\n",
    "        elif(i==hi_limit): \n",
    "            # print(\"i:\",i)\n",
    "            # print(Y[8635])\n",
    "            # print(\"Bincount:\",Y[8365])\n",
    "            # Y_new.append(Y[8365])\n",
    "            Y_new.append(Y[lo_limit])\n",
    "        else:\n",
    "            # print(\"i:\",i)\n",
    "            # print(Y[i-4:i])\n",
    "            # print(\"Bincount:\",np.bincount(Y[i-4:i]))\n",
    "            # print(\"Class:\",np.argmax(np.bincount(Y[i-4:i])))\n",
    "            Y_new.append(np.argmax(np.bincount(Y[i-4:i])))\n",
    "\n",
    "    if ( not os.path.isdir('data/expanded_predictions_ann')):\n",
    "        os.system('mkdir data/expanded_predictions_ann')\n",
    "    \n",
    "        print(Y.shape[0], len(Y_new))\n",
    "    pd.DataFrame(Y_new).to_csv(\"data/expanded_predictions_ann/\"+file,index=False)\n",
    "\n",
    "    # if file[-6:] == \"rf.csv\":\n",
    "    #     if ( not os.path.isdir('data/expanded_predictions_rf')):\n",
    "    #             os.system('mkdir data/expanded_predictions_rf')\n",
    "    #     pd.DataFrame(Y_new).to_csv(\"data/expanded_predictions_rf/\"+file,index=False)\n"
   ]
  },
  {
   "cell_type": "code",
   "execution_count": 12,
   "metadata": {},
   "outputs": [
    {
     "name": "stderr",
     "output_type": "stream",
     "text": [
      "22440it [00:00, 276554.83it/s]\n"
     ]
    },
    {
     "name": "stdout",
     "output_type": "stream",
     "text": [
      "22436 22440\n"
     ]
    },
    {
     "name": "stderr",
     "output_type": "stream",
     "text": [
      "22440it [00:00, 296062.00it/s]\n"
     ]
    }
   ],
   "source": [
    "for file in os.listdir(\"data/predictions_ann\"):\n",
    "    expand_predictions_ann(file)"
   ]
  },
  {
   "cell_type": "code",
   "execution_count": 13,
   "metadata": {},
   "outputs": [],
   "source": [
    "def expand_predictions_rf(file):\n",
    "    df = pd.read_csv(\"data/predictions_rf/\"+file)\n",
    "    Y = np.array(df)\n",
    "    Y = Y.reshape(Y.shape[0],)\n",
    "    # print(len(Y))\n",
    "    lo_limit = len(Y)-1\n",
    "    hi_limit = len(Y)+3\n",
    "    Y_new = []\n",
    "    for i,x in tqdm(enumerate(range(len(Y)+4))):\n",
    "        if(i==0):\n",
    "            # print(\"i:\",i)\n",
    "            # print(Y[0])\n",
    "            # print(\"Bincount:\",Y[0])\n",
    "            Y_new.append(Y[0])\n",
    "        elif(i<5):\n",
    "            # print(\"i:\",i)\n",
    "            # print(Y[0:i])\n",
    "            # print(\"Bincount:\",np.bincount(Y[0:i]))\n",
    "            # print(\"Class:\",np.argmax(np.bincount(Y[0:i])))\n",
    "            Y_new.append(np.argmax(np.bincount(Y[0:i])))\n",
    "        # elif(i>8635 and i!=8639):\n",
    "        elif(i>lo_limit and i!=hi_limit):\n",
    "            # print(\"i:\",i)\n",
    "            # print(Y[8635-(4-(i-8635)):8635])\n",
    "            # print(\"Bincount:\",np.bincount(Y[8635-(4-(i-8635)):8635]))\n",
    "            # print(\"Class:\",np.argmax(np.bincount(Y[8635-(4-(i-8635)):8635])))\n",
    "            \n",
    "            # Y_new.append(np.argmax(np.bincount(Y[8635-(4-(i-8635)):8635])))\n",
    "            Y_new.append(np.argmax(np.bincount(Y[lo_limit-(4-(i-lo_limit)):lo_limit])))\n",
    "        elif(i==hi_limit):\n",
    "            # print(\"i:\",i)\n",
    "            # print(Y[8635])\n",
    "            # print(\"Bincount:\",Y[8365])\n",
    "            Y_new.append(Y[lo_limit])\n",
    "        else:\n",
    "            # print(\"i:\",i)\n",
    "            # print(Y[i-4:i])\n",
    "            # print(\"Bincount:\",np.bincount(Y[i-4:i]))\n",
    "            # print(\"Class:\",np.argmax(np.bincount(Y[i-4:i])))\n",
    "            Y_new.append(np.argmax(np.bincount(Y[i-4:i])))\n",
    "\n",
    "    if ( not os.path.isdir('data/expanded_predictions_rf')):\n",
    "        os.system('mkdir data/expanded_predictions_rf')\n",
    "    pd.DataFrame(Y_new).to_csv(\"data/expanded_predictions_rf/\"+file,index=False)\n"
   ]
  },
  {
   "cell_type": "code",
   "execution_count": 14,
   "metadata": {},
   "outputs": [
    {
     "name": "stderr",
     "output_type": "stream",
     "text": [
      "22440it [00:00, 207313.63it/s]\n",
      "22440it [00:00, 233104.03it/s]\n"
     ]
    }
   ],
   "source": [
    "for file in os.listdir(\"data/predictions_rf\"):\n",
    "    expand_predictions_rf(file)"
   ]
  },
  {
   "cell_type": "code",
   "execution_count": 15,
   "metadata": {},
   "outputs": [],
   "source": [
    "if ( not os.path.isdir('data/expanded_combined_rf')):\n",
    "        os.system('mkdir data/expanded_combined_rf')\n",
    "\n",
    "if ( not os.path.isdir('data/expanded_combined_ann')):\n",
    "        os.system('mkdir data/expanded_combined_ann')"
   ]
  },
  {
   "cell_type": "code",
   "execution_count": 16,
   "metadata": {},
   "outputs": [],
   "source": [
    "for i in os.listdir(\"data/expanded_predictions_rf\"):\n",
    "    df = pd.read_csv(\"data/expanded_predictions_rf/\" + i)\n",
    "    i = i.replace(\"data/expanded_combined_rf/\", \"\")\n",
    "    for j in os.listdir(\"data/expanded_predictions_rf\"):\n",
    "        df1 = pd.read_csv(\"data/expanded_predictions_rf/\" + j)\n",
    "        j = j.replace(\"data/expanded_combined_rf/\", \"\")\n",
    "        if i[7:11] == j[7:11]:\n",
    "            if i[12:] != j[12:]:\n",
    "                frames = [df, df1]\n",
    "                df2 = pd.concat(frames)\n",
    "                df2.to_csv(\"data/expanded_combined_rf/\" + i[0:11] + \"_combined.csv\")\n",
    "\n",
    "for i in os.listdir(\"data/expanded_predictions_ann\"):\n",
    "    df = pd.read_csv(\"data/expanded_predictions_ann/\" + i)\n",
    "    i = i.replace(\"data/expanded_combined_ann/\", \"\")\n",
    "    for j in os.listdir(\"data/expanded_predictions_ann\"):\n",
    "        df1 = pd.read_csv(\"data/expanded_predictions_ann/\" + j)\n",
    "        j = j.replace(\"data/expanded_combined_ann/\", \"\")\n",
    "        if i[7:11] == j[7:11]:\n",
    "            if i[12:] != j[12:]:\n",
    "                frames = [df, df1]\n",
    "                df2 = pd.concat(frames)\n",
    "                df2.to_csv(\"data/expanded_combined_ann/\" + i[0:11] + \"_combined.csv\")\n",
    "\n"
   ]
  },
  {
   "cell_type": "code",
   "execution_count": 17,
   "metadata": {},
   "outputs": [],
   "source": [
    "# i = 0\n",
    "# import pandas as pd\n",
    "# if ( not os.path.isdir('data/expanded_predictions_rf_renamed')):\n",
    "#                 os.system('mkdir data/expanded_predictions_rf_renamed')\n",
    "\n",
    "# if ( not os.path.isdir('data/expanded_predictions_ann_renamed')):\n",
    "#                 os.system('mkdir data/expanded_predictions_ann_renamed')\n",
    "\n",
    "# with open(\"data/mapping\") as f:\n",
    "#     df = pd.read_csv(\"expanded_predictions_ann/\"+str(i)+\"_scored_ann.csv\")\n",
    "#     for line in f:\n",
    "#         print(len(line))\n",
    "#         df.to_csv(\"data/expanded_predictions_ann_renamed/\"+line.replace(\".xls\",\".csv\"),index=False)\n",
    "\n",
    "#     df1 = pd.read_csv(\"expanded_predictions_rf/\"+str(i)+\"_scored_rf.csv\")\n",
    "#     for line in f:\n",
    "#         print(len(line))\n",
    "#         df.to_csv(\"data/expanded_predictions_rf_renamed/\"+line.replace(\".xls\",\".csv\"),index=False)\n",
    "#     i += 1\n"
   ]
  },
  {
   "cell_type": "code",
   "execution_count": 18,
   "metadata": {},
   "outputs": [],
   "source": [
    "if ( not os.path.isdir('data/expanded_renamed_rf')):\n",
    "        os.system('mkdir data/expanded_renamed_rf')\n",
    "\n",
    "if ( not os.path.isdir('data/expanded_renamed_ann')):\n",
    "        os.system('mkdir data/expanded_renamed_ann')\n",
    "\n",
    "if ( not os.path.isdir('data/expanded_combined_renamed_rf')):\n",
    "        os.system('mkdir data/expanded_combined_renamed_rf')\n",
    "\n",
    "if ( not os.path.isdir('data/expanded_combined_renamed_ann')):\n",
    "        os.system('mkdir data/expanded_combined_renamed_ann')"
   ]
  },
  {
   "cell_type": "code",
   "execution_count": 19,
   "metadata": {},
   "outputs": [
    {
     "data": {
      "text/plain": [
       "{0: 'P', 1: 'S', 2: 'W'}"
      ]
     },
     "execution_count": 19,
     "metadata": {},
     "output_type": "execute_result"
    }
   ],
   "source": [
    "rename_dict = {0: 'P', 1: 'S', 2: 'W'}\n",
    "rename_dict"
   ]
  },
  {
   "cell_type": "code",
   "execution_count": 20,
   "metadata": {},
   "outputs": [],
   "source": [
    "from pandas import read_csv\n",
    "import pandas as pd"
   ]
  },
  {
   "cell_type": "code",
   "execution_count": 21,
   "metadata": {},
   "outputs": [],
   "source": [
    "for file in os.listdir('data/expanded_predictions_ann'):\n",
    "    df = read_csv('data/expanded_predictions_ann/' + file)\n",
    "    y = df['0']\n",
    "    new_y = []\n",
    "    for i in y:\n",
    "        new_y.append(rename_dict[i])\n",
    "    pd.DataFrame(new_y).to_csv(\"data/expanded_renamed_ann/\"+file,index=False)"
   ]
  },
  {
   "cell_type": "code",
   "execution_count": 22,
   "metadata": {},
   "outputs": [],
   "source": [
    "for file in os.listdir('data/expanded_predictions_rf'):\n",
    "    df = read_csv('data/expanded_predictions_rf/' + file)\n",
    "    y = df['0']\n",
    "    new_y = []\n",
    "    for i in y:\n",
    "        new_y.append(rename_dict[i])\n",
    "    pd.DataFrame(new_y).to_csv(\"data/expanded_renamed_rf/\"+file,index=False)"
   ]
  },
  {
   "cell_type": "code",
   "execution_count": 23,
   "metadata": {},
   "outputs": [],
   "source": [
    "for file in os.listdir('data/expanded_combined_rf'):\n",
    "    df = read_csv('data/expanded_combined_rf/' + file)\n",
    "    y = df['0']\n",
    "    new_y = []\n",
    "    for i in y:\n",
    "        new_y.append(rename_dict[i])\n",
    "    pd.DataFrame(new_y).to_csv(\"data/expanded_combined_renamed_rf/\"+file,index=False)"
   ]
  },
  {
   "cell_type": "code",
   "execution_count": 24,
   "metadata": {},
   "outputs": [],
   "source": [
    "for file in os.listdir('data/expanded_combined_ann'):\n",
    "    df = read_csv('data/expanded_combined_ann/' + file)\n",
    "    y = df['0']\n",
    "    new_y = []\n",
    "    for i in y:\n",
    "        new_y.append(rename_dict[i])\n",
    "    pd.DataFrame(new_y).to_csv(\"data/expanded_combined_renamed_ann/\"+file,index=False)"
   ]
  },
  {
   "cell_type": "markdown",
   "metadata": {},
   "source": [
    "# Remap names"
   ]
  },
  {
   "cell_type": "code",
   "execution_count": 25,
   "metadata": {},
   "outputs": [],
   "source": [
    "import os\n",
    "mapping = open('data/mapping').read().splitlines()\n",
    "i=0\n",
    "os.system('mkdir data/final_ann')\n",
    "for file in os.listdir('data/expanded_renamed_ann'):\n",
    "    index_str = file.replace('.csv', '')\n",
    "    newName = mapping[int(index_str)].replace('.xls', '-ann.csv')\n",
    "    os.system('cp data/expanded_renamed_ann/' +file+\" data/final_ann/'\"+newName+\"'\")\n",
    "    i+=1"
   ]
  },
  {
   "cell_type": "code",
   "execution_count": 26,
   "metadata": {},
   "outputs": [],
   "source": [
    "mapping = open('data/mapping').read().splitlines()\n",
    "i=0\n",
    "os.system('mkdir data/final_rf')\n",
    "for file in os.listdir('data/expanded_renamed_rf'):\n",
    "    index_str = file.replace('.csv', '')\n",
    "    newName = mapping[int(index_str)].replace('.xls', '-rf.csv')\n",
    "    os.system('cp data/expanded_renamed_rf/' +file+\" data/final_rf/'\"+newName+\"'\")\n",
    "    i+=1"
   ]
  },
  {
   "cell_type": "markdown",
   "metadata": {},
   "source": [
    "# Import CSV Predictions into Neuroscore ZDB file\n"
   ]
  },
  {
   "cell_type": "code",
   "execution_count": null,
   "metadata": {},
   "outputs": [],
   "source": [
    "print(yo)"
   ]
  },
  {
   "cell_type": "code",
   "execution_count": null,
   "metadata": {},
   "outputs": [],
   "source": [
    "import os\n",
    "import sqlite3\n",
    "from sqlite3 import Error\n",
    "\n",
    "def ZDBConversion(csv, zdb):\n",
    "    try:\n",
    "        conn = sqlite3.connect(zdb)\n",
    "    except Error as e:\n",
    "        print(e)\n",
    "    \n",
    "    \n"
   ]
  },
  {
   "cell_type": "code",
   "execution_count": null,
   "metadata": {},
   "outputs": [],
   "source": [
    "import os\n",
    "\n",
    "os.system('mkdir finalZDB_ann')\n",
    "i=0\n",
    "for csv in os.listdir('data/expanded_renamed_ann'):\n",
    "    zdb = 'data/renamedZDB/'+str(i)+'.zdb'\n",
    "    os.system(\"cp data/renamedZDB/'\"+zdb+\"' data/finalZDB_ann/\")\n",
    "    ZDBConversion()\n",
    "    i += 1"
   ]
  }
 ],
 "metadata": {
  "interpreter": {
   "hash": "916dbcbb3f70747c44a77c7bcd40155683ae19c65e1c03b4aa3499c5328201f1"
  },
  "kernelspec": {
   "display_name": "Python 3.8.10 64-bit",
   "name": "python3"
  },
  "language_info": {
   "codemirror_mode": {
    "name": "ipython",
    "version": 3
   },
   "file_extension": ".py",
   "mimetype": "text/x-python",
   "name": "python",
   "nbconvert_exporter": "python",
   "pygments_lexer": "ipython3",
   "version": "3.8.10"
  },
  "orig_nbformat": 4
 },
 "nbformat": 4,
 "nbformat_minor": 2
}
