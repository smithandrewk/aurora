{
 "cells": [
  {
   "cell_type": "code",
   "execution_count": 2,
   "metadata": {},
   "outputs": [
    {
     "name": "stdout",
     "output_type": "stream",
     "text": [
      "Examples:\n",
      "    Total: 224092\n",
      "    P: 80056 (35.72% of total)\n",
      "    S: 64346 (28.71% of total)\n",
      "    W: 79690 (35.56% of total)\n",
      "\n"
     ]
    }
   ],
   "source": [
    "import pandas as pd\n",
    "from scripts.utils import class_count\n",
    "df = pd.read_csv(\"data/concatenated/X_balanced.csv\")\n",
    "p,s,w = class_count(df)"
   ]
  },
  {
   "cell_type": "code",
   "execution_count": 5,
   "metadata": {},
   "outputs": [
    {
     "name": "stdout",
     "output_type": "stream",
     "text": [
      "Examples:\n",
      "    Total: 224235\n",
      "    P: 80224 (35.78% of total)\n",
      "    S: 64539 (28.78% of total)\n",
      "    W: 79472 (35.44% of total)\n",
      "\n"
     ]
    }
   ],
   "source": [
    "df = pd.read_csv(\"data/concatenated/window_balanced.csv\")\n",
    "p,s,w = class_count(df)"
   ]
  }
 ],
 "metadata": {
  "interpreter": {
   "hash": "916dbcbb3f70747c44a77c7bcd40155683ae19c65e1c03b4aa3499c5328201f1"
  },
  "kernelspec": {
   "display_name": "Python 3.8.10 64-bit",
   "name": "python3"
  },
  "language_info": {
   "codemirror_mode": {
    "name": "ipython",
    "version": 3
   },
   "file_extension": ".py",
   "mimetype": "text/x-python",
   "name": "python",
   "nbconvert_exporter": "python",
   "pygments_lexer": "ipython3",
   "version": "3.8.10"
  },
  "orig_nbformat": 4
 },
 "nbformat": 4,
 "nbformat_minor": 2
}
