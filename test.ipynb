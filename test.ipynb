{
 "cells": [
  {
   "cell_type": "code",
   "execution_count": 6,
   "metadata": {},
   "outputs": [
    {
     "name": "stdout",
     "output_type": "stream",
     "text": [
      "b''\n",
      "b''\n"
     ]
    }
   ],
   "source": [
    "def command_line(args):\n",
    "    from subprocess import Popen, PIPE\n",
    "    \"\"\"\n",
    "    just include the arguments as a list\n",
    "    \"\"\"\n",
    "    process = Popen(args, stdout=PIPE, stderr=PIPE)\n",
    "    stdout, stderr = process.communicate()\n",
    "    return stdout,stderr\n",
    "def upload_session():\n",
    "    stdout,stderr = command_line(['rclone','copy','upload','AuroraGoogleDrive:AuroraProject/sessions'])\n",
    "upload_session()"
   ]
  }
 ],
 "metadata": {
  "interpreter": {
   "hash": "ef5fa530998c1e3f2d5118db5f86e6d0d2650128a9fd0b5aa1ce8b23b301646b"
  },
  "kernelspec": {
   "display_name": "Python 3.8.10 ('env': venv)",
   "language": "python",
   "name": "python3"
  },
  "language_info": {
   "codemirror_mode": {
    "name": "ipython",
    "version": 3
   },
   "file_extension": ".py",
   "mimetype": "text/x-python",
   "name": "python",
   "nbconvert_exporter": "python",
   "pygments_lexer": "ipython3",
   "version": "3.8.10"
  },
  "orig_nbformat": 4
 },
 "nbformat": 4,
 "nbformat_minor": 2
}
