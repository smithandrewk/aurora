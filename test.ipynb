{
 "cells": [
  {
   "cell_type": "code",
   "execution_count": 16,
   "metadata": {},
   "outputs": [],
   "source": [
    "\n",
    "def score_wrapper(scoring_function, step, total_steps, model=None):\n",
    "    try:\n",
    "        if model:\n",
    "            scoring_function(model)\n",
    "        else:\n",
    "            scoring_function()\n",
    "    except:\n",
    "        print(f'ERROR step {step}')\n",
    "    return f'data {step/total_steps} \\n\\n'"
   ]
  },
  {
   "cell_type": "code",
   "execution_count": 17,
   "metadata": {},
   "outputs": [],
   "source": [
    "def test():\n",
    "    print('in test')\n",
    "def test2():\n",
    "    print('in test2')"
   ]
  },
  {
   "cell_type": "code",
   "execution_count": 6,
   "metadata": {},
   "outputs": [
    {
     "data": {
      "text/plain": [
       "<generator object score_wrapper at 0x7f99c47290b0>"
      ]
     },
     "execution_count": 6,
     "metadata": {},
     "output_type": "execute_result"
    }
   ],
   "source": [
    "score_wrapper(test, 0, 10)"
   ]
  },
  {
   "cell_type": "code",
   "execution_count": 20,
   "metadata": {},
   "outputs": [
    {
     "name": "stdout",
     "output_type": "stream",
     "text": [
      "in test\n",
      "data 0.1 \n",
      "\n",
      "\n",
      "in test2\n",
      "data 0.2 \n",
      "\n",
      "\n"
     ]
    }
   ],
   "source": [
    "def generate():\n",
    "    yield score_wrapper(test, 1, 10)\n",
    "    yield score_wrapper(test2, 2, 10)\n",
    "\n",
    "for i in generate():\n",
    "    print(i)\n",
    "    "
   ]
  },
  {
   "cell_type": "code",
   "execution_count": null,
   "metadata": {},
   "outputs": [],
   "source": []
  }
 ],
 "metadata": {
  "interpreter": {
   "hash": "ef5fa530998c1e3f2d5118db5f86e6d0d2650128a9fd0b5aa1ce8b23b301646b"
  },
  "kernelspec": {
   "display_name": "Python 3.8.10 ('env': venv)",
   "language": "python",
   "name": "python3"
  },
  "language_info": {
   "codemirror_mode": {
    "name": "ipython",
    "version": 3
   },
   "file_extension": ".py",
   "mimetype": "text/x-python",
   "name": "python",
   "nbconvert_exporter": "python",
   "pygments_lexer": "ipython3",
   "version": "3.8.10"
  },
  "orig_nbformat": 4
 },
 "nbformat": 4,
 "nbformat_minor": 2
}
