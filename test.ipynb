{
 "cells": [
  {
   "cell_type": "code",
   "execution_count": 6,
   "metadata": {},
   "outputs": [
    {
     "name": "stdout",
     "output_type": "stream",
     "text": [
      "2022-05-26 15:54:29\n"
     ]
    }
   ],
   "source": [
    "x = \"2022-05-26 15:54:29.063488\"\n",
    "print(x[:-7])"
   ]
  }
 ],
 "metadata": {
  "interpreter": {
   "hash": "ef5fa530998c1e3f2d5118db5f86e6d0d2650128a9fd0b5aa1ce8b23b301646b"
  },
  "kernelspec": {
   "display_name": "Python 3.8.10 ('env': venv)",
   "language": "python",
   "name": "python3"
  },
  "language_info": {
   "codemirror_mode": {
    "name": "ipython",
    "version": 3
   },
   "file_extension": ".py",
   "mimetype": "text/x-python",
   "name": "python",
   "nbconvert_exporter": "python",
   "pygments_lexer": "ipython3",
   "version": "3.8.10"
  },
  "orig_nbformat": 4
 },
 "nbformat": 4,
 "nbformat_minor": 2
}
