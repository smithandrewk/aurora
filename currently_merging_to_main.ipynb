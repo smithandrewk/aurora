{
  "nbformat": 4,
  "nbformat_minor": 0,
  "metadata": {
    "colab": {
      "name": "sleep.ipynb",
      "provenance": [],
      "collapsed_sections": []
    },
    "kernelspec": {
      "name": "python3",
      "display_name": "Python 3"
    }
  },
  "cells": [
    {
      "cell_type": "code",
      "metadata": {
        "colab": {
          "base_uri": "https://localhost:8080/"
        },
        "id": "RLNWy1wCPsaQ",
        "outputId": "856b7cb1-2ef3-449a-e51e-d378431b5bd5"
      },
      "source": [
        "df = pd.read_csv(\"control_vanilla_preprocessed.csv\")\n",
        "# df.describe() # nice for obtaining statistics over dataframe\n",
        "p,s,w = np.bincount(df['Class'])\n",
        "total = p + s + w\n",
        "print('Examples:\\n    Total: {}\\n    P: {} ({:.2f}% of total)\\n    S: {} ({:.2f}% of total)\\n    W: {} ({:.2f}% of total)\\n'.format(\n",
        "    total, p, 100 * p / total,s,100 * s / total,w,100 * w / total))"
      ],
      "execution_count": 4,
      "outputs": [
        {
          "output_type": "stream",
          "text": [
            "Examples:\n",
            "    Total: 8641\n",
            "    P: 367 (4.25% of total)\n",
            "    S: 3965 (45.89% of total)\n",
            "    W: 4309 (49.87% of total)\n",
            "\n"
          ],
          "name": "stdout"
        }
      ]
    },
    {
      "cell_type": "code",
      "metadata": {
        "colab": {
          "base_uri": "https://localhost:8080/"
        },
        "id": "ZG3ceI9h0of9",
        "outputId": "39bcec66-7a86-4c40-be53-2f00b7d8bb4f"
      },
      "source": [
        "scaler = StandardScaler()\n",
        "train_features = scaler.fit_transform(train_features)\n",
        "\n",
        "# val_features = scaler.transform(val_features)\n",
        "test_features = scaler.transform(test_features)\n",
        "\n",
        "train_features = np.clip(train_features, -5, 5)\n",
        "# val_features = np.clip(val_features, -5, 5)\n",
        "test_features = np.clip(test_features, -5, 5)\n",
        "\n",
        "\n",
        "print('Training labels shape:', train_labels.shape)\n",
        "# print('Validation labels shape:', val_labels.shape)\n",
        "print('Test labels shape:', test_labels.shape)\n",
        "\n",
        "print('Training features shape:', train_features.shape)\n",
        "# print('Validation features shape:', val_features.shape)\n",
        "print('Test features shape:', test_features.shape)"
      ],
      "execution_count": 6,
      "outputs": [
        {
          "output_type": "stream",
          "text": [
            "Training labels shape: (6912,)\n",
            "Test labels shape: (1729,)\n",
            "Training features shape: (6912, 42)\n",
            "Test features shape: (1729, 42)\n"
          ],
          "name": "stdout"
        }
      ]
    },
    {
      "cell_type": "code",
      "metadata": {
        "colab": {
          "base_uri": "https://localhost:8080/",
          "height": 1000
        },
        "id": "wfq5wPCW1Uqd",
        "outputId": "6008bfc3-f051-46e2-c49f-abfe2d45c0ed"
      },
      "source": [
        "\n",
        "p_df = pd.DataFrame(train_features[ p_train_labels], columns=train_df.columns)\n",
        "s_df = pd.DataFrame(train_features[ s_train_labels], columns=train_df.columns)\n",
        "w_df = pd.DataFrame(train_features[ w_train_labels], columns=train_df.columns)\n",
        "\n",
        "\n",
        "sns.jointplot(p_df['0-0.5'], p_df['0.5-1'],\n",
        "              kind='hex')\n",
        "plt.suptitle(\"P distribution\")\n",
        "\n",
        "sns.jointplot(s_df['0-0.5'], s_df['0.5-1'],\n",
        "              kind='hex',xlim=(-1,1))\n",
        "plt.suptitle(\"S distribution\")\n",
        "\n",
        "sns.jointplot(w_df['0-0.5'], w_df['0.5-1'],\n",
        "              kind='hex')\n",
        "plt.suptitle(\"W distribution\")\n"
      ],
      "execution_count": 7,
      "outputs": [
        {
          "output_type": "stream",
          "text": [
            "/usr/local/lib/python3.7/dist-packages/seaborn/_decorators.py:43: FutureWarning: Pass the following variables as keyword args: x, y. From version 0.12, the only valid positional argument will be `data`, and passing other arguments without an explicit keyword will result in an error or misinterpretation.\n",
            "  FutureWarning\n",
            "/usr/local/lib/python3.7/dist-packages/seaborn/_decorators.py:43: FutureWarning: Pass the following variables as keyword args: x, y. From version 0.12, the only valid positional argument will be `data`, and passing other arguments without an explicit keyword will result in an error or misinterpretation.\n",
            "  FutureWarning\n",
            "/usr/local/lib/python3.7/dist-packages/seaborn/_decorators.py:43: FutureWarning: Pass the following variables as keyword args: x, y. From version 0.12, the only valid positional argument will be `data`, and passing other arguments without an explicit keyword will result in an error or misinterpretation.\n",
            "  FutureWarning\n"
          ],
          "name": "stderr"
        },
        {
          "output_type": "execute_result",
          "data": {
            "text/plain": [
              "Text(0.5, 0.98, 'W distribution')"
            ]
          },
          "metadata": {
            "tags": []
          },
          "execution_count": 7
        },
        {
          "output_type": "display_data",
          "data": {
            "image/png": "[encoded data removed]",
            "text/plain": [
              "<Figure size 432x432 with 3 Axes>"
            ]
          },
          "metadata": {
            "tags": [],
            "needs_background": "light"
          }
        },
        {
          "output_type": "display_data",
          "data": {
            "image/png": "[encoded data removed]",
            "text/plain": [
              "<Figure size 432x432 with 3 Axes>"
            ]
          },
          "metadata": {
            "tags": [],
            "needs_background": "light"
          }
        },
        {
          "output_type": "display_data",
          "data": {
            "image/png": "[encoded data removed]",
            "text/plain": [
              "<Figure size 432x432 with 3 Axes>"
            ]
          },
          "metadata": {
            "tags": [],
            "needs_background": "light"
          }
        }
      ]
    },
    {
      "cell_type": "code",
      "metadata": {
        "colab": {
          "base_uri": "https://localhost:8080/",
          "height": 313
        },
        "id": "dvRBItc_7iLy",
        "outputId": "95719270-178c-425d-cb51-be3e6e1ff468"
      },
      "source": [
        "import matplotlib as mpl\n",
        "mpl.rcParams['figure.figsize'] = (12, 10)\n",
        "colors = plt.rcParams['axes.prop_cycle'].by_key()['color']\n",
        "def plot_metrics(history):\n",
        "  metrics = ['loss', 'accuracy']\n",
        "  for n, metric in enumerate(metrics):\n",
        "    name = metric.replace(\"_\",\" \").capitalize()\n",
        "    plt.subplot(2,2,n+1)\n",
        "    plt.plot(history.epoch, history.history[metric], color=colors[0], label='Train')\n",
        "    # plt.plot(history.epoch, history.history['val_'+metric],\n",
        "    #          color=colors[0], linestyle=\"--\", label='Val')\n",
        "    plt.xlabel('Epoch')\n",
        "    plt.ylabel(name)\n",
        "    if metric == 'loss':\n",
        "      plt.ylim([0, plt.ylim()[1]])\n",
        "    elif metric == 'auc':\n",
        "      plt.ylim([0.8,1])\n",
        "    else:\n",
        "      plt.ylim([0,1])\n",
        "\n",
        "    plt.legend()\n",
        "plot_metrics(baseline_history)"
      ],
      "execution_count": 32,
      "outputs": [
        {
          "output_type": "display_data",
          "data": {
            "image/png": "[encoded data removed]",
            "text/plain": [
              "<Figure size 864x720 with 2 Axes>"
            ]
          },
          "metadata": {
            "tags": [],
            "needs_background": "light"
          }
        }
      ]
    },
    {
      "cell_type": "code",
      "metadata": {
        "colab": {
          "base_uri": "https://localhost:8080/"
        },
        "id": "jxUUs6JLI4WV",
        "outputId": "d9a320a9-4686-4b56-8e06-73cb87e4c5e9"
      },
      "source": [
        "df = pd.read_csv(\"control_vanilla_preprocessed.csv\")\n",
        "\"\"\"\n",
        "Obtain the targets into variable \"y\" from the dataframe while deleting this\n",
        "column from the dataframe in place.\n",
        "\"\"\"\n",
        "y = df.pop(df.columns[0]) # get targets\n",
        "\n",
        "\"\"\"\n",
        "A currently mysterious tensorflow command which forms a \"dataset\" from the input\n",
        "feature set and targets.\n",
        "  @X : features\n",
        "  @y : targets\n",
        "\"\"\"\n",
        "#TODO: partition dataset into train, test, validation.\n",
        "#\n",
        "dataset = tf.data.Dataset.from_tensor_slices((df, y))\n",
        "\"\"\"\n",
        "We shuffle the dataset by the length of the dataframe. I think we do this so\n",
        "that we can partition the dataset into train, test, validation and have each\n",
        "target class equally represented. After the shuffle, we batch the dataset by 1.\n",
        "I have heard that batching by larger sizes helps learning. How large?\n",
        "\"\"\"\n",
        "#TODO: test batch size hyperparameter\n",
        "train_dataset = dataset.shuffle(len(df)).batch(1)\n",
        "# I have done a lot of digging and it doesn't look like we can save this data, so we will have to run this pipeline each time.\n",
        "\"\"\"\n",
        "I saw this in a keras example. Our feature values are of type float64, so it\n",
        "makes sense; however, I do not have a good justification for this line of code.\n",
        "\"\"\"\n",
        "tf.keras.backend.set_floatx('float64')\n",
        "\"\"\"\n",
        "Function to create model. This is a sequential model, meaning layers execute\n",
        "one after the other. We have an input shape corresponding to the feature set,\n",
        "one hidden layer with 10 neurons and a relu activation, then an output layer\n",
        "with 3 neurons and a sigmoid activation function. We compute loss with\n",
        "categorical crossentropy and optimize with adam, which I believe is something\n",
        "about an adaptive learning rate. I do not know what the parameter from_logits\n",
        "is about.\n",
        "\"\"\"\n",
        "# TODO : learn what adam optimizer is about\n",
        "# TODO : learn what from_logits parameter is about\n",
        "def get_compiled_model(n,output_bias=None):\n",
        "    if output_bias is not None:\n",
        "      output_bias = tf.keras.initializers.Constant(output_bias)\n",
        "    model = tf.keras.Sequential([\n",
        "    keras.layers.Dense(n, activation='relu',input_shape=(train_features.shape[-1],)),\n",
        "    keras.layers.Dropout(0.5),\n",
        "    tf.keras.layers.Dense(3, activation='sigmoid',bias_initializer=output_bias)\n",
        "    ])\n",
        "\n",
        "    model.compile(optimizer=keras.optimizers.Adam(lr=1e-3),\n",
        "                loss=tf.keras.losses.CategoricalCrossentropy(from_logits=True),\n",
        "                metrics=['accuracy'])\n",
        "    return model\n",
        "\"\"\"\n",
        "Call to fit model on dataset for a certain number of epochs. What are the other\n",
        "parameters we can pass to this function? There is definitely learning rate and\n",
        "validation data.\n",
        "\"\"\"\n",
        "# TODO: explore other parameters for model.fit\n",
        "# histories = []\n",
        "# from tqdm import tqdm\n",
        "# offset = 5\n",
        "# iterate_hl_neurons_for_n = 15\n",
        "# for i in tqdm(range(iterate_hl_neurons_for_n)):\n",
        "#   \"\"\"\n",
        "#   Call to obtain compiled model from get_compiled_model function.\n",
        "#   \"\"\"\n",
        "#   model = get_compiled_model(offset+i)\n",
        "#   histories.append(model.fit(train_dataset, epochs=20))\n",
        "model = get_compiled_model(20)\n",
        "model.fit(train_dataset,epochs=20)"
      ],
      "execution_count": null,
      "outputs": [
        {
          "output_type": "stream",
          "text": [
            "\n",
            "  0%|          | 0/15 [00:00<?, ?it/s]\u001b[A"
          ],
          "name": "stderr"
        },
        {
          "output_type": "stream",
          "text": [
            "Epoch 1/20\n",
            "8641/8641 [==============================] - 10s 1ms/step - loss: 3.1640 - accuracy: 0.4844\n",
            "Epoch 2/20\n",
            "8641/8641 [==============================] - 10s 1ms/step - loss: 0.8297 - accuracy: 0.5007\n",
            "Epoch 3/20\n",
            "8641/8641 [==============================] - 10s 1ms/step - loss: 0.8628 - accuracy: 0.5020\n",
            "Epoch 4/20\n",
            "8641/8641 [==============================] - 10s 1ms/step - loss: 0.8332 - accuracy: 0.4809\n",
            "Epoch 5/20\n",
            "8641/8641 [==============================] - 10s 1ms/step - loss: 0.8436 - accuracy: 0.5019\n",
            "Epoch 6/20\n",
            "8641/8641 [==============================] - 10s 1ms/step - loss: 0.8419 - accuracy: 0.4935\n",
            "Epoch 7/20\n",
            "8641/8641 [==============================] - 10s 1ms/step - loss: 0.8392 - accuracy: 0.5044\n",
            "Epoch 8/20\n",
            "8641/8641 [==============================] - 10s 1ms/step - loss: 0.8369 - accuracy: 0.4941\n",
            "Epoch 9/20\n",
            "8641/8641 [==============================] - 10s 1ms/step - loss: 0.8467 - accuracy: 0.5012\n",
            "Epoch 10/20\n",
            "8641/8641 [==============================] - 10s 1ms/step - loss: 0.8414 - accuracy: 0.5011\n",
            "Epoch 11/20\n",
            "8641/8641 [==============================] - 10s 1ms/step - loss: 0.8365 - accuracy: 0.4851\n",
            "Epoch 12/20\n",
            "8641/8641 [==============================] - 10s 1ms/step - loss: 0.8387 - accuracy: 0.4911\n",
            "Epoch 13/20\n",
            "8641/8641 [==============================] - 10s 1ms/step - loss: 0.8366 - accuracy: 0.4986\n",
            "Epoch 14/20\n",
            "8641/8641 [==============================] - 10s 1ms/step - loss: 0.8250 - accuracy: 0.4960\n",
            "Epoch 15/20\n",
            "8641/8641 [==============================] - 10s 1ms/step - loss: 0.8385 - accuracy: 0.4922\n",
            "Epoch 16/20\n",
            "8641/8641 [==============================] - 10s 1ms/step - loss: 0.8296 - accuracy: 0.5030\n",
            "Epoch 17/20\n",
            "8641/8641 [==============================] - 10s 1ms/step - loss: 0.8278 - accuracy: 0.4919\n",
            "Epoch 18/20\n",
            "8641/8641 [==============================] - 10s 1ms/step - loss: 0.8343 - accuracy: 0.4935\n",
            "Epoch 19/20\n",
            "8641/8641 [==============================] - 10s 1ms/step - loss: 0.8305 - accuracy: 0.4940\n",
            "Epoch 20/20\n",
            "8641/8641 [==============================] - 10s 1ms/step - loss: 0.8387 - accuracy: 0.5039\n"
          ],
          "name": "stdout"
        },
        {
          "output_type": "stream",
          "text": [
            "\n",
            "  7%|▋         | 1/15 [03:14<45:26, 194.77s/it]\u001b[A"
          ],
          "name": "stderr"
        },
        {
          "output_type": "stream",
          "text": [
            "Epoch 1/20\n",
            "8641/8641 [==============================] - 10s 1ms/step - loss: 6.3250 - accuracy: 0.4917\n",
            "Epoch 2/20\n",
            "8641/8641 [==============================] - 10s 1ms/step - loss: 3.8656 - accuracy: 0.4942\n",
            "Epoch 3/20\n",
            "8641/8641 [==============================] - 10s 1ms/step - loss: 1.2422 - accuracy: 0.4851\n",
            "Epoch 4/20\n",
            "8641/8641 [==============================] - 10s 1ms/step - loss: 0.8410 - accuracy: 0.5133\n",
            "Epoch 5/20\n",
            "8641/8641 [==============================] - 10s 1ms/step - loss: 0.6711 - accuracy: 0.7688\n",
            "Epoch 6/20\n",
            "8641/8641 [==============================] - 10s 1ms/step - loss: 0.4478 - accuracy: 0.8620\n",
            "Epoch 7/20\n",
            "8641/8641 [==============================] - 10s 1ms/step - loss: 0.4630 - accuracy: 0.8680\n",
            "Epoch 8/20\n",
            "8641/8641 [==============================] - 10s 1ms/step - loss: 0.4386 - accuracy: 0.8676\n",
            "Epoch 9/20\n",
            "8641/8641 [==============================] - 10s 1ms/step - loss: 0.4160 - accuracy: 0.8722\n",
            "Epoch 10/20\n",
            "8641/8641 [==============================] - 10s 1ms/step - loss: 0.4225 - accuracy: 0.8701\n",
            "Epoch 11/20\n",
            "8641/8641 [==============================] - 11s 1ms/step - loss: 0.3973 - accuracy: 0.8753\n",
            "Epoch 12/20\n",
            "8641/8641 [==============================] - 10s 1ms/step - loss: 0.4285 - accuracy: 0.8679\n",
            "Epoch 13/20\n",
            "8641/8641 [==============================] - 10s 1ms/step - loss: 0.4192 - accuracy: 0.8665\n",
            "Epoch 14/20\n",
            "8641/8641 [==============================] - 10s 1ms/step - loss: 0.4273 - accuracy: 0.8682\n",
            "Epoch 15/20\n",
            "8641/8641 [==============================] - 10s 1ms/step - loss: 0.4212 - accuracy: 0.8675\n",
            "Epoch 16/20\n",
            "8641/8641 [==============================] - 10s 1ms/step - loss: 0.4103 - accuracy: 0.8708\n",
            "Epoch 17/20\n",
            "8641/8641 [==============================] - 10s 1ms/step - loss: 0.4153 - accuracy: 0.8751\n",
            "Epoch 18/20\n",
            "8641/8641 [==============================] - 10s 1ms/step - loss: 0.4330 - accuracy: 0.8763\n",
            "Epoch 19/20\n",
            "8641/8641 [==============================] - 10s 1ms/step - loss: 0.4149 - accuracy: 0.8684\n",
            "Epoch 20/20\n",
            "8641/8641 [==============================] - 10s 1ms/step - loss: 0.4355 - accuracy: 0.8699\n"
          ],
          "name": "stdout"
        },
        {
          "output_type": "stream",
          "text": [
            "\n",
            " 13%|█▎        | 2/15 [06:32<42:25, 195.77s/it]\u001b[A"
          ],
          "name": "stderr"
        },
        {
          "output_type": "stream",
          "text": [
            "Epoch 1/20\n",
            "8641/8641 [==============================] - 10s 1ms/step - loss: 11.2553 - accuracy: 0.7115\n",
            "Epoch 2/20\n",
            "8641/8641 [==============================] - 10s 1ms/step - loss: 2.7844 - accuracy: 0.8056\n",
            "Epoch 3/20\n",
            "8641/8641 [==============================] - 11s 1ms/step - loss: 2.2145 - accuracy: 0.7888\n",
            "Epoch 4/20\n",
            "8641/8641 [==============================] - 10s 1ms/step - loss: 4.5470 - accuracy: 0.7965\n",
            "Epoch 5/20\n",
            "8641/8641 [==============================] - 10s 1ms/step - loss: 2.1682 - accuracy: 0.8126\n",
            "Epoch 6/20\n",
            "8641/8641 [==============================] - 10s 1ms/step - loss: 0.9319 - accuracy: 0.7831\n",
            "Epoch 7/20\n",
            "8641/8641 [==============================] - 10s 1ms/step - loss: 1.3153 - accuracy: 0.7973\n",
            "Epoch 8/20\n",
            "8641/8641 [==============================] - 10s 1ms/step - loss: 1.7147 - accuracy: 0.8070\n",
            "Epoch 9/20\n",
            "8641/8641 [==============================] - 10s 1ms/step - loss: 0.9945 - accuracy: 0.7379\n",
            "Epoch 10/20\n",
            "8641/8641 [==============================] - 10s 1ms/step - loss: 2.2981 - accuracy: 0.7379\n",
            "Epoch 11/20\n",
            "8641/8641 [==============================] - 10s 1ms/step - loss: 0.7199 - accuracy: 0.7425\n",
            "Epoch 12/20\n",
            "8641/8641 [==============================] - 10s 1ms/step - loss: 1.1982 - accuracy: 0.7748\n",
            "Epoch 13/20\n",
            "8641/8641 [==============================] - 10s 1ms/step - loss: 0.6794 - accuracy: 0.8414\n",
            "Epoch 14/20\n",
            "8641/8641 [==============================] - 10s 1ms/step - loss: 1.6232 - accuracy: 0.8618\n",
            "Epoch 15/20\n",
            "8641/8641 [==============================] - 10s 1ms/step - loss: 1.9162 - accuracy: 0.8677\n",
            "Epoch 16/20\n",
            "8641/8641 [==============================] - 10s 1ms/step - loss: 0.8354 - accuracy: 0.8643\n",
            "Epoch 17/20\n",
            "8641/8641 [==============================] - 10s 1ms/step - loss: 1.3422 - accuracy: 0.8703\n",
            "Epoch 18/20\n",
            "8641/8641 [==============================] - 10s 1ms/step - loss: 0.9520 - accuracy: 0.8601\n",
            "Epoch 19/20\n",
            "8641/8641 [==============================] - 10s 1ms/step - loss: 0.7564 - accuracy: 0.8663\n",
            "Epoch 20/20\n",
            "8641/8641 [==============================] - 10s 1ms/step - loss: 0.5038 - accuracy: 0.8657\n"
          ],
          "name": "stdout"
        },
        {
          "output_type": "stream",
          "text": [
            "\n",
            " 20%|██        | 3/15 [09:56<39:37, 198.10s/it]\u001b[A"
          ],
          "name": "stderr"
        },
        {
          "output_type": "stream",
          "text": [
            "Epoch 1/20\n",
            "8641/8641 [==============================] - 10s 1ms/step - loss: 7.7354 - accuracy: 0.6298\n",
            "Epoch 2/20\n",
            "8641/8641 [==============================] - 10s 1ms/step - loss: 1.3698 - accuracy: 0.6498\n",
            "Epoch 3/20\n",
            "8641/8641 [==============================] - 10s 1ms/step - loss: 1.9093 - accuracy: 0.8586\n",
            "Epoch 4/20\n",
            "8641/8641 [==============================] - 10s 1ms/step - loss: 0.5344 - accuracy: 0.8678\n",
            "Epoch 5/20\n",
            "8641/8641 [==============================] - 10s 1ms/step - loss: 2.0257 - accuracy: 0.8600\n",
            "Epoch 6/20\n",
            "8641/8641 [==============================] - 10s 1ms/step - loss: 1.9967 - accuracy: 0.8629\n",
            "Epoch 7/20\n",
            "8641/8641 [==============================] - 10s 1ms/step - loss: 1.3175 - accuracy: 0.8626\n",
            "Epoch 8/20\n",
            "8641/8641 [==============================] - 9s 1ms/step - loss: 0.8171 - accuracy: 0.8655\n",
            "Epoch 9/20\n",
            "8641/8641 [==============================] - 9s 1ms/step - loss: 0.5267 - accuracy: 0.8658\n",
            "Epoch 10/20\n",
            "8641/8641 [==============================] - 9s 1ms/step - loss: 0.4201 - accuracy: 0.8627\n",
            "Epoch 11/20\n",
            "8641/8641 [==============================] - 10s 1ms/step - loss: 1.4148 - accuracy: 0.8717\n",
            "Epoch 12/20\n",
            "8641/8641 [==============================] - 10s 1ms/step - loss: 0.5622 - accuracy: 0.8790\n",
            "Epoch 13/20\n",
            "8641/8641 [==============================] - 10s 1ms/step - loss: 1.1251 - accuracy: 0.8783\n",
            "Epoch 14/20\n",
            "8641/8641 [==============================] - 11s 1ms/step - loss: 1.0318 - accuracy: 0.8708\n",
            "Epoch 15/20\n",
            "8641/8641 [==============================] - 10s 1ms/step - loss: 0.5743 - accuracy: 0.8803\n",
            "Epoch 16/20\n",
            "8641/8641 [==============================] - 10s 1ms/step - loss: 0.4832 - accuracy: 0.8706\n",
            "Epoch 17/20\n",
            "8641/8641 [==============================] - 10s 1ms/step - loss: 0.8420 - accuracy: 0.8786\n",
            "Epoch 18/20\n",
            "8641/8641 [==============================] - 10s 1ms/step - loss: 0.4056 - accuracy: 0.8729\n",
            "Epoch 19/20\n",
            "8641/8641 [==============================] - 9s 1ms/step - loss: 0.6449 - accuracy: 0.8670\n",
            "Epoch 20/20\n",
            "8641/8641 [==============================] - 10s 1ms/step - loss: 0.6232 - accuracy: 0.8778\n"
          ],
          "name": "stdout"
        },
        {
          "output_type": "stream",
          "text": [
            "\n",
            " 27%|██▋       | 4/15 [13:11<36:09, 197.21s/it]\u001b[A"
          ],
          "name": "stderr"
        },
        {
          "output_type": "stream",
          "text": [
            "Epoch 1/20\n",
            "8641/8641 [==============================] - 10s 1ms/step - loss: 16.7719 - accuracy: 0.6846\n",
            "Epoch 2/20\n",
            "8641/8641 [==============================] - 10s 1ms/step - loss: 1.0546 - accuracy: 0.8465\n",
            "Epoch 3/20\n",
            "8641/8641 [==============================] - 10s 1ms/step - loss: 0.4412 - accuracy: 0.8718\n",
            "Epoch 4/20\n",
            "8641/8641 [==============================] - 10s 1ms/step - loss: 0.4691 - accuracy: 0.8641\n",
            "Epoch 5/20\n",
            "8641/8641 [==============================] - 10s 1ms/step - loss: 0.4148 - accuracy: 0.8756\n",
            "Epoch 6/20\n",
            "8641/8641 [==============================] - 10s 1ms/step - loss: 0.4515 - accuracy: 0.8592\n",
            "Epoch 7/20\n",
            "8641/8641 [==============================] - 10s 1ms/step - loss: 0.4959 - accuracy: 0.8667\n",
            "Epoch 8/20\n",
            "8641/8641 [==============================] - 10s 1ms/step - loss: 0.4192 - accuracy: 0.8694\n",
            "Epoch 9/20\n",
            "8641/8641 [==============================] - 10s 1ms/step - loss: 0.4864 - accuracy: 0.8690\n",
            "Epoch 10/20\n",
            "8641/8641 [==============================] - 10s 1ms/step - loss: 0.4324 - accuracy: 0.8646\n",
            "Epoch 11/20\n",
            "8641/8641 [==============================] - 10s 1ms/step - loss: 0.4320 - accuracy: 0.8676\n",
            "Epoch 12/20\n",
            "8641/8641 [==============================] - 10s 1ms/step - loss: 0.4111 - accuracy: 0.8720\n",
            "Epoch 13/20\n",
            "8641/8641 [==============================] - 10s 1ms/step - loss: 0.4157 - accuracy: 0.8662\n",
            "Epoch 14/20\n",
            "8641/8641 [==============================] - 10s 1ms/step - loss: 0.5173 - accuracy: 0.8664\n",
            "Epoch 15/20\n",
            "8641/8641 [==============================] - 10s 1ms/step - loss: 0.4237 - accuracy: 0.8679\n",
            "Epoch 16/20\n",
            "8641/8641 [==============================] - 10s 1ms/step - loss: 0.5421 - accuracy: 0.8688\n",
            "Epoch 17/20\n",
            "8641/8641 [==============================] - 11s 1ms/step - loss: 0.4895 - accuracy: 0.8674\n",
            "Epoch 18/20\n",
            "8641/8641 [==============================] - 10s 1ms/step - loss: 0.5313 - accuracy: 0.8678\n",
            "Epoch 19/20\n",
            "8641/8641 [==============================] - 10s 1ms/step - loss: 0.4269 - accuracy: 0.8653\n",
            "Epoch 20/20\n",
            "8641/8641 [==============================] - 10s 1ms/step - loss: 0.4125 - accuracy: 0.8762\n"
          ],
          "name": "stdout"
        },
        {
          "output_type": "stream",
          "text": [
            "\n",
            " 33%|███▎      | 5/15 [16:30<32:58, 197.82s/it]\u001b[A"
          ],
          "name": "stderr"
        },
        {
          "output_type": "stream",
          "text": [
            "Epoch 1/20\n",
            "8641/8641 [==============================] - 10s 1ms/step - loss: 7.0942 - accuracy: 0.7041\n",
            "Epoch 2/20\n",
            "8641/8641 [==============================] - 10s 1ms/step - loss: 1.5070 - accuracy: 0.7983\n",
            "Epoch 3/20\n",
            "8641/8641 [==============================] - 10s 1ms/step - loss: 1.8075 - accuracy: 0.8453\n",
            "Epoch 4/20\n",
            "8641/8641 [==============================] - 10s 1ms/step - loss: 0.8031 - accuracy: 0.8648\n",
            "Epoch 5/20\n",
            "8641/8641 [==============================] - 10s 1ms/step - loss: 0.5205 - accuracy: 0.8714\n",
            "Epoch 6/20\n",
            "8641/8641 [==============================] - 10s 1ms/step - loss: 0.4929 - accuracy: 0.8805\n",
            "Epoch 7/20\n",
            "8641/8641 [==============================] - 10s 1ms/step - loss: 1.2503 - accuracy: 0.8729\n",
            "Epoch 8/20\n",
            "8641/8641 [==============================] - 10s 1ms/step - loss: 0.7133 - accuracy: 0.8813\n",
            "Epoch 9/20\n",
            "8641/8641 [==============================] - 10s 1ms/step - loss: 2.4322 - accuracy: 0.8733\n",
            "Epoch 10/20\n",
            "8641/8641 [==============================] - 10s 1ms/step - loss: 1.2892 - accuracy: 0.8792\n",
            "Epoch 11/20\n",
            "8641/8641 [==============================] - 10s 1ms/step - loss: 0.6423 - accuracy: 0.8786\n",
            "Epoch 12/20\n",
            "8641/8641 [==============================] - 10s 1ms/step - loss: 1.6496 - accuracy: 0.8769\n",
            "Epoch 13/20\n",
            "8641/8641 [==============================] - 10s 1ms/step - loss: 0.6763 - accuracy: 0.8846\n",
            "Epoch 14/20\n",
            "8641/8641 [==============================] - 10s 1ms/step - loss: 0.7058 - accuracy: 0.8885\n",
            "Epoch 15/20\n",
            "8641/8641 [==============================] - 10s 1ms/step - loss: 0.6396 - accuracy: 0.8847\n",
            "Epoch 16/20\n",
            "8641/8641 [==============================] - 11s 1ms/step - loss: 0.4078 - accuracy: 0.8708\n",
            "Epoch 17/20\n",
            "8641/8641 [==============================] - 10s 1ms/step - loss: 0.3918 - accuracy: 0.8800\n",
            "Epoch 18/20\n",
            "8641/8641 [==============================] - 11s 1ms/step - loss: 0.3705 - accuracy: 0.8784\n",
            "Epoch 19/20\n",
            "8641/8641 [==============================] - 11s 1ms/step - loss: 0.4087 - accuracy: 0.8725\n",
            "Epoch 20/20\n",
            "8641/8641 [==============================] - 11s 1ms/step - loss: 0.4009 - accuracy: 0.8777\n"
          ],
          "name": "stdout"
        },
        {
          "output_type": "stream",
          "text": [
            "\n",
            " 40%|████      | 6/15 [19:55<29:59, 199.94s/it]\u001b[A"
          ],
          "name": "stderr"
        },
        {
          "output_type": "stream",
          "text": [
            "Epoch 1/20\n",
            "8641/8641 [==============================] - 11s 1ms/step - loss: 6.1641 - accuracy: 0.7244\n",
            "Epoch 2/20\n",
            "8641/8641 [==============================] - 11s 1ms/step - loss: 0.4640 - accuracy: 0.8556\n",
            "Epoch 3/20\n",
            "8641/8641 [==============================] - 10s 1ms/step - loss: 0.4561 - accuracy: 0.8655\n",
            "Epoch 4/20\n",
            "8641/8641 [==============================] - 11s 1ms/step - loss: 0.5540 - accuracy: 0.8553\n",
            "Epoch 5/20\n",
            "8641/8641 [==============================] - 11s 1ms/step - loss: 0.4036 - accuracy: 0.8710\n",
            "Epoch 6/20\n",
            "8641/8641 [==============================] - 10s 1ms/step - loss: 0.4275 - accuracy: 0.8704\n",
            "Epoch 7/20\n",
            "8641/8641 [==============================] - 11s 1ms/step - loss: 0.4620 - accuracy: 0.8631\n",
            "Epoch 8/20\n",
            "8641/8641 [==============================] - 11s 1ms/step - loss: 0.4289 - accuracy: 0.8612\n",
            "Epoch 9/20\n",
            "8641/8641 [==============================] - 10s 1ms/step - loss: 0.4132 - accuracy: 0.8683\n",
            "Epoch 10/20\n",
            "8641/8641 [==============================] - 10s 1ms/step - loss: 0.5081 - accuracy: 0.8655\n",
            "Epoch 11/20\n",
            "8641/8641 [==============================] - 11s 1ms/step - loss: 0.4513 - accuracy: 0.8644\n",
            "Epoch 12/20\n",
            "8641/8641 [==============================] - 11s 1ms/step - loss: 0.4329 - accuracy: 0.8647\n",
            "Epoch 13/20\n",
            "8641/8641 [==============================] - 11s 1ms/step - loss: 0.4002 - accuracy: 0.8730\n",
            "Epoch 14/20\n",
            "8641/8641 [==============================] - 11s 1ms/step - loss: 0.3954 - accuracy: 0.8747\n",
            "Epoch 15/20\n",
            "8641/8641 [==============================] - 11s 1ms/step - loss: 0.4068 - accuracy: 0.8733\n",
            "Epoch 16/20\n",
            "8641/8641 [==============================] - 11s 1ms/step - loss: 0.3654 - accuracy: 0.8826\n",
            "Epoch 17/20\n",
            "8641/8641 [==============================] - 10s 1ms/step - loss: 0.3978 - accuracy: 0.8734\n",
            "Epoch 18/20\n",
            "8641/8641 [==============================] - 10s 1ms/step - loss: 0.4004 - accuracy: 0.8776\n",
            "Epoch 19/20\n",
            "8641/8641 [==============================] - 10s 1ms/step - loss: 0.3807 - accuracy: 0.8751\n",
            "Epoch 20/20\n",
            "8641/8641 [==============================] - 10s 1ms/step - loss: 0.3853 - accuracy: 0.8784\n"
          ],
          "name": "stdout"
        },
        {
          "output_type": "stream",
          "text": [
            "\n",
            " 47%|████▋     | 7/15 [23:28<27:10, 203.85s/it]\u001b[A"
          ],
          "name": "stderr"
        },
        {
          "output_type": "stream",
          "text": [
            "Epoch 1/20\n",
            "8641/8641 [==============================] - 11s 1ms/step - loss: 27.1502 - accuracy: 0.7186\n",
            "Epoch 2/20\n",
            "8641/8641 [==============================] - 10s 1ms/step - loss: 5.1536 - accuracy: 0.8082\n",
            "Epoch 3/20\n",
            "8641/8641 [==============================] - 10s 1ms/step - loss: 2.7115 - accuracy: 0.8213\n",
            "Epoch 4/20\n",
            "8641/8641 [==============================] - 10s 1ms/step - loss: 1.4126 - accuracy: 0.8255\n",
            "Epoch 5/20\n",
            "8641/8641 [==============================] - 10s 1ms/step - loss: 1.4654 - accuracy: 0.8329\n",
            "Epoch 6/20\n",
            "8641/8641 [==============================] - 10s 1ms/step - loss: 1.4099 - accuracy: 0.8438\n",
            "Epoch 7/20\n",
            "8641/8641 [==============================] - 10s 1ms/step - loss: 1.0595 - accuracy: 0.8488\n",
            "Epoch 8/20\n",
            "8641/8641 [==============================] - 11s 1ms/step - loss: 1.0318 - accuracy: 0.8497\n",
            "Epoch 9/20\n",
            "8641/8641 [==============================] - 11s 1ms/step - loss: 1.1519 - accuracy: 0.8666\n",
            "Epoch 10/20\n",
            "8641/8641 [==============================] - 11s 1ms/step - loss: 1.0947 - accuracy: 0.8635\n",
            "Epoch 11/20\n",
            "8641/8641 [==============================] - 11s 1ms/step - loss: 2.6386 - accuracy: 0.8645\n",
            "Epoch 12/20\n",
            "8641/8641 [==============================] - 11s 1ms/step - loss: 0.9852 - accuracy: 0.8764\n",
            "Epoch 13/20\n",
            "8641/8641 [==============================] - 11s 1ms/step - loss: 0.5251 - accuracy: 0.8673\n",
            "Epoch 14/20\n",
            "8641/8641 [==============================] - 11s 1ms/step - loss: 0.6385 - accuracy: 0.8714\n",
            "Epoch 15/20\n",
            "8641/8641 [==============================] - 11s 1ms/step - loss: 0.6523 - accuracy: 0.8804\n",
            "Epoch 16/20\n",
            "8641/8641 [==============================] - 11s 1ms/step - loss: 0.6335 - accuracy: 0.8752\n",
            "Epoch 17/20\n",
            "8641/8641 [==============================] - 11s 1ms/step - loss: 0.4102 - accuracy: 0.8817\n",
            "Epoch 18/20\n",
            "8641/8641 [==============================] - 11s 1ms/step - loss: 0.5074 - accuracy: 0.8851\n",
            "Epoch 19/20\n",
            "8641/8641 [==============================] - 11s 1ms/step - loss: 0.9104 - accuracy: 0.8745\n",
            "Epoch 20/20\n",
            "8641/8641 [==============================] - 12s 1ms/step - loss: 0.4149 - accuracy: 0.8834\n"
          ],
          "name": "stdout"
        },
        {
          "output_type": "stream",
          "text": [
            "\n",
            " 53%|█████▎    | 8/15 [27:04<24:12, 207.51s/it]\u001b[A"
          ],
          "name": "stderr"
        },
        {
          "output_type": "stream",
          "text": [
            "Epoch 1/20\n",
            "8641/8641 [==============================] - 12s 1ms/step - loss: 5.0464 - accuracy: 0.6987\n",
            "Epoch 2/20\n",
            "8641/8641 [==============================] - 11s 1ms/step - loss: 0.6970 - accuracy: 0.8623\n",
            "Epoch 3/20\n",
            "8641/8641 [==============================] - 11s 1ms/step - loss: 0.9413 - accuracy: 0.8660\n",
            "Epoch 4/20\n",
            "8641/8641 [==============================] - 10s 1ms/step - loss: 0.9760 - accuracy: 0.8758\n",
            "Epoch 5/20\n",
            "8641/8641 [==============================] - 11s 1ms/step - loss: 2.1071 - accuracy: 0.8794\n",
            "Epoch 6/20\n",
            "8641/8641 [==============================] - 11s 1ms/step - loss: 0.6090 - accuracy: 0.8846\n",
            "Epoch 7/20\n",
            "8641/8641 [==============================] - 11s 1ms/step - loss: 0.5110 - accuracy: 0.8795\n",
            "Epoch 8/20\n",
            "8641/8641 [==============================] - 11s 1ms/step - loss: 0.5327 - accuracy: 0.8757\n",
            "Epoch 9/20\n",
            "8641/8641 [==============================] - 11s 1ms/step - loss: 0.3979 - accuracy: 0.8752\n",
            "Epoch 10/20\n",
            "8641/8641 [==============================] - 11s 1ms/step - loss: 0.3898 - accuracy: 0.8784\n",
            "Epoch 11/20\n",
            "8641/8641 [==============================] - 11s 1ms/step - loss: 0.4131 - accuracy: 0.8810\n",
            "Epoch 12/20\n",
            "8641/8641 [==============================] - 11s 1ms/step - loss: 0.3776 - accuracy: 0.8863\n",
            "Epoch 13/20\n",
            "8641/8641 [==============================] - 11s 1ms/step - loss: 0.3727 - accuracy: 0.8804\n",
            "Epoch 14/20\n",
            "8641/8641 [==============================] - 11s 1ms/step - loss: 0.3832 - accuracy: 0.8724\n",
            "Epoch 15/20\n",
            "8641/8641 [==============================] - 11s 1ms/step - loss: 0.3739 - accuracy: 0.8758\n",
            "Epoch 16/20\n",
            "8641/8641 [==============================] - 11s 1ms/step - loss: 0.3369 - accuracy: 0.8849\n",
            "Epoch 17/20\n",
            "8641/8641 [==============================] - 11s 1ms/step - loss: 0.3766 - accuracy: 0.8795\n",
            "Epoch 18/20\n",
            "8641/8641 [==============================] - 11s 1ms/step - loss: 0.3900 - accuracy: 0.8743\n",
            "Epoch 19/20\n",
            "8641/8641 [==============================] - 10s 1ms/step - loss: 0.3931 - accuracy: 0.8838\n",
            "Epoch 20/20\n",
            "8641/8641 [==============================] - 10s 1ms/step - loss: 0.3660 - accuracy: 0.8790\n"
          ],
          "name": "stdout"
        },
        {
          "output_type": "stream",
          "text": [
            "\n",
            " 60%|██████    | 9/15 [30:42<21:02, 210.48s/it]\u001b[A"
          ],
          "name": "stderr"
        },
        {
          "output_type": "stream",
          "text": [
            "Epoch 1/20\n",
            "8641/8641 [==============================] - 11s 1ms/step - loss: 13.1394 - accuracy: 0.6755\n",
            "Epoch 2/20\n",
            "8641/8641 [==============================] - 11s 1ms/step - loss: 1.6092 - accuracy: 0.8577\n",
            "Epoch 3/20\n",
            "8641/8641 [==============================] - 11s 1ms/step - loss: 0.9048 - accuracy: 0.8716\n",
            "Epoch 4/20\n",
            "8641/8641 [==============================] - 11s 1ms/step - loss: 6.5730 - accuracy: 0.8581\n",
            "Epoch 5/20\n",
            "8641/8641 [==============================] - 11s 1ms/step - loss: 0.7054 - accuracy: 0.8702\n",
            "Epoch 6/20\n",
            "8641/8641 [==============================] - 11s 1ms/step - loss: 1.3005 - accuracy: 0.8744\n",
            "Epoch 7/20\n",
            "8641/8641 [==============================] - 11s 1ms/step - loss: 1.1519 - accuracy: 0.8738\n",
            "Epoch 8/20\n",
            "8641/8641 [==============================] - 12s 1ms/step - loss: 3.1657 - accuracy: 0.8749\n",
            "Epoch 9/20\n",
            "8641/8641 [==============================] - 11s 1ms/step - loss: 1.3647 - accuracy: 0.8808\n",
            "Epoch 10/20\n",
            "8641/8641 [==============================] - 11s 1ms/step - loss: 3.3209 - accuracy: 0.8674\n",
            "Epoch 11/20\n",
            "8641/8641 [==============================] - 11s 1ms/step - loss: 1.1949 - accuracy: 0.8749\n",
            "Epoch 12/20\n",
            "8641/8641 [==============================] - 10s 1ms/step - loss: 1.8089 - accuracy: 0.8814\n",
            "Epoch 13/20\n",
            "8641/8641 [==============================] - 11s 1ms/step - loss: 1.4671 - accuracy: 0.8838\n",
            "Epoch 14/20\n",
            "8641/8641 [==============================] - 11s 1ms/step - loss: 1.1451 - accuracy: 0.8831\n",
            "Epoch 15/20\n",
            "8641/8641 [==============================] - 11s 1ms/step - loss: 2.1434 - accuracy: 0.8814\n",
            "Epoch 16/20\n",
            "8641/8641 [==============================] - 11s 1ms/step - loss: 1.7462 - accuracy: 0.8787\n",
            "Epoch 17/20\n",
            "8641/8641 [==============================] - 10s 1ms/step - loss: 0.5841 - accuracy: 0.8803\n",
            "Epoch 18/20\n",
            "8641/8641 [==============================] - 10s 1ms/step - loss: 0.8447 - accuracy: 0.8766\n",
            "Epoch 19/20\n",
            "8641/8641 [==============================] - 10s 1ms/step - loss: 1.3090 - accuracy: 0.8809\n",
            "Epoch 20/20\n",
            "8641/8641 [==============================] - 10s 1ms/step - loss: 0.6096 - accuracy: 0.8846\n"
          ],
          "name": "stdout"
        },
        {
          "output_type": "stream",
          "text": [
            "\n",
            " 67%|██████▋   | 10/15 [34:17<17:39, 211.84s/it]\u001b[A"
          ],
          "name": "stderr"
        },
        {
          "output_type": "stream",
          "text": [
            "Epoch 1/20\n",
            "8641/8641 [==============================] - 11s 1ms/step - loss: 3.9684 - accuracy: 0.5856\n",
            "Epoch 2/20\n",
            "8641/8641 [==============================] - 11s 1ms/step - loss: 1.8242 - accuracy: 0.8075\n",
            "Epoch 3/20\n",
            "8641/8641 [==============================] - 11s 1ms/step - loss: 0.8193 - accuracy: 0.8550\n",
            "Epoch 4/20\n",
            "8641/8641 [==============================] - 11s 1ms/step - loss: 0.8304 - accuracy: 0.8672\n",
            "Epoch 5/20\n",
            "8641/8641 [==============================] - 11s 1ms/step - loss: 1.7079 - accuracy: 0.8259\n",
            "Epoch 6/20\n",
            "8641/8641 [==============================] - 11s 1ms/step - loss: 1.0264 - accuracy: 0.8750\n",
            "Epoch 7/20\n",
            "8641/8641 [==============================] - 11s 1ms/step - loss: 0.6341 - accuracy: 0.8724\n",
            "Epoch 8/20\n",
            "8641/8641 [==============================] - 11s 1ms/step - loss: 0.9093 - accuracy: 0.8685\n",
            "Epoch 9/20\n",
            "8641/8641 [==============================] - 11s 1ms/step - loss: 1.3132 - accuracy: 0.8750\n",
            "Epoch 10/20\n",
            "8641/8641 [==============================] - 11s 1ms/step - loss: 0.4540 - accuracy: 0.8803\n",
            "Epoch 11/20\n",
            "8641/8641 [==============================] - 11s 1ms/step - loss: 0.6932 - accuracy: 0.8761\n",
            "Epoch 12/20\n",
            "8641/8641 [==============================] - 11s 1ms/step - loss: 0.4261 - accuracy: 0.8817\n",
            "Epoch 13/20\n",
            "8641/8641 [==============================] - 11s 1ms/step - loss: 0.3623 - accuracy: 0.8784\n",
            "Epoch 14/20\n",
            "8641/8641 [==============================] - 11s 1ms/step - loss: 0.3983 - accuracy: 0.8820\n",
            "Epoch 15/20\n",
            "8641/8641 [==============================] - 11s 1ms/step - loss: 0.3538 - accuracy: 0.8809\n",
            "Epoch 16/20\n",
            "8641/8641 [==============================] - 12s 1ms/step - loss: 0.4158 - accuracy: 0.8789\n",
            "Epoch 17/20\n",
            "8641/8641 [==============================] - 12s 1ms/step - loss: 0.3645 - accuracy: 0.8850\n",
            "Epoch 18/20\n",
            "8641/8641 [==============================] - 12s 1ms/step - loss: 0.3427 - accuracy: 0.8836\n",
            "Epoch 19/20\n",
            "8641/8641 [==============================] - 11s 1ms/step - loss: 0.4525 - accuracy: 0.8793\n",
            "Epoch 20/20\n",
            "8641/8641 [==============================] - 11s 1ms/step - loss: 0.4058 - accuracy: 0.8880\n"
          ],
          "name": "stdout"
        },
        {
          "output_type": "stream",
          "text": [
            "\n",
            " 73%|███████▎  | 11/15 [37:56<14:16, 214.24s/it]\u001b[A"
          ],
          "name": "stderr"
        },
        {
          "output_type": "stream",
          "text": [
            "Epoch 1/20\n",
            "8641/8641 [==============================] - 11s 1ms/step - loss: 5.7238 - accuracy: 0.7170\n",
            "Epoch 2/20\n",
            "8641/8641 [==============================] - 11s 1ms/step - loss: 4.2020 - accuracy: 0.8241\n",
            "Epoch 3/20\n",
            "8641/8641 [==============================] - 11s 1ms/step - loss: 1.6769 - accuracy: 0.8505\n",
            "Epoch 4/20\n",
            "8641/8641 [==============================] - 11s 1ms/step - loss: 4.7370 - accuracy: 0.8492\n",
            "Epoch 5/20\n",
            "8641/8641 [==============================] - 10s 1ms/step - loss: 1.3264 - accuracy: 0.8630\n",
            "Epoch 6/20\n",
            "8641/8641 [==============================] - 11s 1ms/step - loss: 1.0147 - accuracy: 0.8620\n",
            "Epoch 7/20\n",
            "8641/8641 [==============================] - 11s 1ms/step - loss: 1.0144 - accuracy: 0.8608\n",
            "Epoch 8/20\n",
            "8641/8641 [==============================] - 11s 1ms/step - loss: 0.5306 - accuracy: 0.8637\n",
            "Epoch 9/20\n",
            "8641/8641 [==============================] - 11s 1ms/step - loss: 0.6879 - accuracy: 0.8694\n",
            "Epoch 10/20\n",
            "8641/8641 [==============================] - 11s 1ms/step - loss: 1.2149 - accuracy: 0.8731\n",
            "Epoch 11/20\n",
            "8641/8641 [==============================] - 11s 1ms/step - loss: 0.5211 - accuracy: 0.8790\n",
            "Epoch 12/20\n",
            "8641/8641 [==============================] - 11s 1ms/step - loss: 0.4022 - accuracy: 0.8777\n",
            "Epoch 13/20\n",
            "8641/8641 [==============================] - 11s 1ms/step - loss: 0.4099 - accuracy: 0.8769\n",
            "Epoch 14/20\n",
            "8641/8641 [==============================] - 10s 1ms/step - loss: 0.3746 - accuracy: 0.8810\n",
            "Epoch 15/20\n",
            "8641/8641 [==============================] - 10s 1ms/step - loss: 0.3668 - accuracy: 0.8761\n",
            "Epoch 16/20\n",
            "8641/8641 [==============================] - 10s 1ms/step - loss: 0.3758 - accuracy: 0.8783\n",
            "Epoch 17/20\n",
            "8641/8641 [==============================] - 11s 1ms/step - loss: 0.4193 - accuracy: 0.8763\n",
            "Epoch 18/20\n",
            "8641/8641 [==============================] - 11s 1ms/step - loss: 0.3755 - accuracy: 0.8711\n",
            "Epoch 19/20\n",
            "8641/8641 [==============================] - 10s 1ms/step - loss: 0.4229 - accuracy: 0.8756\n",
            "Epoch 20/20\n",
            "8641/8641 [==============================] - 10s 1ms/step - loss: 0.4525 - accuracy: 0.8846\n"
          ],
          "name": "stdout"
        },
        {
          "output_type": "stream",
          "text": [
            "\n",
            " 80%|████████  | 12/15 [41:31<10:42, 214.21s/it]\u001b[A"
          ],
          "name": "stderr"
        },
        {
          "output_type": "stream",
          "text": [
            "Epoch 1/20\n",
            "8641/8641 [==============================] - 11s 1ms/step - loss: 5.0608 - accuracy: 0.7378\n",
            "Epoch 2/20\n",
            "8641/8641 [==============================] - 10s 1ms/step - loss: 2.1637 - accuracy: 0.8297\n",
            "Epoch 3/20\n",
            "8641/8641 [==============================] - 11s 1ms/step - loss: 7.4889 - accuracy: 0.8477\n",
            "Epoch 4/20\n",
            "8641/8641 [==============================] - 11s 1ms/step - loss: 3.7128 - accuracy: 0.8287\n",
            "Epoch 5/20\n",
            "8641/8641 [==============================] - 11s 1ms/step - loss: 2.6292 - accuracy: 0.8506\n",
            "Epoch 6/20\n",
            "8641/8641 [==============================] - 11s 1ms/step - loss: 3.9620 - accuracy: 0.8384\n",
            "Epoch 7/20\n",
            "8641/8641 [==============================] - 11s 1ms/step - loss: 0.8902 - accuracy: 0.8563\n",
            "Epoch 8/20\n",
            "8641/8641 [==============================] - 12s 1ms/step - loss: 0.9840 - accuracy: 0.8657\n",
            "Epoch 9/20\n",
            "8641/8641 [==============================] - 11s 1ms/step - loss: 2.1479 - accuracy: 0.8622\n",
            "Epoch 10/20\n",
            "8641/8641 [==============================] - 11s 1ms/step - loss: 2.0828 - accuracy: 0.8700\n",
            "Epoch 11/20\n",
            "8641/8641 [==============================] - 11s 1ms/step - loss: 0.8865 - accuracy: 0.8821\n",
            "Epoch 12/20\n",
            "8641/8641 [==============================] - 11s 1ms/step - loss: 0.8490 - accuracy: 0.8755\n",
            "Epoch 13/20\n",
            "8641/8641 [==============================] - 11s 1ms/step - loss: 1.0316 - accuracy: 0.8828\n",
            "Epoch 14/20\n",
            "8641/8641 [==============================] - 11s 1ms/step - loss: 1.7141 - accuracy: 0.8735\n",
            "Epoch 15/20\n",
            "8641/8641 [==============================] - 10s 1ms/step - loss: 0.6686 - accuracy: 0.8776\n",
            "Epoch 16/20\n",
            "8641/8641 [==============================] - 11s 1ms/step - loss: 1.1751 - accuracy: 0.8795\n",
            "Epoch 17/20\n",
            "8641/8641 [==============================] - 11s 1ms/step - loss: 0.8498 - accuracy: 0.8888\n",
            "Epoch 18/20\n",
            "8641/8641 [==============================] - 11s 1ms/step - loss: 0.3557 - accuracy: 0.8839\n",
            "Epoch 19/20\n",
            "8641/8641 [==============================] - 10s 1ms/step - loss: 0.4859 - accuracy: 0.8824\n",
            "Epoch 20/20\n",
            "8641/8641 [==============================] - 10s 1ms/step - loss: 0.5301 - accuracy: 0.8872\n"
          ],
          "name": "stdout"
        },
        {
          "output_type": "stream",
          "text": [
            "\n",
            " 87%|████████▋ | 13/15 [45:08<07:10, 215.10s/it]\u001b[A"
          ],
          "name": "stderr"
        },
        {
          "output_type": "stream",
          "text": [
            "Epoch 1/20\n",
            "8641/8641 [==============================] - 11s 1ms/step - loss: 7.1625 - accuracy: 0.7219\n",
            "Epoch 2/20\n",
            "8641/8641 [==============================] - 11s 1ms/step - loss: 2.3275 - accuracy: 0.8539\n",
            "Epoch 3/20\n",
            "8641/8641 [==============================] - 11s 1ms/step - loss: 8.0826 - accuracy: 0.8705\n",
            "Epoch 4/20\n",
            "8641/8641 [==============================] - 11s 1ms/step - loss: 0.9815 - accuracy: 0.8716\n",
            "Epoch 5/20\n",
            "8641/8641 [==============================] - 11s 1ms/step - loss: 0.8984 - accuracy: 0.8732\n",
            "Epoch 6/20\n",
            "8641/8641 [==============================] - 11s 1ms/step - loss: 4.5554 - accuracy: 0.8772\n",
            "Epoch 7/20\n",
            "8641/8641 [==============================] - 11s 1ms/step - loss: 3.1204 - accuracy: 0.8799\n",
            "Epoch 8/20\n",
            "8641/8641 [==============================] - 11s 1ms/step - loss: 1.6032 - accuracy: 0.8745\n",
            "Epoch 9/20\n",
            "8641/8641 [==============================] - 11s 1ms/step - loss: 2.5456 - accuracy: 0.8769\n",
            "Epoch 10/20\n",
            "8641/8641 [==============================] - 11s 1ms/step - loss: 1.1556 - accuracy: 0.8807\n",
            "Epoch 11/20\n",
            "8641/8641 [==============================] - 11s 1ms/step - loss: 0.5444 - accuracy: 0.8810\n",
            "Epoch 12/20\n",
            "8641/8641 [==============================] - 11s 1ms/step - loss: 0.9563 - accuracy: 0.8814\n",
            "Epoch 13/20\n",
            "8641/8641 [==============================] - 11s 1ms/step - loss: 0.4360 - accuracy: 0.8767\n",
            "Epoch 14/20\n",
            "8641/8641 [==============================] - 11s 1ms/step - loss: 0.8576 - accuracy: 0.8758\n",
            "Epoch 15/20\n",
            "8641/8641 [==============================] - 11s 1ms/step - loss: 0.8994 - accuracy: 0.8804\n",
            "Epoch 16/20\n",
            "8641/8641 [==============================] - 11s 1ms/step - loss: 0.9932 - accuracy: 0.8796\n",
            "Epoch 17/20\n",
            "8641/8641 [==============================] - 11s 1ms/step - loss: 1.2031 - accuracy: 0.8839\n",
            "Epoch 18/20\n",
            "8641/8641 [==============================] - 11s 1ms/step - loss: 0.6384 - accuracy: 0.8711\n",
            "Epoch 19/20\n",
            "8641/8641 [==============================] - 11s 1ms/step - loss: 0.5504 - accuracy: 0.8821\n",
            "Epoch 20/20\n",
            "8641/8641 [==============================] - 11s 1ms/step - loss: 0.6034 - accuracy: 0.8830\n"
          ],
          "name": "stdout"
        },
        {
          "output_type": "stream",
          "text": [
            "\n",
            " 93%|█████████▎| 14/15 [48:43<03:35, 215.24s/it]\u001b[A"
          ],
          "name": "stderr"
        },
        {
          "output_type": "stream",
          "text": [
            "Epoch 1/20\n",
            "8641/8641 [==============================] - 11s 1ms/step - loss: 6.6885 - accuracy: 0.7092\n",
            "Epoch 2/20\n",
            "8641/8641 [==============================] - 11s 1ms/step - loss: 3.4236 - accuracy: 0.8052\n",
            "Epoch 3/20\n",
            "8641/8641 [==============================] - 11s 1ms/step - loss: 1.2714 - accuracy: 0.8598\n",
            "Epoch 4/20\n",
            "8641/8641 [==============================] - 11s 1ms/step - loss: 1.1897 - accuracy: 0.8672\n",
            "Epoch 5/20\n",
            "8641/8641 [==============================] - 11s 1ms/step - loss: 0.6433 - accuracy: 0.8750\n",
            "Epoch 6/20\n",
            "8641/8641 [==============================] - 11s 1ms/step - loss: 1.4911 - accuracy: 0.8714\n",
            "Epoch 7/20\n",
            "8641/8641 [==============================] - 11s 1ms/step - loss: 0.4365 - accuracy: 0.8765\n",
            "Epoch 8/20\n",
            "8641/8641 [==============================] - 11s 1ms/step - loss: 1.3206 - accuracy: 0.8728\n",
            "Epoch 9/20\n",
            "8641/8641 [==============================] - 11s 1ms/step - loss: 0.4909 - accuracy: 0.8695\n",
            "Epoch 10/20\n",
            "8641/8641 [==============================] - 11s 1ms/step - loss: 0.4776 - accuracy: 0.8792\n",
            "Epoch 11/20\n",
            "8641/8641 [==============================] - 11s 1ms/step - loss: 0.3923 - accuracy: 0.8801\n",
            "Epoch 12/20\n",
            "8641/8641 [==============================] - 11s 1ms/step - loss: 0.4152 - accuracy: 0.8772\n",
            "Epoch 13/20\n",
            "8641/8641 [==============================] - 11s 1ms/step - loss: 0.3623 - accuracy: 0.8775\n",
            "Epoch 14/20\n",
            "8641/8641 [==============================] - 11s 1ms/step - loss: 0.3763 - accuracy: 0.8739\n",
            "Epoch 15/20\n",
            "8641/8641 [==============================] - 11s 1ms/step - loss: 0.4267 - accuracy: 0.8840\n",
            "Epoch 16/20\n",
            "8641/8641 [==============================] - 11s 1ms/step - loss: 0.3659 - accuracy: 0.8817\n",
            "Epoch 17/20\n",
            "8641/8641 [==============================] - 11s 1ms/step - loss: 0.3788 - accuracy: 0.8854\n",
            "Epoch 18/20\n",
            "8641/8641 [==============================] - 11s 1ms/step - loss: 0.3404 - accuracy: 0.8833\n",
            "Epoch 19/20\n",
            "8641/8641 [==============================] - 11s 1ms/step - loss: 0.3840 - accuracy: 0.8836\n",
            "Epoch 20/20\n",
            "8641/8641 [==============================] - 11s 1ms/step - loss: 0.3599 - accuracy: 0.8886\n"
          ],
          "name": "stdout"
        },
        {
          "output_type": "stream",
          "text": [
            "\n",
            "100%|██████████| 15/15 [52:18<00:00, 209.23s/it]\n"
          ],
          "name": "stderr"
        }
      ]
    },
    {
      "cell_type": "markdown",
      "metadata": {
        "id": "buDjPl9mJXKT"
      },
      "source": [
        "# Save Training Histories"
      ]
    },
    {
      "cell_type": "code",
      "metadata": {
        "id": "d3EIMRiurKQD",
        "colab": {
          "base_uri": "https://localhost:8080/",
          "height": 384
        },
        "outputId": "9ab8246b-6326-404c-db67-99377401f35f"
      },
      "source": [
        "import pickle\n",
        "for i,hist in enumerate(histories):\n",
        "    model = hist.model\n",
        "    params = hist.params\n",
        "    hist = hist.history\n",
        "    outfile = open(\"hist\"+str(i), 'wb')\n",
        "    pickle.dump(hist, outfile)\n",
        "    outfile.close()\n",
        "    model.save(\"model\"+str(i)+\".h5\")\n",
        "    outfile = open(\"params\"+str(i), 'wb')\n",
        "    pickle.dump(params, outfile)\n",
        "    outfile.close()"
      ],
      "execution_count": null,
      "outputs": [
        {
          "output_type": "error",
          "ename": "FailedPreconditionError",
          "evalue": "ignored",
          "traceback": [
            "\u001b[0;31m---------------------------------------------------------------------------\u001b[0m",
            "\u001b[0;31mFailedPreconditionError\u001b[0m                   Traceback (most recent call last)",
            "\u001b[0;32m<ipython-input-68-d73cf52ba34d>\u001b[0m in \u001b[0;36m<module>\u001b[0;34m()\u001b[0m\n\u001b[1;32m      7\u001b[0m     \u001b[0mpickle\u001b[0m\u001b[0;34m.\u001b[0m\u001b[0mdump\u001b[0m\u001b[0;34m(\u001b[0m\u001b[0mhist\u001b[0m\u001b[0;34m,\u001b[0m \u001b[0moutfile\u001b[0m\u001b[0;34m)\u001b[0m\u001b[0;34m\u001b[0m\u001b[0;34m\u001b[0m\u001b[0m\n\u001b[1;32m      8\u001b[0m     \u001b[0moutfile\u001b[0m\u001b[0;34m.\u001b[0m\u001b[0mclose\u001b[0m\u001b[0;34m(\u001b[0m\u001b[0;34m)\u001b[0m\u001b[0;34m\u001b[0m\u001b[0;34m\u001b[0m\u001b[0m\n\u001b[0;32m----> 9\u001b[0;31m     \u001b[0mmodel\u001b[0m\u001b[0;34m.\u001b[0m\u001b[0msave\u001b[0m\u001b[0;34m(\u001b[0m\u001b[0;34m\"model\"\u001b[0m\u001b[0;34m+\u001b[0m\u001b[0mstr\u001b[0m\u001b[0;34m(\u001b[0m\u001b[0mi\u001b[0m\u001b[0;34m)\u001b[0m\u001b[0;34m)\u001b[0m\u001b[0;34m\u001b[0m\u001b[0;34m\u001b[0m\u001b[0m\n\u001b[0m\u001b[1;32m     10\u001b[0m     \u001b[0moutfile\u001b[0m \u001b[0;34m=\u001b[0m \u001b[0mopen\u001b[0m\u001b[0;34m(\u001b[0m\u001b[0;34m\"params\"\u001b[0m\u001b[0;34m+\u001b[0m\u001b[0mstr\u001b[0m\u001b[0;34m(\u001b[0m\u001b[0mi\u001b[0m\u001b[0;34m)\u001b[0m\u001b[0;34m,\u001b[0m \u001b[0;34m'wb'\u001b[0m\u001b[0;34m)\u001b[0m\u001b[0;34m\u001b[0m\u001b[0;34m\u001b[0m\u001b[0m\n\u001b[1;32m     11\u001b[0m     \u001b[0mpickle\u001b[0m\u001b[0;34m.\u001b[0m\u001b[0mdump\u001b[0m\u001b[0;34m(\u001b[0m\u001b[0mparams\u001b[0m\u001b[0;34m,\u001b[0m \u001b[0moutfile\u001b[0m\u001b[0;34m)\u001b[0m\u001b[0;34m\u001b[0m\u001b[0;34m\u001b[0m\u001b[0m\n",
            "\u001b[0;32m/usr/local/lib/python3.7/dist-packages/tensorflow/python/keras/engine/training.py\u001b[0m in \u001b[0;36msave\u001b[0;34m(self, filepath, overwrite, include_optimizer, save_format, signatures, options, save_traces)\u001b[0m\n\u001b[1;32m   2000\u001b[0m     \u001b[0;31m# pylint: enable=line-too-long\u001b[0m\u001b[0;34m\u001b[0m\u001b[0;34m\u001b[0m\u001b[0;34m\u001b[0m\u001b[0m\n\u001b[1;32m   2001\u001b[0m     save.save_model(self, filepath, overwrite, include_optimizer, save_format,\n\u001b[0;32m-> 2002\u001b[0;31m                     signatures, options, save_traces)\n\u001b[0m\u001b[1;32m   2003\u001b[0m \u001b[0;34m\u001b[0m\u001b[0m\n\u001b[1;32m   2004\u001b[0m   def save_weights(self,\n",
            "\u001b[0;32m/usr/local/lib/python3.7/dist-packages/tensorflow/python/keras/saving/save.py\u001b[0m in \u001b[0;36msave_model\u001b[0;34m(model, filepath, overwrite, include_optimizer, save_format, signatures, options, save_traces)\u001b[0m\n\u001b[1;32m    155\u001b[0m   \u001b[0;32melse\u001b[0m\u001b[0;34m:\u001b[0m\u001b[0;34m\u001b[0m\u001b[0;34m\u001b[0m\u001b[0m\n\u001b[1;32m    156\u001b[0m     saved_model_save.save(model, filepath, overwrite, include_optimizer,\n\u001b[0;32m--> 157\u001b[0;31m                           signatures, options, save_traces)\n\u001b[0m\u001b[1;32m    158\u001b[0m \u001b[0;34m\u001b[0m\u001b[0m\n\u001b[1;32m    159\u001b[0m \u001b[0;34m\u001b[0m\u001b[0m\n",
            "\u001b[0;32m/usr/local/lib/python3.7/dist-packages/tensorflow/python/keras/saving/saved_model/save.py\u001b[0m in \u001b[0;36msave\u001b[0;34m(model, filepath, overwrite, include_optimizer, signatures, options, save_traces)\u001b[0m\n\u001b[1;32m     87\u001b[0m     \u001b[0;32mwith\u001b[0m \u001b[0mdistribution_strategy_context\u001b[0m\u001b[0;34m.\u001b[0m\u001b[0m_get_default_replica_context\u001b[0m\u001b[0;34m(\u001b[0m\u001b[0;34m)\u001b[0m\u001b[0;34m:\u001b[0m  \u001b[0;31m# pylint: disable=protected-access\u001b[0m\u001b[0;34m\u001b[0m\u001b[0;34m\u001b[0m\u001b[0m\n\u001b[1;32m     88\u001b[0m       \u001b[0;32mwith\u001b[0m \u001b[0mutils\u001b[0m\u001b[0;34m.\u001b[0m\u001b[0mkeras_option_scope\u001b[0m\u001b[0;34m(\u001b[0m\u001b[0msave_traces\u001b[0m\u001b[0;34m)\u001b[0m\u001b[0;34m:\u001b[0m\u001b[0;34m\u001b[0m\u001b[0;34m\u001b[0m\u001b[0m\n\u001b[0;32m---> 89\u001b[0;31m         \u001b[0msave_lib\u001b[0m\u001b[0;34m.\u001b[0m\u001b[0msave\u001b[0m\u001b[0;34m(\u001b[0m\u001b[0mmodel\u001b[0m\u001b[0;34m,\u001b[0m \u001b[0mfilepath\u001b[0m\u001b[0;34m,\u001b[0m \u001b[0msignatures\u001b[0m\u001b[0;34m,\u001b[0m \u001b[0moptions\u001b[0m\u001b[0;34m)\u001b[0m\u001b[0;34m\u001b[0m\u001b[0;34m\u001b[0m\u001b[0m\n\u001b[0m\u001b[1;32m     90\u001b[0m \u001b[0;34m\u001b[0m\u001b[0m\n\u001b[1;32m     91\u001b[0m   \u001b[0;32mif\u001b[0m \u001b[0;32mnot\u001b[0m \u001b[0minclude_optimizer\u001b[0m\u001b[0;34m:\u001b[0m\u001b[0;34m\u001b[0m\u001b[0;34m\u001b[0m\u001b[0m\n",
            "\u001b[0;32m/usr/local/lib/python3.7/dist-packages/tensorflow/python/saved_model/save.py\u001b[0m in \u001b[0;36msave\u001b[0;34m(obj, export_dir, signatures, options)\u001b[0m\n\u001b[1;32m   1036\u001b[0m   \u001b[0;31m# Write the checkpoint, copy assets into the assets directory, and write out\u001b[0m\u001b[0;34m\u001b[0m\u001b[0;34m\u001b[0m\u001b[0;34m\u001b[0m\u001b[0m\n\u001b[1;32m   1037\u001b[0m   \u001b[0;31m# the SavedModel proto itself.\u001b[0m\u001b[0;34m\u001b[0m\u001b[0;34m\u001b[0m\u001b[0;34m\u001b[0m\u001b[0m\n\u001b[0;32m-> 1038\u001b[0;31m   \u001b[0mutils_impl\u001b[0m\u001b[0;34m.\u001b[0m\u001b[0mget_or_create_variables_dir\u001b[0m\u001b[0;34m(\u001b[0m\u001b[0mexport_dir\u001b[0m\u001b[0;34m)\u001b[0m\u001b[0;34m\u001b[0m\u001b[0;34m\u001b[0m\u001b[0m\n\u001b[0m\u001b[1;32m   1039\u001b[0m   ckpt_options = checkpoint_options.CheckpointOptions(\n\u001b[1;32m   1040\u001b[0m       experimental_io_device=options.experimental_io_device)\n",
            "\u001b[0;32m/usr/local/lib/python3.7/dist-packages/tensorflow/python/saved_model/utils_impl.py\u001b[0m in \u001b[0;36mget_or_create_variables_dir\u001b[0;34m(export_dir)\u001b[0m\n\u001b[1;32m    218\u001b[0m   \u001b[0mvariables_dir\u001b[0m \u001b[0;34m=\u001b[0m \u001b[0mget_variables_dir\u001b[0m\u001b[0;34m(\u001b[0m\u001b[0mexport_dir\u001b[0m\u001b[0;34m)\u001b[0m\u001b[0;34m\u001b[0m\u001b[0;34m\u001b[0m\u001b[0m\n\u001b[1;32m    219\u001b[0m   \u001b[0;32mif\u001b[0m \u001b[0;32mnot\u001b[0m \u001b[0mfile_io\u001b[0m\u001b[0;34m.\u001b[0m\u001b[0mfile_exists\u001b[0m\u001b[0;34m(\u001b[0m\u001b[0mvariables_dir\u001b[0m\u001b[0;34m)\u001b[0m\u001b[0;34m:\u001b[0m\u001b[0;34m\u001b[0m\u001b[0;34m\u001b[0m\u001b[0m\n\u001b[0;32m--> 220\u001b[0;31m     \u001b[0mfile_io\u001b[0m\u001b[0;34m.\u001b[0m\u001b[0mrecursive_create_dir\u001b[0m\u001b[0;34m(\u001b[0m\u001b[0mvariables_dir\u001b[0m\u001b[0;34m)\u001b[0m\u001b[0;34m\u001b[0m\u001b[0;34m\u001b[0m\u001b[0m\n\u001b[0m\u001b[1;32m    221\u001b[0m   \u001b[0;32mreturn\u001b[0m \u001b[0mvariables_dir\u001b[0m\u001b[0;34m\u001b[0m\u001b[0;34m\u001b[0m\u001b[0m\n\u001b[1;32m    222\u001b[0m \u001b[0;34m\u001b[0m\u001b[0m\n",
            "\u001b[0;32m/usr/local/lib/python3.7/dist-packages/tensorflow/python/lib/io/file_io.py\u001b[0m in \u001b[0;36mrecursive_create_dir\u001b[0;34m(dirname)\u001b[0m\n\u001b[1;32m    466\u001b[0m     \u001b[0merrors\u001b[0m\u001b[0;34m.\u001b[0m\u001b[0mOpError\u001b[0m\u001b[0;34m:\u001b[0m \u001b[0mIf\u001b[0m \u001b[0mthe\u001b[0m \u001b[0moperation\u001b[0m \u001b[0mfails\u001b[0m\u001b[0;34m.\u001b[0m\u001b[0;34m\u001b[0m\u001b[0;34m\u001b[0m\u001b[0m\n\u001b[1;32m    467\u001b[0m   \"\"\"\n\u001b[0;32m--> 468\u001b[0;31m   \u001b[0mrecursive_create_dir_v2\u001b[0m\u001b[0;34m(\u001b[0m\u001b[0mdirname\u001b[0m\u001b[0;34m)\u001b[0m\u001b[0;34m\u001b[0m\u001b[0;34m\u001b[0m\u001b[0m\n\u001b[0m\u001b[1;32m    469\u001b[0m \u001b[0;34m\u001b[0m\u001b[0m\n\u001b[1;32m    470\u001b[0m \u001b[0;34m\u001b[0m\u001b[0m\n",
            "\u001b[0;32m/usr/local/lib/python3.7/dist-packages/tensorflow/python/lib/io/file_io.py\u001b[0m in \u001b[0;36mrecursive_create_dir_v2\u001b[0;34m(path)\u001b[0m\n\u001b[1;32m    481\u001b[0m     \u001b[0merrors\u001b[0m\u001b[0;34m.\u001b[0m\u001b[0mOpError\u001b[0m\u001b[0;34m:\u001b[0m \u001b[0mIf\u001b[0m \u001b[0mthe\u001b[0m \u001b[0moperation\u001b[0m \u001b[0mfails\u001b[0m\u001b[0;34m.\u001b[0m\u001b[0;34m\u001b[0m\u001b[0;34m\u001b[0m\u001b[0m\n\u001b[1;32m    482\u001b[0m   \"\"\"\n\u001b[0;32m--> 483\u001b[0;31m   \u001b[0m_pywrap_file_io\u001b[0m\u001b[0;34m.\u001b[0m\u001b[0mRecursivelyCreateDir\u001b[0m\u001b[0;34m(\u001b[0m\u001b[0mcompat\u001b[0m\u001b[0;34m.\u001b[0m\u001b[0mpath_to_bytes\u001b[0m\u001b[0;34m(\u001b[0m\u001b[0mpath\u001b[0m\u001b[0;34m)\u001b[0m\u001b[0;34m)\u001b[0m\u001b[0;34m\u001b[0m\u001b[0;34m\u001b[0m\u001b[0m\n\u001b[0m\u001b[1;32m    484\u001b[0m \u001b[0;34m\u001b[0m\u001b[0m\n\u001b[1;32m    485\u001b[0m \u001b[0;34m\u001b[0m\u001b[0m\n",
            "\u001b[0;31mFailedPreconditionError\u001b[0m: model0 is not a directory"
          ]
        }
      ]
    },
    {
      "cell_type": "markdown",
      "metadata": {
        "id": "RzUTbmSGJZ0R"
      },
      "source": [
        "# Load Training Histories"
      ]
    },
    {
      "cell_type": "code",
      "metadata": {
        "id": "K8PslVgEy2yO"
      },
      "source": [
        "histories_loaded = []\n",
        "# TODO : How to remember the number of models saved?\n",
        "for i in range(5):\n",
        "  hist = {\n",
        "      'model':[],\n",
        "      'hist':[],\n",
        "      'params':[]\n",
        "  }\n",
        "  hist['model'].append(keras.models.load_model(\"model\"+str(i)+\".h5\"))\n",
        "  hist['hist'].append(pickle.load(open(\"hist\"+str(i), \"rb\")))\n",
        "  hist['params'].append(pickle.load(open(\"params\"+str(i), \"rb\")))\n",
        "  histories_loaded.append(hist)"
      ],
      "execution_count": null,
      "outputs": []
    },
    {
      "cell_type": "markdown",
      "metadata": {
        "id": "AZg-KC2hJicE"
      },
      "source": [
        "# Visualize Training Histories"
      ]
    },
    {
      "cell_type": "code",
      "metadata": {
        "id": "a05EEKh9y4cu",
        "colab": {
          "base_uri": "https://localhost:8080/",
          "height": 1000
        },
        "outputId": "bf4f884a-2b4e-4b6a-e60a-62222d1a45cc"
      },
      "source": [
        "for hist in histories_loaded:\n",
        "  acc = hist['hist'][0]['accuracy']\n",
        "  loss = hist['hist'][0]['loss']\n",
        "  print(\"Max Accuracy: \",max(acc),\"Min Loss: \",min(loss))\n",
        "  print(\"Number of Hidden Layer Neurons: \",hist['model'][0].layers[0].output_shape[1])\n",
        "  plt.subplot(1, 2, 1)\n",
        "  plt.plot(acc)\n",
        "  plt.title('model accuracy')\n",
        "  plt.ylabel('accuracy')\n",
        "  plt.xlabel('epoch')\n",
        "  # summarize history for loss\n",
        "  plt.subplot(1, 2, 2)\n",
        "  plt.plot(loss)\n",
        "  plt.title('model loss')\n",
        "  plt.ylabel('loss')\n",
        "  plt.xlabel('epoch')\n",
        "  plt.show()"
      ],
      "execution_count": null,
      "outputs": [
        {
          "output_type": "stream",
          "text": [
            "Max Accuracy:  0.7554681171160745 Min Loss:  9.423585532491185\n",
            "Number of Hidden Layer Neurons:  5\n"
          ],
          "name": "stdout"
        },
        {
          "output_type": "display_data",
          "data": {
            "image/png": "[encoded data removed]",
            "text/plain": [
              "<Figure size 432x288 with 2 Axes>"
            ]
          },
          "metadata": {
            "tags": [],
            "needs_background": "light"
          }
        },
        {
          "output_type": "stream",
          "text": [
            "Max Accuracy:  0.7107973614165027 Min Loss:  3.8820540753105406\n",
            "Number of Hidden Layer Neurons:  6\n"
          ],
          "name": "stdout"
        },
        {
          "output_type": "display_data",
          "data": {
            "image/png": "[encoded data removed]",
            "text/plain": [
              "<Figure size 432x288 with 2 Axes>"
            ]
          },
          "metadata": {
            "tags": [],
            "needs_background": "light"
          }
        },
        {
          "output_type": "stream",
          "text": [
            "Max Accuracy:  0.7302395556069899 Min Loss:  2.8392225932967157\n",
            "Number of Hidden Layer Neurons:  7\n"
          ],
          "name": "stdout"
        },
        {
          "output_type": "display_data",
          "data": {
            "image/png": "[encoded data removed]",
            "text/plain": [
              "<Figure size 432x288 with 2 Axes>"
            ]
          },
          "metadata": {
            "tags": [],
            "needs_background": "light"
          }
        },
        {
          "output_type": "stream",
          "text": [
            "Max Accuracy:  0.7756046753847934 Min Loss:  5.961763520665806\n",
            "Number of Hidden Layer Neurons:  8\n"
          ],
          "name": "stdout"
        },
        {
          "output_type": "display_data",
          "data": {
            "image/png": "[encoded data removed]",
            "text/plain": [
              "<Figure size 432x288 with 2 Axes>"
            ]
          },
          "metadata": {
            "tags": [],
            "needs_background": "light"
          }
        },
        {
          "output_type": "stream",
          "text": [
            "Max Accuracy:  0.668209697951626 Min Loss:  5.383028466879364\n",
            "Number of Hidden Layer Neurons:  9\n"
          ],
          "name": "stdout"
        },
        {
          "output_type": "display_data",
          "data": {
            "image/png": "[encoded data removed]",
            "text/plain": [
              "<Figure size 432x288 with 2 Axes>"
            ]
          },
          "metadata": {
            "tags": [],
            "needs_background": "light"
          }
        }
      ]
    },
    {
      "cell_type": "code",
      "metadata": {
        "id": "9b0VOXY7QLWS"
      },
      "source": [
        "from google.colab import files\n",
        "files.download(\"data.csv\")\n",
        "\"\"\"\n",
        "TODO:\n",
        "- train/test/val split (sklean package has a nice function to do this)\n",
        "- extend underrepresented classes to be equal with class of highest representation\n",
        "\"\"\""
      ],
      "execution_count": null,
      "outputs": []
    }
  ]
}