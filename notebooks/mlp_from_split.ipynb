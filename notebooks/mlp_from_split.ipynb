{
 "cells": [
  {
   "cell_type": "code",
   "execution_count": 14,
   "metadata": {},
   "outputs": [
    {
     "name": "stdout",
     "output_type": "stream",
     "text": [
      "Examples:\n",
      "    Total: 154043\n",
      "    P: 10007 (6.50% of total)\n",
      "    S: 64346 (41.77% of total)\n",
      "    W: 79690 (51.73% of total)\n",
      "\n"
     ]
    },
    {
     "data": {
      "text/plain": [
       "(10007, 64346, 79690)"
      ]
     },
     "execution_count": 14,
     "metadata": {},
     "output_type": "execute_result"
    }
   ],
   "source": [
    "import pandas as pd\n",
    "from scripts.utils import class_count\n",
    "df = pd.read_csv(\"data/concatenated/X_preprocessed.csv\")\n",
    "class_count(df)"
   ]
  },
  {
   "cell_type": "code",
   "execution_count": 1,
   "metadata": {},
   "outputs": [],
   "source": [
    "from sklearn.preprocessing import MinMaxScaler\n",
    "import numpy as np\n",
    "import pandas as pd\n",
    "dir = \"data/splits/train_test_val_split_0000/\"\n",
    "train_df = pd.read_csv(dir+\"train.csv\")\n",
    "val_df = pd.read_csv(dir+\"val.csv\")\n",
    "test_df = pd.read_csv(dir+\"test.csv\")\n",
    "\n",
    "y_test = test_df.pop('Class')\n",
    "x_test = test_df\n",
    "y_train = train_df.pop('Class')\n",
    "x_train = train_df\n",
    "y_val = val_df.pop('Class')\n",
    "x_val = val_df\n",
    "\n",
    "scaler = MinMaxScaler()\n",
    "x_train = scaler.fit_transform(x_train)\n",
    "x_val = scaler.fit_transform(x_val)\n",
    "x_test = scaler.fit_transform(x_test)\n",
    "\n",
    "x_train = np.array(x_train)\n",
    "y_train = np.array(y_train)\n",
    "x_val = np.array(x_val)\n",
    "y_val = np.array(y_val)\n",
    "x_test = np.array(x_test)\n",
    "y_test = np.array(y_test)"
   ]
  },
  {
   "cell_type": "code",
   "execution_count": 14,
   "metadata": {},
   "outputs": [
    {
     "name": "stdout",
     "output_type": "stream",
     "text": [
      "Epoch 1/50\n",
      "2243/2243 [==============================] - 5s 2ms/step - loss: 0.3492 - categorical_accuracy: 0.8811 - precision: 0.9008 - recall: 0.8570 - auc: 0.9677 - val_loss: 0.3401 - val_categorical_accuracy: 0.8833 - val_precision: 0.9009 - val_recall: 0.8614 - val_auc: 0.9687\n",
      "\n",
      "Epoch 00001: val_loss improved from inf to 0.34012, saving model to best_model.h5\n",
      "Epoch 2/50\n",
      "2243/2243 [==============================] - 5s 2ms/step - loss: 0.2804 - categorical_accuracy: 0.9030 - precision: 0.9147 - recall: 0.8917 - auc: 0.9778 - val_loss: 0.3160 - val_categorical_accuracy: 0.8911 - val_precision: 0.9061 - val_recall: 0.8727 - val_auc: 0.9726\n",
      "\n",
      "Epoch 00002: val_loss improved from 0.34012 to 0.31604, saving model to best_model.h5\n",
      "Epoch 3/50\n",
      "2243/2243 [==============================] - 5s 2ms/step - loss: 0.2650 - categorical_accuracy: 0.9090 - precision: 0.9190 - recall: 0.8989 - auc: 0.9800 - val_loss: 0.3251 - val_categorical_accuracy: 0.8877 - val_precision: 0.9028 - val_recall: 0.8733 - val_auc: 0.9707\n",
      "\n",
      "Epoch 00003: val_loss did not improve from 0.31604\n",
      "Epoch 4/50\n",
      "2243/2243 [==============================] - 5s 2ms/step - loss: 0.2534 - categorical_accuracy: 0.9130 - precision: 0.9225 - recall: 0.9034 - auc: 0.9816 - val_loss: 0.3392 - val_categorical_accuracy: 0.8815 - val_precision: 0.8968 - val_recall: 0.8619 - val_auc: 0.9688\n",
      "\n",
      "Epoch 00004: val_loss did not improve from 0.31604\n",
      "Epoch 5/50\n",
      "2243/2243 [==============================] - 5s 2ms/step - loss: 0.2446 - categorical_accuracy: 0.9161 - precision: 0.9254 - recall: 0.9072 - auc: 0.9828 - val_loss: 0.3079 - val_categorical_accuracy: 0.8944 - val_precision: 0.9071 - val_recall: 0.8794 - val_auc: 0.9737\n",
      "\n",
      "Epoch 00005: val_loss improved from 0.31604 to 0.30794, saving model to best_model.h5\n",
      "Epoch 6/50\n",
      "2243/2243 [==============================] - 5s 2ms/step - loss: 0.2388 - categorical_accuracy: 0.9183 - precision: 0.9271 - recall: 0.9095 - auc: 0.9835 - val_loss: 0.2790 - val_categorical_accuracy: 0.9050 - val_precision: 0.9176 - val_recall: 0.8932 - val_auc: 0.9781\n",
      "\n",
      "Epoch 00006: val_loss improved from 0.30794 to 0.27897, saving model to best_model.h5\n",
      "Epoch 7/50\n",
      "2243/2243 [==============================] - 4s 2ms/step - loss: 0.2332 - categorical_accuracy: 0.9200 - precision: 0.9288 - recall: 0.9119 - auc: 0.9842 - val_loss: 0.2864 - val_categorical_accuracy: 0.9021 - val_precision: 0.9131 - val_recall: 0.8894 - val_auc: 0.9769\n",
      "\n",
      "Epoch 00007: val_loss did not improve from 0.27897\n",
      "Epoch 8/50\n",
      "2243/2243 [==============================] - 4s 2ms/step - loss: 0.2299 - categorical_accuracy: 0.9212 - precision: 0.9294 - recall: 0.9131 - auc: 0.9845 - val_loss: 0.2604 - val_categorical_accuracy: 0.9156 - val_precision: 0.9286 - val_recall: 0.8995 - val_auc: 0.9810\n",
      "\n",
      "Epoch 00008: val_loss improved from 0.27897 to 0.26045, saving model to best_model.h5\n",
      "Epoch 9/50\n",
      "2243/2243 [==============================] - 4s 2ms/step - loss: 0.2262 - categorical_accuracy: 0.9227 - precision: 0.9312 - recall: 0.9147 - auc: 0.9851 - val_loss: 0.2631 - val_categorical_accuracy: 0.9137 - val_precision: 0.9263 - val_recall: 0.8995 - val_auc: 0.9806\n",
      "\n",
      "Epoch 00009: val_loss did not improve from 0.26045\n",
      "Epoch 10/50\n",
      "2243/2243 [==============================] - 4s 2ms/step - loss: 0.2222 - categorical_accuracy: 0.9239 - precision: 0.9323 - recall: 0.9160 - auc: 0.9856 - val_loss: 0.2870 - val_categorical_accuracy: 0.9014 - val_precision: 0.9119 - val_recall: 0.8892 - val_auc: 0.9769\n",
      "\n",
      "Epoch 00010: val_loss did not improve from 0.26045\n",
      "Epoch 11/50\n",
      "2243/2243 [==============================] - 4s 2ms/step - loss: 0.2189 - categorical_accuracy: 0.9247 - precision: 0.9332 - recall: 0.9172 - auc: 0.9860 - val_loss: 0.2936 - val_categorical_accuracy: 0.8973 - val_precision: 0.9082 - val_recall: 0.8833 - val_auc: 0.9760\n",
      "\n",
      "Epoch 00011: val_loss did not improve from 0.26045\n",
      "Epoch 12/50\n",
      "2243/2243 [==============================] - 4s 2ms/step - loss: 0.2160 - categorical_accuracy: 0.9267 - precision: 0.9347 - recall: 0.9191 - auc: 0.9862 - val_loss: 0.2623 - val_categorical_accuracy: 0.9107 - val_precision: 0.9210 - val_recall: 0.9001 - val_auc: 0.9805\n",
      "\n",
      "Epoch 00012: val_loss did not improve from 0.26045\n",
      "Epoch 13/50\n",
      "2243/2243 [==============================] - 4s 2ms/step - loss: 0.2131 - categorical_accuracy: 0.9270 - precision: 0.9346 - recall: 0.9196 - auc: 0.9866 - val_loss: 0.2494 - val_categorical_accuracy: 0.9165 - val_precision: 0.9264 - val_recall: 0.9054 - val_auc: 0.9823\n",
      "\n",
      "Epoch 00013: val_loss improved from 0.26045 to 0.24942, saving model to best_model.h5\n",
      "Epoch 14/50\n",
      "2243/2243 [==============================] - 4s 2ms/step - loss: 0.2107 - categorical_accuracy: 0.9274 - precision: 0.9353 - recall: 0.9203 - auc: 0.9869 - val_loss: 0.2616 - val_categorical_accuracy: 0.9108 - val_precision: 0.9211 - val_recall: 0.8999 - val_auc: 0.9806\n",
      "\n",
      "Epoch 00014: val_loss did not improve from 0.24942\n",
      "Epoch 15/50\n",
      "2243/2243 [==============================] - 4s 2ms/step - loss: 0.2085 - categorical_accuracy: 0.9288 - precision: 0.9364 - recall: 0.9222 - auc: 0.9871 - val_loss: 0.2494 - val_categorical_accuracy: 0.9182 - val_precision: 0.9272 - val_recall: 0.9074 - val_auc: 0.9821\n",
      "\n",
      "Epoch 00015: val_loss improved from 0.24942 to 0.24941, saving model to best_model.h5\n",
      "Epoch 16/50\n",
      "2243/2243 [==============================] - 4s 2ms/step - loss: 0.2058 - categorical_accuracy: 0.9293 - precision: 0.9370 - recall: 0.9225 - auc: 0.9874 - val_loss: 0.2733 - val_categorical_accuracy: 0.9052 - val_precision: 0.9148 - val_recall: 0.8934 - val_auc: 0.9789\n",
      "\n",
      "Epoch 00016: val_loss did not improve from 0.24941\n",
      "Epoch 17/50\n",
      "2243/2243 [==============================] - 4s 2ms/step - loss: 0.2042 - categorical_accuracy: 0.9305 - precision: 0.9377 - recall: 0.9235 - auc: 0.9875 - val_loss: 0.2418 - val_categorical_accuracy: 0.9212 - val_precision: 0.9295 - val_recall: 0.9118 - val_auc: 0.9832\n",
      "\n",
      "Epoch 00017: val_loss improved from 0.24941 to 0.24176, saving model to best_model.h5\n",
      "Epoch 18/50\n",
      "2243/2243 [==============================] - 4s 2ms/step - loss: 0.2007 - categorical_accuracy: 0.9316 - precision: 0.9385 - recall: 0.9248 - auc: 0.9879 - val_loss: 0.2604 - val_categorical_accuracy: 0.9113 - val_precision: 0.9209 - val_recall: 0.9015 - val_auc: 0.9806\n",
      "\n",
      "Epoch 00018: val_loss did not improve from 0.24176\n",
      "Epoch 19/50\n",
      "2243/2243 [==============================] - 4s 2ms/step - loss: 0.1999 - categorical_accuracy: 0.9323 - precision: 0.9391 - recall: 0.9255 - auc: 0.9880 - val_loss: 0.2402 - val_categorical_accuracy: 0.9210 - val_precision: 0.9292 - val_recall: 0.9113 - val_auc: 0.9833\n",
      "\n",
      "Epoch 00019: val_loss improved from 0.24176 to 0.24016, saving model to best_model.h5\n",
      "Epoch 20/50\n",
      "2243/2243 [==============================] - 4s 2ms/step - loss: 0.1970 - categorical_accuracy: 0.9337 - precision: 0.9406 - recall: 0.9269 - auc: 0.9882 - val_loss: 0.2542 - val_categorical_accuracy: 0.9140 - val_precision: 0.9225 - val_recall: 0.9057 - val_auc: 0.9816\n",
      "\n",
      "Epoch 00020: val_loss did not improve from 0.24016\n",
      "Epoch 21/50\n",
      "2243/2243 [==============================] - 4s 2ms/step - loss: 0.1953 - categorical_accuracy: 0.9335 - precision: 0.9408 - recall: 0.9271 - auc: 0.9884 - val_loss: 0.2781 - val_categorical_accuracy: 0.9037 - val_precision: 0.9128 - val_recall: 0.8938 - val_auc: 0.9783\n",
      "\n",
      "Epoch 00021: val_loss did not improve from 0.24016\n",
      "Epoch 22/50\n",
      "2243/2243 [==============================] - 4s 2ms/step - loss: 0.1923 - categorical_accuracy: 0.9343 - precision: 0.9408 - recall: 0.9279 - auc: 0.9888 - val_loss: 0.2419 - val_categorical_accuracy: 0.9214 - val_precision: 0.9301 - val_recall: 0.9104 - val_auc: 0.9831\n",
      "\n",
      "Epoch 00022: val_loss did not improve from 0.24016\n",
      "Epoch 23/50\n",
      "2243/2243 [==============================] - 4s 2ms/step - loss: 0.1905 - categorical_accuracy: 0.9356 - precision: 0.9425 - recall: 0.9296 - auc: 0.9890 - val_loss: 0.2543 - val_categorical_accuracy: 0.9157 - val_precision: 0.9251 - val_recall: 0.9064 - val_auc: 0.9814\n",
      "\n",
      "Epoch 00023: val_loss did not improve from 0.24016\n",
      "Epoch 24/50\n",
      "2243/2243 [==============================] - 4s 2ms/step - loss: 0.1893 - categorical_accuracy: 0.9354 - precision: 0.9421 - recall: 0.9292 - auc: 0.9891 - val_loss: 0.2476 - val_categorical_accuracy: 0.9163 - val_precision: 0.9237 - val_recall: 0.9076 - val_auc: 0.9822\n",
      "\n",
      "Epoch 00024: val_loss did not improve from 0.24016\n",
      "Epoch 25/50\n",
      "2243/2243 [==============================] - 4s 2ms/step - loss: 0.1868 - categorical_accuracy: 0.9362 - precision: 0.9424 - recall: 0.9301 - auc: 0.9893 - val_loss: 0.2634 - val_categorical_accuracy: 0.9086 - val_precision: 0.9175 - val_recall: 0.8983 - val_auc: 0.9804\n",
      "\n",
      "Epoch 00025: val_loss did not improve from 0.24016\n",
      "Epoch 26/50\n",
      "2243/2243 [==============================] - 4s 2ms/step - loss: 0.1861 - categorical_accuracy: 0.9371 - precision: 0.9434 - recall: 0.9311 - auc: 0.9894 - val_loss: 0.2620 - val_categorical_accuracy: 0.9121 - val_precision: 0.9208 - val_recall: 0.9041 - val_auc: 0.9805\n",
      "\n",
      "Epoch 00026: val_loss did not improve from 0.24016\n",
      "Epoch 27/50\n",
      "2243/2243 [==============================] - 4s 2ms/step - loss: 0.1826 - categorical_accuracy: 0.9378 - precision: 0.9442 - recall: 0.9317 - auc: 0.9898 - val_loss: 0.2566 - val_categorical_accuracy: 0.9138 - val_precision: 0.9224 - val_recall: 0.9041 - val_auc: 0.9811\n",
      "\n",
      "Epoch 00027: val_loss did not improve from 0.24016\n",
      "Epoch 28/50\n",
      "2243/2243 [==============================] - 4s 2ms/step - loss: 0.1814 - categorical_accuracy: 0.9379 - precision: 0.9438 - recall: 0.9321 - auc: 0.9899 - val_loss: 0.2721 - val_categorical_accuracy: 0.9048 - val_precision: 0.9132 - val_recall: 0.8963 - val_auc: 0.9791\n",
      "\n",
      "Epoch 00028: val_loss did not improve from 0.24016\n",
      "Epoch 29/50\n",
      "2243/2243 [==============================] - 4s 2ms/step - loss: 0.1794 - categorical_accuracy: 0.9397 - precision: 0.9454 - recall: 0.9338 - auc: 0.9900 - val_loss: 0.2622 - val_categorical_accuracy: 0.9104 - val_precision: 0.9196 - val_recall: 0.9014 - val_auc: 0.9804\n",
      "\n",
      "Epoch 00029: val_loss did not improve from 0.24016\n",
      "Epoch 30/50\n",
      "2243/2243 [==============================] - 4s 2ms/step - loss: 0.1794 - categorical_accuracy: 0.9392 - precision: 0.9449 - recall: 0.9336 - auc: 0.9900 - val_loss: 0.2664 - val_categorical_accuracy: 0.9082 - val_precision: 0.9163 - val_recall: 0.9005 - val_auc: 0.9799\n",
      "\n",
      "Epoch 00030: val_loss did not improve from 0.24016\n",
      "Epoch 31/50\n",
      "2243/2243 [==============================] - 4s 2ms/step - loss: 0.1774 - categorical_accuracy: 0.9396 - precision: 0.9452 - recall: 0.9343 - auc: 0.9902 - val_loss: 0.2662 - val_categorical_accuracy: 0.9083 - val_precision: 0.9162 - val_recall: 0.9001 - val_auc: 0.9800\n",
      "\n",
      "Epoch 00031: val_loss did not improve from 0.24016\n",
      "Epoch 32/50\n",
      "2243/2243 [==============================] - 4s 2ms/step - loss: 0.1757 - categorical_accuracy: 0.9409 - precision: 0.9462 - recall: 0.9352 - auc: 0.9904 - val_loss: 0.2443 - val_categorical_accuracy: 0.9178 - val_precision: 0.9259 - val_recall: 0.9099 - val_auc: 0.9827\n",
      "\n",
      "Epoch 00032: val_loss did not improve from 0.24016\n",
      "Epoch 33/50\n",
      "2243/2243 [==============================] - 4s 2ms/step - loss: 0.1746 - categorical_accuracy: 0.9410 - precision: 0.9464 - recall: 0.9358 - auc: 0.9906 - val_loss: 0.2756 - val_categorical_accuracy: 0.9060 - val_precision: 0.9143 - val_recall: 0.8954 - val_auc: 0.9786\n",
      "\n",
      "Epoch 00033: val_loss did not improve from 0.24016\n",
      "Epoch 34/50\n",
      "2243/2243 [==============================] - 4s 2ms/step - loss: 0.1731 - categorical_accuracy: 0.9414 - precision: 0.9465 - recall: 0.9359 - auc: 0.9907 - val_loss: 0.2476 - val_categorical_accuracy: 0.9164 - val_precision: 0.9253 - val_recall: 0.9085 - val_auc: 0.9825\n",
      "\n",
      "Epoch 00034: val_loss did not improve from 0.24016\n",
      "Epoch 35/50\n",
      "2243/2243 [==============================] - 4s 2ms/step - loss: 0.1717 - categorical_accuracy: 0.9422 - precision: 0.9472 - recall: 0.9370 - auc: 0.9908 - val_loss: 0.2482 - val_categorical_accuracy: 0.9182 - val_precision: 0.9248 - val_recall: 0.9091 - val_auc: 0.9822\n",
      "\n",
      "Epoch 00035: val_loss did not improve from 0.24016\n",
      "Epoch 36/50\n",
      "2243/2243 [==============================] - 4s 2ms/step - loss: 0.1695 - categorical_accuracy: 0.9429 - precision: 0.9479 - recall: 0.9379 - auc: 0.9910 - val_loss: 0.2598 - val_categorical_accuracy: 0.9131 - val_precision: 0.9206 - val_recall: 0.9046 - val_auc: 0.9810\n",
      "\n",
      "Epoch 00036: val_loss did not improve from 0.24016\n",
      "Epoch 37/50\n",
      "2243/2243 [==============================] - 4s 2ms/step - loss: 0.1679 - categorical_accuracy: 0.9429 - precision: 0.9479 - recall: 0.9378 - auc: 0.9911 - val_loss: 0.2373 - val_categorical_accuracy: 0.9225 - val_precision: 0.9300 - val_recall: 0.9145 - val_auc: 0.9835\n",
      "\n",
      "Epoch 00037: val_loss improved from 0.24016 to 0.23730, saving model to best_model.h5\n",
      "Epoch 38/50\n",
      "2243/2243 [==============================] - 4s 2ms/step - loss: 0.1674 - categorical_accuracy: 0.9430 - precision: 0.9480 - recall: 0.9381 - auc: 0.9912 - val_loss: 0.2507 - val_categorical_accuracy: 0.9154 - val_precision: 0.9228 - val_recall: 0.9092 - val_auc: 0.9822\n",
      "\n",
      "Epoch 00038: val_loss did not improve from 0.23730\n",
      "Epoch 39/50\n",
      "2243/2243 [==============================] - 4s 2ms/step - loss: 0.1676 - categorical_accuracy: 0.9434 - precision: 0.9483 - recall: 0.9387 - auc: 0.9912 - val_loss: 0.2420 - val_categorical_accuracy: 0.9209 - val_precision: 0.9272 - val_recall: 0.9111 - val_auc: 0.9831\n",
      "\n",
      "Epoch 00039: val_loss did not improve from 0.23730\n",
      "Epoch 40/50\n",
      "2243/2243 [==============================] - 4s 2ms/step - loss: 0.1657 - categorical_accuracy: 0.9441 - precision: 0.9489 - recall: 0.9391 - auc: 0.9914 - val_loss: 0.2583 - val_categorical_accuracy: 0.9126 - val_precision: 0.9188 - val_recall: 0.9060 - val_auc: 0.9811\n",
      "\n",
      "Epoch 00040: val_loss did not improve from 0.23730\n",
      "Epoch 41/50\n",
      "2243/2243 [==============================] - 4s 2ms/step - loss: 0.1641 - categorical_accuracy: 0.9448 - precision: 0.9495 - recall: 0.9399 - auc: 0.9915 - val_loss: 0.2486 - val_categorical_accuracy: 0.9169 - val_precision: 0.9243 - val_recall: 0.9097 - val_auc: 0.9824\n",
      "\n",
      "Epoch 00041: val_loss did not improve from 0.23730\n",
      "Epoch 42/50\n",
      "2243/2243 [==============================] - 4s 2ms/step - loss: 0.1623 - categorical_accuracy: 0.9450 - precision: 0.9498 - recall: 0.9403 - auc: 0.9916 - val_loss: 0.2540 - val_categorical_accuracy: 0.9154 - val_precision: 0.9213 - val_recall: 0.9088 - val_auc: 0.9816\n",
      "\n",
      "Epoch 00042: val_loss did not improve from 0.23730\n",
      "Epoch 43/50\n",
      "2243/2243 [==============================] - 4s 2ms/step - loss: 0.1606 - categorical_accuracy: 0.9456 - precision: 0.9503 - recall: 0.9412 - auc: 0.9919 - val_loss: 0.2774 - val_categorical_accuracy: 0.9052 - val_precision: 0.9121 - val_recall: 0.8987 - val_auc: 0.9786\n",
      "\n",
      "Epoch 00043: val_loss did not improve from 0.23730\n",
      "Epoch 44/50\n",
      "2243/2243 [==============================] - 4s 2ms/step - loss: 0.1597 - categorical_accuracy: 0.9462 - precision: 0.9506 - recall: 0.9418 - auc: 0.9919 - val_loss: 0.2447 - val_categorical_accuracy: 0.9189 - val_precision: 0.9253 - val_recall: 0.9118 - val_auc: 0.9828\n",
      "\n",
      "Epoch 00044: val_loss did not improve from 0.23730\n",
      "Epoch 45/50\n",
      "2243/2243 [==============================] - 4s 2ms/step - loss: 0.1577 - categorical_accuracy: 0.9466 - precision: 0.9511 - recall: 0.9418 - auc: 0.9920 - val_loss: 0.2402 - val_categorical_accuracy: 0.9201 - val_precision: 0.9271 - val_recall: 0.9133 - val_auc: 0.9833\n",
      "\n",
      "Epoch 00045: val_loss did not improve from 0.23730\n",
      "Epoch 46/50\n",
      "2243/2243 [==============================] - 4s 2ms/step - loss: 0.1580 - categorical_accuracy: 0.9468 - precision: 0.9512 - recall: 0.9424 - auc: 0.9919 - val_loss: 0.2516 - val_categorical_accuracy: 0.9169 - val_precision: 0.9231 - val_recall: 0.9109 - val_auc: 0.9820\n",
      "\n",
      "Epoch 00046: val_loss did not improve from 0.23730\n",
      "Epoch 47/50\n",
      "2243/2243 [==============================] - 4s 2ms/step - loss: 0.1566 - categorical_accuracy: 0.9473 - precision: 0.9518 - recall: 0.9430 - auc: 0.9921 - val_loss: 0.2538 - val_categorical_accuracy: 0.9144 - val_precision: 0.9224 - val_recall: 0.9064 - val_auc: 0.9819\n",
      "\n",
      "Epoch 00047: val_loss did not improve from 0.23730\n",
      "Epoch 48/50\n",
      "2243/2243 [==============================] - 4s 2ms/step - loss: 0.1537 - categorical_accuracy: 0.9488 - precision: 0.9530 - recall: 0.9445 - auc: 0.9923 - val_loss: 0.2456 - val_categorical_accuracy: 0.9188 - val_precision: 0.9256 - val_recall: 0.9134 - val_auc: 0.9828\n",
      "\n",
      "Epoch 00048: val_loss did not improve from 0.23730\n",
      "Epoch 49/50\n",
      "2243/2243 [==============================] - 4s 2ms/step - loss: 0.1540 - categorical_accuracy: 0.9482 - precision: 0.9526 - recall: 0.9441 - auc: 0.9924 - val_loss: 0.2475 - val_categorical_accuracy: 0.9188 - val_precision: 0.9252 - val_recall: 0.9123 - val_auc: 0.9827\n",
      "\n",
      "Epoch 00049: val_loss did not improve from 0.23730\n",
      "Epoch 50/50\n",
      "2243/2243 [==============================] - 4s 2ms/step - loss: 0.1544 - categorical_accuracy: 0.9478 - precision: 0.9522 - recall: 0.9435 - auc: 0.9924 - val_loss: 0.2543 - val_categorical_accuracy: 0.9160 - val_precision: 0.9227 - val_recall: 0.9079 - val_auc: 0.9819\n",
      "\n",
      "Epoch 00050: val_loss did not improve from 0.23730\n"
     ]
    }
   ],
   "source": [
    "import tensorflow as tf\n",
    "from tensorflow import keras\n",
    "hln = 512\n",
    "BATCH_SIZE=64\n",
    "EPOCHS=50\n",
    "model = tf.keras.Sequential([\n",
    "    keras.layers.Dense(hln, activation='relu',input_shape=(x_train.shape[-1],)),\n",
    "    keras.layers.Dropout(0.5),\n",
    "    tf.keras.layers.Dense(3, activation='softmax')\n",
    "])\n",
    "model.compile(optimizer=keras.optimizers.Adam(learning_rate=1e-3),\n",
    "              loss=tf.keras.losses.CategoricalCrossentropy(from_logits=False),\n",
    "              metrics=[\n",
    "    keras.metrics.CategoricalAccuracy(name='categorical_accuracy'),\n",
    "    keras.metrics.Precision(name='precision'),\n",
    "    keras.metrics.Recall(name='recall'),\n",
    "    keras.metrics.AUC(name='auc')\n",
    "])\n",
    "\n",
    "early_stopping = tf.keras.callbacks.EarlyStopping(\n",
    "    monitor='categorical_accuracy',\n",
    "    verbose=1,\n",
    "    patience=100,\n",
    "    mode='max',\n",
    "    restore_best_weights=True)\n",
    "from time import time\n",
    "start = time()\n",
    "baseline_history = model.fit(\n",
    "    x_train,\n",
    "    tf.one_hot(y_train, 3),\n",
    "    batch_size=BATCH_SIZE,\n",
    "    epochs=EPOCHS,\n",
    "    validation_data=(x_val, tf.one_hot(y_val, depth=3)),\n",
    "    callbacks=[keras.callbacks.ModelCheckpoint(\n",
    "        \"best_model.h5\", save_best_only=True, monitor=\"val_loss\",verbose=1\n",
    "    ),\n",
    "    keras.callbacks.ReduceLROnPlateau(\n",
    "        monitor=\"val_loss\", factor=0.5, patience=20, min_lr=0.0001\n",
    "    ),\n",
    "    keras.callbacks.EarlyStopping(monitor=\"val_loss\", patience=50, verbose=1),])\n",
    "stop = time()-start"
   ]
  },
  {
   "cell_type": "code",
   "execution_count": 25,
   "metadata": {},
   "outputs": [
    {
     "name": "stdout",
     "output_type": "stream",
     "text": [
      "0.9334679071987924\n",
      "[0.21030423045158386, 0.9331281781196594, 0.9390923380851746, 0.9279104471206665, 0.9867308735847473]\n"
     ]
    }
   ],
   "source": [
    "baseline_results\n",
    "prec = baseline_results[2]\n",
    "reca = baseline_results[3]\n",
    "f = 2*(prec*reca)/(prec+reca)\n",
    "print(f)\n",
    "print(baseline_results)\n",
    "print(stop)\n",
    "# model.metrics_names"
   ]
  },
  {
   "cell_type": "code",
   "execution_count": 20,
   "metadata": {},
   "outputs": [],
   "source": [
    "from keras.models import load_model\n",
    "model = load_model(\"../model/best_model.h5\")\n",
    "import pandas as pd\n",
    "test_df = pd.read_csv(\"../test.csv\")\n",
    "y_test = test_df.pop('Class')\n",
    "x_test = test_df\n",
    "from sklearn.preprocessing import MinMaxScaler\n",
    "\n",
    "scaler = MinMaxScaler()\n",
    "\n",
    "x_test = scaler.fit_transform(x_test)\n",
    "import numpy as np\n",
    "x_test = np.array(x_test)\n",
    "y_test = np.array(y_test)\n",
    "# from scripts.utils import *\n",
    "# plt.rcParams[\"figure.facecolor\"] = 'w'\n",
    "# plot_metrics(baseline_history,\"\",hln)\n",
    "# train_predictions_baseline = model.predict(x_train, batch_size=BATCH_SIZE)\n",
    "import tensorflow as tf\n",
    "test_predictions_baseline = model.predict(x_test, batch_size=64)\n",
    "baseline_results = model.evaluate(x_test, tf.one_hot(y_test,depth=3),\n",
    "                                    batch_size=64, verbose=0)\n",
    "# print(baseline_results[1])\n",
    "# plot_cm(tf.one_hot(y_test,depth=3).numpy().argmax(axis=1),test_predictions_baseline.argmax(axis=1),baseline_results,hln,\"All Scored Files\")\n",
    "# date = strftime('%X %x').replace(\"/\",\"\").split()\n",
    "# plt.savefig(\"figures/\"+str(date[1])+\"@\"+str(date[0][:5].replace(\":\",\"\"))+\"_\"+str(hln)+\"neurons_confusion_matrix.png\",bbox_inches='tight',transparent=False)"
   ]
  },
  {
   "cell_type": "code",
   "execution_count": 23,
   "metadata": {},
   "outputs": [
    {
     "data": {
      "text/plain": [
       "['loss', 'categorical_accuracy', 'precision', 'recall', 'auc']"
      ]
     },
     "execution_count": 23,
     "metadata": {},
     "output_type": "execute_result"
    }
   ],
   "source": [
    "model.metrics_names"
   ]
  },
  {
   "cell_type": "code",
   "execution_count": 21,
   "metadata": {},
   "outputs": [
    {
     "data": {
      "text/plain": [
       "[0.20934952795505524,\n",
       " 0.9335295557975769,\n",
       " 0.9382340312004089,\n",
       " 0.9280665516853333,\n",
       " 0.9866018295288086]"
      ]
     },
     "execution_count": 21,
     "metadata": {},
     "output_type": "execute_result"
    }
   ],
   "source": [
    "baseline_results"
   ]
  },
  {
   "cell_type": "code",
   "execution_count": 22,
   "metadata": {},
   "outputs": [
    {
     "name": "stderr",
     "output_type": "stream",
     "text": [
      "/tmp/ipykernel_85188/2879466081.py:32: UserWarning: Matplotlib is currently using pgf, which is a non-GUI backend, so cannot show the figure.\n",
      "  plt.show()\n"
     ]
    },
    {
     "data": {
      "image/png": "[encoded data removed]",
      "text/plain": [
       "<Figure size 518.4x320.4 with 1 Axes>"
      ]
     },
     "metadata": {},
     "output_type": "display_data"
    }
   ],
   "source": [
    "## Plot Metrics Save as PGF\n",
    "from scripts import *\n",
    "import matplotlib as mpl\n",
    "from matplotlib import pyplot as plt\n",
    "history = baseline_history\n",
    "colors = plt.rcParams['axes.prop_cycle'].by_key()['color']\n",
    "mpl.rcParams['figure.figsize'] = (7.2,4.45)\n",
    "metrics = ['loss', 'categorical_accuracy','precision','recall']\n",
    "metric = metrics[3]\n",
    "name = metric.replace(\"_\",\" \").capitalize()\n",
    "plt.plot(history.epoch, history.history[metric], color=colors[0], label='Train')\n",
    "plt.plot(history.epoch, history.history['val_'+metric],\n",
    "            color=colors[1], label='Val')\n",
    "plt.xlabel('Epoch')\n",
    "plt.ylabel(name)\n",
    "if metric == 'loss':\n",
    "    plt.ylim([0, plt.ylim()[1]])\n",
    "elif metric == 'auc':\n",
    "    plt.ylim([0.8,1])\n",
    "else:\n",
    "    plt.ylim([0,1])\n",
    "plt.legend()\n",
    "import matplotlib\n",
    "matplotlib.use(\"pgf\")\n",
    "plt.style.use(\"style.txt\")\n",
    "matplotlib.rcParams.update({\n",
    "    \"pgf.texsystem\": \"xelatex\",\n",
    "    'font.family': 'serif',\n",
    "    'text.usetex': True,\n",
    "    'pgf.rcfonts': False\n",
    "})\n",
    "plt.show()\n",
    "plt.savefig(metric+\".pgf\")\n"
   ]
  },
  {
   "cell_type": "code",
   "execution_count": 23,
   "metadata": {},
   "outputs": [
    {
     "name": "stderr",
     "output_type": "stream",
     "text": [
      "/tmp/ipykernel_85188/3662747112.py:11: UserWarning: Matplotlib is currently using pgf, which is a non-GUI backend, so cannot show the figure.\n",
      "  plt.show()\n"
     ]
    },
    {
     "data": {
      "image/png": "[encoded data removed]",
      "text/plain": [
       "<Figure size 518.4x320.4 with 1 Axes>"
      ]
     },
     "metadata": {},
     "output_type": "display_data"
    }
   ],
   "source": [
    "plot_cm(tf.one_hot(y_test,depth=3).numpy().argmax(axis=1),test_predictions_baseline.argmax(axis=1),baseline_results,hln,\"All Scored Files\")\n",
    "import matplotlib\n",
    "matplotlib.use(\"pgf\")\n",
    "plt.style.use(\"style.txt\")\n",
    "matplotlib.rcParams.update({\n",
    "    \"pgf.texsystem\": \"xelatex\",\n",
    "    'font.family': 'serif',\n",
    "    'text.usetex': True,\n",
    "    'pgf.rcfonts': False\n",
    "})\n",
    "plt.show()\n",
    "plt.savefig(\"cm.pgf\")"
   ]
  }
 ],
 "metadata": {
  "interpreter": {
   "hash": "916dbcbb3f70747c44a77c7bcd40155683ae19c65e1c03b4aa3499c5328201f1"
  },
  "kernelspec": {
   "display_name": "Python 3.8.10 64-bit",
   "name": "python3"
  },
  "language_info": {
   "codemirror_mode": {
    "name": "ipython",
    "version": 3
   },
   "file_extension": ".py",
   "mimetype": "text/x-python",
   "name": "python",
   "nbconvert_exporter": "python",
   "pygments_lexer": "ipython3",
   "version": "3.8.10"
  },
  "orig_nbformat": 4
 },
 "nbformat": 4,
 "nbformat_minor": 2
}
