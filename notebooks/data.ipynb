{
 "metadata": {
  "language_info": {
   "name": "python",
   "version": "3.8.10",
   "mimetype": "text/x-python",
   "codemirror_mode": {
    "name": "ipython",
    "version": 3
   },
   "pygments_lexer": "ipython3",
   "nbconvert_exporter": "python",
   "file_extension": ".py"
  },
  "orig_nbformat": 2,
  "kernelspec": {
   "name": "python3",
   "display_name": "Python 3.8.10 64-bit"
  },
  "metadata": {
   "interpreter": {
    "hash": "916dbcbb3f70747c44a77c7bcd40155683ae19c65e1c03b4aa3499c5328201f1"
   }
  },
  "interpreter": {
   "hash": "916dbcbb3f70747c44a77c7bcd40155683ae19c65e1c03b4aa3499c5328201f1"
  }
 },
 "nbformat": 4,
 "nbformat_minor": 2,
 "cells": [
  {
   "cell_type": "code",
   "execution_count": null,
   "source": [
    "from scripts.utils_2 import *\n",
    "from tensorflow import keras\n",
    "import tensorflow as tf\n",
    "from time import strftime"
   ],
   "outputs": [],
   "metadata": {}
  },
  {
   "cell_type": "code",
   "execution_count": null,
   "source": [
    "## Preprocess\n",
    "for file in os.listdir(\"data/renamed\"):\n",
    "    preprocess(file)"
   ],
   "outputs": [],
   "metadata": {
    "tags": []
   }
  },
  {
   "cell_type": "code",
   "execution_count": null,
   "source": [
    "## Windowing\n",
    "for file in os.listdir(\"data/preprocessed\"):\n",
    "    window(file)"
   ],
   "outputs": [],
   "metadata": {}
  },
  {
   "cell_type": "code",
   "execution_count": null,
   "source": [
    "## Balancing\n",
    "for file in tqdm(os.listdir(\"data/windowed\")):\n",
    "  balance(file)"
   ],
   "outputs": [],
   "metadata": {}
  },
  {
   "cell_type": "code",
   "execution_count": null,
   "source": [
    "accs = []\n",
    "aucs = []\n",
    "fs = []\n",
    "precs = []\n",
    "recs = []\n",
    "dir = \"data/windowed/\"\n",
    "for file in os.listdir(dir):\n",
    "    print(file)\n",
    "    df = pd.read_csv(dir+file)\n",
    "    p,s,w = class_count(df)\n",
    "\n",
    "    test_labels = np.array(df.pop('Class'))\n",
    "\n",
    "    test_features = np.array(df)\n",
    "    model = keras.models.load_model('./model')\n",
    "    BATCH_SIZE=200\n",
    "    hln = 200\n",
    "    test_predictions_baseline = model.predict(test_features, batch_size=BATCH_SIZE)\n",
    "    test_predictions_baseline.argmax(axis=1)\n",
    "    baseline_results = model.evaluate(test_features, tf.one_hot(test_labels,depth=3),\n",
    "                                        batch_size=BATCH_SIZE, verbose=0,return_dict=True)\n",
    "    # plot_cm(tf.one_hot(test_labels,depth=3).numpy().argmax(axis=1),test_predictions_baseline.argmax(axis=1),baseline_results,hln,file)\n",
    "    f = 2*(baseline_results['precision']*baseline_results['recall'])/(baseline_results['precision']+baseline_results['recall'])\n",
    "    accs.append(baseline_results['categorical_accuracy'])\n",
    "    aucs.append(baseline_results['auc'])\n",
    "    fs.append(f)\n",
    "    precs.append(baseline_results['precision'])\n",
    "    recs.append(baseline_results['recall'])\n",
    "\n",
    "    date = strftime('%X %x').replace(\"/\",\"\").split()\n",
    "    plt.savefig(\"figures/\"+str(date[1])+\"@\"+str(date[0][:5].replace(\":\",\"\"))+\"_\"+str(hln)+\"_\"+file.replace(\".csv\",\"\")+\".jpg\",bbox_inches='tight')"
   ],
   "outputs": [],
   "metadata": {
    "tags": []
   }
  },
  {
   "cell_type": "code",
   "execution_count": null,
   "source": [
    "sns.displot(aucs,bins=20,kde=True)\n",
    "sns.displot(accs,bins=20,kde=True)\n",
    "sns.displot(fs,bins=20,kde=True)\n",
    "sns.displot(precs,bins=20,kde=True)\n",
    "sns.jointplot(precs,recs,kind=\"kde\",rug=True)\n",
    "\n",
    "g = sns.JointGrid(precs,recs)\n",
    "g.plot_joint(sns.histplot)\n",
    "g.plot_marginals(sns.boxplot)\n"
   ],
   "outputs": [],
   "metadata": {}
  },
  {
   "cell_type": "code",
   "execution_count": null,
   "source": [],
   "outputs": [],
   "metadata": {}
  },
  {
   "cell_type": "code",
   "execution_count": null,
   "source": [
    "i=0\n",
    "plt.figure(figsize=(50,50)) # specifying the overall grid size\n",
    "import matplotlib.image as mpimg\n",
    "for file in os.listdir('figures'):\n",
    "    img = mpimg.imread(\"figures/\"+file)\n",
    "    plt.subplot(5,5,i+1)    # the number of images in the grid is 5*5 (25)\n",
    "    i=i+1\n",
    "    plt.imshow(img)\n",
    "plt.savefig('out.jpg',dpi=100,bbox_inches='tight')\n",
    "plt.show()"
   ],
   "outputs": [],
   "metadata": {}
  },
  {
   "cell_type": "code",
   "execution_count": null,
   "source": [
    "import matplotlib.pyplot as plt\n",
    "import matplotlib.animation as animation\n",
    "import time\n",
    "\n",
    "fig = plt.figure()\n",
    "ax1 = fig.add_subplot(1,1,1)\n",
    "\n",
    "def animate(i):\n",
    "    df = pd.read_csv(\"data/windowed/2_preprocessed_windowed.csv\")\n",
    "\n",
    "    dataArray = df.iloc\n",
    "    xar = range(100)\n",
    "    yar = df['1'][:1000]\n",
    "    for eachLine in dataArray:\n",
    "        if len(eachLine)>1:\n",
    "            yar.append(df['1'][:100])\n",
    "    ax1.clear()\n",
    "    ax1.plot(xar,yar)\n",
    "ani = animation.FuncAnimation(fig, animate, interval=1000)\n",
    "plt.show()"
   ],
   "outputs": [],
   "metadata": {
    "tags": []
   }
  },
  {
   "cell_type": "code",
   "execution_count": null,
   "source": [],
   "outputs": [],
   "metadata": {}
  }
 ]
}